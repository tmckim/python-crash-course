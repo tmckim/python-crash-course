{
  "nbformat": 4,
  "nbformat_minor": 0,
  "metadata": {
    "colab": {
      "provenance": [],
      "collapsed_sections": [
        "WvGE2jn1XeUt",
        "ar7z_pZpYjz4",
        "Q26_u-WUm9-w",
        "0o3VDCJpvKz6",
        "6gEl6G5up70N",
        "7BG3xNhap8j1",
        "ytbXBuL1ZAaj",
        "lGhaf6SiXSho",
        "RKNbf4cgU602",
        "asSImR0XnaHn",
        "3mPTMR5t9MCK"
      ],
      "toc_visible": true
    },
    "kernelspec": {
      "name": "python3",
      "display_name": "Python 3"
    },
    "language_info": {
      "name": "python"
    }
  },
  "cells": [
    {
      "cell_type": "markdown",
      "source": [
        "<a href=\"https://colab.research.google.com/github/tmckim/python-crash-course/blob/main/PythonCrashCourse_Notebook.ipynb\" target=\"_parent\"><img src=\"https://colab.research.google.com/assets/colab-badge.svg\" alt=\"Open In Colab\"/></a>"
      ],
      "metadata": {
        "id": "C-oOGXSTqesb"
      }
    },
    {
      "cell_type": "markdown",
      "source": [
        "<img src=\"https://upload.wikimedia.org/wikipedia/commons/thumb/f/f8/Python_logo_and_wordmark.svg/2560px-Python_logo_and_wordmark.svg.png\" width=300><br>\n",
        "<font color='#4B8BBE' size=20 >Crash Course  </font>\n",
        "\n",
        "\n",
        "In this notebook, we'll be learning the fundamentals of Python (all of which apply to programming in general!). We'll be working through a dataset of the most streamed Spotify songs compiled in 2023 <img src=\"https://upload.wikimedia.org/wikipedia/commons/8/84/Spotify_icon.svg\" width=20>.\n",
        "\n",
        "\n",
        "____\n",
        "# Learning Objectives 🙋\n",
        "## At the end of today, you'll be able to:\n",
        "* Understand the basic components of a Jupyter notebook 📓\n",
        "* Write and debug basic Python code 🐍\n",
        "* Use functions, loops, conditional statements, and apply programming fundamentals applicable across computing languages 💻\n",
        "* Analyze a dataset using Python libraries built for data science 💭 🧠\n",
        "* Learn and discuss best practices for data visualization to communicate your results 📢 📈\n",
        "\n",
        "**<font color=\"red\" size=4> IMPORTANT: This notebook is READ-ONLY. To edit and run this notebook, follow the steps in the next section.</font>**"
      ],
      "metadata": {
        "id": "f2iDThVbrZOK"
      }
    },
    {
      "cell_type": "markdown",
      "source": [
        "____\n",
        "## 💾 Before you start - Save this notebook!\n",
        "\n",
        "When you open a new Colab notebook from the WebCampus (like you hopefully did for this one), you cannot save changes. So it's  best to store the Colab notebook in your personal drive `\"File > Save a copy in drive...\"` **before** you do anything else.\n",
        "\n",
        "The file will open in a new tab in your web browser, and it is automatically named something like: \"**CopyofPythonCrashCourse_Notebook.ipynb**\". You can rename this to just the title of the assignment \"**PythonCrashCourse_Notebook.ipynb**\". Make sure you do keep an informative name (like the name of the assignment) to help you be able to come back to this after you complete this part of the assignment.\n",
        "\n",
        "**Where does the notebook get saved in Google Drive?**\n",
        "\n",
        "By default, the notebook will be copied to a folder called “Colab Notebooks” at the root (home) directory of your Google Drive.\n",
        "\n",
        "___"
      ],
      "metadata": {
        "id": "jlouEmW6qmE6"
      }
    },
    {
      "cell_type": "markdown",
      "source": [
        "---\n",
        "# Pre-Workshop Survey on Coding Background & Attitudes\n",
        "\n",
        "Survey [link](https://forms.gle/wjgqJFrBehxLm8YT9\n",
        ")\n",
        "\n",
        "Please complete this short survey prior to the start of the session. All responses are anonymous.\n",
        "_____"
      ],
      "metadata": {
        "id": "jQEuFdlWSgaS"
      }
    },
    {
      "cell_type": "markdown",
      "source": [
        "# Section 0: Python 🐍  & Colab 📓\n",
        "\n",
        "Welcome to Google Colab! We'll be working in Colab for this introductory Python course.\n",
        "\n",
        "</br>\n",
        "</br>\n",
        "<img src=\"https://miro.medium.com/max/986/1*pimj8lXWwZnqLs2xVCV2Aw.png\" width=500>\n",
        "</br>\n",
        "</br>\n",
        "\n",
        "\n",
        "## What is Colab?\n",
        "Colab is a browser-based environment - you can develop, run, and share code directly on your browser without having to install any software or libraries on your computer. Additionally, code written and run from colab runs on google's cloud computers, so you aren't limited by your laptop's speed or compute power. 📶\n",
        "\n",
        "</br>\n",
        "\n",
        "**<font color='red'>Note: One downside of Colab is that if you turn off your computer, are idle, or refresh the page, your current runtime is lost. You will need to run the notebook from the beginning in order to redo any variables, functions, or operations you have performed.</br></br> You can more easily rerun your notebook by clicking Runtime>>Run all, or Runtime>>Run before at the top of the page. This will attempt to run all of your current cells (until one gets an error) or  all of the cells above the current cell your cursor is on. </font>**\n",
        "\n",
        "</br>\n",
        "\n",
        "\n",
        "Colab can be especially helpful for data science tasks, because it gives you a space to write code, generate/view graphs, and organize your thought process.  For those of you who have used jupyter before, colab acts a simple browser-based jupyter notebook. We'll be using colab with Python, but colab can be used with a variety of different coding languages.\n",
        "\n",
        "</br>\n",
        "\n",
        "A Colab notebook (a file like this one) consists of cells, snippets of code or text that you can create, edit, and move around to keep things organized. These cells can be:\n",
        "\n",
        "*   **text cells** 🔠\n",
        "<br>or<br>\n",
        "*   **code cells** 💻\n",
        "\n",
        "You can **double click** <img src='https://miro.medium.com/v2/resize:fit:280/0*oa0XcvM99Y5clDsj.png' alt='mouse cursor images' height='25px'>\n",
        "on a cell in order\n",
        "to edit it.\n",
        "\n",
        "</br>\n",
        "\n",
        "\n"
      ],
      "metadata": {
        "id": "USjEuLQxl3Ym"
      }
    },
    {
      "cell_type": "markdown",
      "source": [
        "## Text Cells"
      ],
      "metadata": {
        "id": "AX06W4dFhklf"
      }
    },
    {
      "cell_type": "markdown",
      "source": [
        "\n",
        "\n",
        "This is a **text cell**. You can **double-click** to edit this cell. Text cells\n",
        "use markdown syntax. To learn more, see the [markdown\n",
        "guide](/notebooks/markdown_guide.ipynb).\n",
        "\n",
        "You can format text cells by **changing** `the` *font*,  adding:\n",
        "1.   Numbered lists, or\n",
        "*   Bullet points\n",
        "\n",
        "\n",
        "You can even add HTML to your text cells to embed images or add other fun effects.\n",
        "\n",
        "\n",
        "<img src = \"https://freesvg.org/img/icon-html.png\" width=100>\n",
        "\n",
        "\n",
        "You can also add math to text cells using [LaTeX](http://www.latex-project.org/)\n",
        "to be rendered by [MathJax](https://www.mathjax.org). Just place the statement\n",
        "within a pair of **\\$** signs. For example `$\\sqrt{3x-1}+(1+x)^2$` becomes\n",
        "$\\sqrt{3x-1}+(1+x)^2.$ <br><br>\n",
        "To insert a text cell, click on a cell on the page and then click the \"+ Text\" button at the top. Or scroll to the middle of the notebook page before/after a cell and you should see these options appear: <br>\n",
        "<img src=\"https://github.com/tmckim/python-crash-course/blob/main/imgs/ColabAddCodeTextImg.png?raw=1\"/>\n",
        "\n",
        "\n",
        "This will make a text cell directly above or below the cell you are on.\n"
      ],
      "metadata": {
        "id": "0aH6mtO-hYxr"
      }
    },
    {
      "cell_type": "markdown",
      "source": [
        "## 🧘  0.0 Exercise\n"
      ],
      "metadata": {
        "id": "i37UP8ARtIP_"
      }
    },
    {
      "cell_type": "markdown",
      "source": [
        "\n",
        "Make a text cell below this one.\n",
        "\n",
        "In your text cell:\n",
        "\n",
        "1.   Write a one sentence description about yourself, and why you chose to take this workshop.\n",
        "2.   Write a list of 3 small tasks you would like to be able to accomplish with Python/colab after today.\n",
        "3. Using the HTML syntax ```<img src=\"INSERT IMAGE HTML\"> ```, embed the image hosted at:\n",
        "\n",
        "  ```  https://imgs.xkcd.com/comics/future_self.png ```\n",
        "\n",
        "\n"
      ],
      "metadata": {
        "id": "HGz3Q0WYXNiV"
      }
    },
    {
      "cell_type": "markdown",
      "source": [
        "## Code Cells\n"
      ],
      "metadata": {
        "id": "x7T9TH_6hTaH"
      }
    },
    {
      "cell_type": "markdown",
      "source": [
        "Colab notebooks also consist of **coding cells**, cells that have executable code written in them.\n",
        "\n",
        "To run a coding cell, either:\n",
        "1. hover over the cell and click the \"play\" ▶ arrow that appears on the left upper corner\n",
        "2. Or click into the cell and then press Ctrl+Enter (or Shift+Return).\n",
        "\n",
        "You should see a check mark if the cell runs successfully ✔.\n",
        "\n",
        "Coding cells can look like the following, where you can see raw code and comments (anything after the #hashtag). <br>\n",
        "\n",
        ">**Task:** Run this cell!"
      ],
      "metadata": {
        "id": "r4HBK2Xqk7PR"
      }
    },
    {
      "cell_type": "code",
      "source": [
        "n_sections = 10\n",
        "# This is a comment! When there is a # before a line in a coding cell,\n",
        "# python will ignore that line of code, rather than trying to run it.\n",
        "n_exercises_per_section = 3\n",
        "\n",
        "'''\n",
        "You can also\n",
        "write longer\n",
        "comments\n",
        "by using\n",
        "this syntax.\n",
        "'''\n",
        "\n",
        "print(\"Number of exercises in this notebook:\", n_sections*n_exercises_per_section)"
      ],
      "metadata": {
        "id": "g3od8zM4oO-j"
      },
      "execution_count": null,
      "outputs": []
    },
    {
      "cell_type": "markdown",
      "source": [
        "Cells can also look like the following where you can hide code by adding the following line to the top of your page.\n",
        "\n",
        "`# @title TITLE GOES HERE `.<br>\n",
        "\n",
        "You can click on the arrow **>** at the top left to show the code or on <font color='blue'>`Show code`</font>. You can still run hidden code cells by pushing \"play\" ▶, or clicking into the cell and typing Ctrl+Enter. To hide the code once more, double click on the text part of the cell."
      ],
      "metadata": {
        "id": "9nyrRkr7k-Ml"
      }
    },
    {
      "cell_type": "code",
      "source": [
        "#@title Hidden Code Example\n",
        "\n",
        "n_sections = 10\n",
        "n_exercises_per_section = 3\n",
        "print(\"Number of exercises in this notebook:\", n_sections*n_exercises_per_section)"
      ],
      "metadata": {
        "cellView": "form",
        "id": "eawADZpUlMbk"
      },
      "execution_count": null,
      "outputs": []
    },
    {
      "cell_type": "markdown",
      "source": [
        "## 🏃 0.1 Coding Exercise\n",
        "\n"
      ],
      "metadata": {
        "id": "xB6dwu2VtJUu"
      }
    },
    {
      "cell_type": "markdown",
      "source": [
        "Fill in the following code cell and run it.\n",
        "\n"
      ],
      "metadata": {
        "id": "v-rvWsuGXQbm"
      }
    },
    {
      "cell_type": "code",
      "source": [
        "breakfast_yesterday = \"coffee\" ### REPLACE WITH YOUR CODE HERE ###\n",
        "lunch_yesterday = \"chicken salad\" ### REPLACE WITH YOUR CODE HERE ###\n",
        "print(\"I had \", breakfast_yesterday, \" for breakfast\",\n",
        "      \"and \", lunch_yesterday, \" for lunch.\")"
      ],
      "metadata": {
        "id": "x-R7toMPoqfy"
      },
      "execution_count": null,
      "outputs": []
    },
    {
      "cell_type": "markdown",
      "source": [
        "## 🏋 0.2 Coding Exercise"
      ],
      "metadata": {
        "id": "xNDrYyTbtLb1"
      }
    },
    {
      "cell_type": "markdown",
      "source": [
        "Delete the text cell below, and replace it with a code cell that prints [every programmer's first words](https://slate.com/technology/2019/10/hello-world-history-programming.html):\n",
        "\n",
        "\"Hello, world!\""
      ],
      "metadata": {
        "id": "GTPJqG6IXd4r"
      }
    },
    {
      "cell_type": "markdown",
      "source": [
        "**DELETE ME!**"
      ],
      "metadata": {
        "id": "1oMnCy_VXotp"
      }
    },
    {
      "cell_type": "markdown",
      "metadata": {
        "id": "ouCqGc10ZbFu"
      },
      "source": [
        "---\n",
        "# Section 1: Setup and import files 🧰 🛠\n",
        "\n",
        "There are several steps we need to do to access the dataset before we can load the file:\n",
        "1. Copy the data file to working memory to run in this notebook\n",
        "2. Check that we have it available to us<br>\n",
        "\n",
        "Other options (backup if the above doesn't work):\n",
        "1. Mount our gdrive (connect to this notebook)\n",
        "2. Fetch the data file from my github repository\n",
        "3. Change into our directory where the file is located\n"
      ]
    },
    {
      "cell_type": "markdown",
      "source": [
        "We will start by downloading the data file (`spotify-2023-clean.csv`) to access for today.\n",
        "\n",
        ">**Task:** Run the cell below. If it works, you should see text that looks like this:\n",
        "</br><br>\n",
        "<img src=\"https://github.com/tmckim/python-crash-course/blob/main/imgs/wget_filesuccess.png?raw=1\"/>\n"
      ],
      "metadata": {
        "id": "lngrKUrTWqLf"
      }
    },
    {
      "cell_type": "code",
      "source": [
        "### RUN THIS CELL ###\n",
        "!wget --no-check-certificate 'https://docs.google.com/uc?export=download&id=1hv66NjJSa98UUVsbEppZjtOCInmbbRES' -O spotify-2023-clean.csv"
      ],
      "metadata": {
        "id": "L41cvUd4_npw"
      },
      "execution_count": null,
      "outputs": []
    },
    {
      "cell_type": "markdown",
      "source": [
        "> **Task:** On the left side of the Colab window, click the 📁 icon, and double click on your files to see what the raw data looks like. You should see a file called `spotify-2023-clean.csv`."
      ],
      "metadata": {
        "id": "W2ausDL71uIr"
      }
    },
    {
      "cell_type": "markdown",
      "source": [
        "**^ If this was not successful for you, please let us know and we will help troubleshoot!**"
      ],
      "metadata": {
        "id": "TB-EoM2jXu0r"
      }
    },
    {
      "cell_type": "markdown",
      "source": [
        "## Backup Import of Files From Github- Only needed if above didn't work ^^ 🤞\n",
        "\n",
        "If the above worked, please skip these steps. If it didn't work, try this out and let us know!"
      ],
      "metadata": {
        "id": "WvGE2jn1XeUt"
      }
    },
    {
      "cell_type": "code",
      "source": [
        "#@title Backup Solution - Step 1\n",
        "# Step 1: Setup and add files needed to access gdrive\n",
        "from google.colab import drive                                   # these lines mount your gdrive to access the files we import below\n",
        "drive.mount('/content/gdrive', force_remount=True)"
      ],
      "metadata": {
        "id": "Zr2ocdIurJjT",
        "cellView": "form"
      },
      "execution_count": null,
      "outputs": []
    },
    {
      "cell_type": "code",
      "source": [
        "#@title Backup Solution - Step 2:4\n",
        "# Step 2: Make a folder to store the files\n",
        "!mkdir -p '/content/gdrive/My Drive/PythonCrashCourseMaterials/'\n",
        "\n",
        "# Step 3: Change directory to the correct location in gdrive (modified way to do this from before)\n",
        "import os\n",
        "os.chdir('/content/gdrive/My Drive/PythonCrashCourseMaterials/')\n",
        "\n",
        "# Step 4: These lines clone (copy) all the files you will need from where I store the code+data for the course (github)\n",
        "# Second part of the code copies the files to this location and folder in your own gdrive\n",
        "!git clone https://github.com/tmckim/python-crash-course/ '/content/gdrive/My Drive/PythonCrashCourseMaterials/'"
      ],
      "metadata": {
        "cellView": "form",
        "id": "SQr-gu6IVv59"
      },
      "execution_count": null,
      "outputs": []
    },
    {
      "cell_type": "code",
      "source": [
        "#@title Backup Solution - Step 5\n",
        "# Step 5\n",
        "# Change directory into the folder where the resources for this assignment are stored in gdrive\n",
        "os.chdir('/content/gdrive/My Drive/PythonCrashCourseMaterials/')"
      ],
      "metadata": {
        "cellView": "form",
        "id": "GcKoPHyiVxmG"
      },
      "execution_count": null,
      "outputs": []
    },
    {
      "cell_type": "markdown",
      "source": [
        "## Backup of the Backup - Only needed if BOTH of the above didn't work ^^ 😅"
      ],
      "metadata": {
        "id": "ar7z_pZpYjz4"
      }
    },
    {
      "cell_type": "markdown",
      "source": [
        "If all of the above fails, please follow this [link](https://drive.google.com/file/d/1hv66NjJSa98UUVsbEppZjtOCInmbbRES/view?usp=sharing) to download the data file locally to your computer. You can then navigate to the 📁 icon on the left and drag and drop the file there for access.\n"
      ],
      "metadata": {
        "id": "Ivta_-lLZC6n"
      }
    },
    {
      "cell_type": "markdown",
      "source": [
        "## 📚 Python Libraries\n",
        "\n",
        "Python comes with many useful built in classes and functions - lists, dictionaries, counters, and their associated functions, are some examples. You can accomplish many simple tasks using native Python code.\n",
        "\n",
        "</br>\n",
        "<img src=\"https://cdn.pixabay.com/photo/2016/03/26/22/21/books-1281581_960_720.jpg\" width=600>\n",
        "</br>\n",
        "\n",
        "However, just like in many computer languages, the beauty of Python is that other people have spent much time developing useful code that they have tested robustly and wish to share with others. These are called libraries or packages.  We can import popular packages into the Python/Colab environment and if the package has not already been installed on our version of Python, we can easily install the package and use it.\n",
        "\n",
        "(In Colab, or in a linux environment if you run Python locally, we can easily install new packages using ```!pip install [PYTHON PACKAGE]```)\n",
        "\n",
        "For this Colab notebook we will be working with four packages that typically come pre-installed on most versions of Python. They are:\n",
        "\n",
        "- **numpy**: A library for working with numerical lists, called arrays\n",
        "- **pandas**: A library for working with two dimenional lists, called dataframes\n",
        "- **matplotlib**: A package for plotting, commonly used in tandem with numpy and pandas\n",
        "- **seaborn**: A package for plotting, commonly used in tandem with pandas\n",
        "\n",
        "</br><img src=\"https://miro.medium.com/max/765/1*cyXCE-JcBelTyrK-58w6_Q.png\" width=200> <img src=\"https://upload.wikimedia.org/wikipedia/commons/thumb/e/ed/Pandas_logo.svg/1200px-Pandas_logo.svg.png\" width=200> </br><img src=\"https://matplotlib.org/stable/_static/logo_dark.svg\" width=200> <img src=\"https://seaborn.pydata.org/_images/logo-wide-lightbg.svg\" width=200> </br></br>\n",
        "We can import these libraries (or certain classes/functions from these libraries) into our local runtime using the following code. The nicknames I used (np, plt, np, ans sns) are pretty standard nicknames that most Python programmers use, though you could use anything.\n",
        "\n",
        "\n",
        ">**Task:** Run the following cell to import the relevant libraries.\n"
      ],
      "metadata": {
        "id": "EoaaH4EBxGxM"
      }
    },
    {
      "cell_type": "code",
      "source": [
        "### RUN THIS CELL ###\n",
        "# Import our plotting package from matplotlib and shorten it to plt\n",
        "import matplotlib.pyplot as plt\n",
        "\n",
        "# Specify that all plots will happen inline & in high resolution\n",
        "%matplotlib inline\n",
        "%config InlineBackend.figure_format = 'retina'\n",
        "\n",
        "# Import pandas for working with databases and shorten it to pd\n",
        "import pandas as pd\n",
        "\n",
        "# Import numpy and shorten it to np\n",
        "import numpy as np\n",
        "\n",
        "# Import plotting package seaborn and shorten to sns\n",
        "import seaborn as sns\n",
        "\n",
        "# Print statement to confirm\n",
        "print('Packages imported!')"
      ],
      "metadata": {
        "id": "f1MikF1-rTDy"
      },
      "execution_count": null,
      "outputs": []
    },
    {
      "cell_type": "markdown",
      "source": [
        ">**Task:** Run this cell to set formating options. These can be changed according to your preferences."
      ],
      "metadata": {
        "id": "ASCfjnAtYMQM"
      }
    },
    {
      "cell_type": "code",
      "source": [
        "### RUN THIS CELL ###\n",
        "# We want to see all the columns/rows in the dataset\n",
        "pd.set_option('display.max_columns', None)\n",
        "pd.set_option('display.max_rows', None)\n",
        "pd.options.display.float_format = '{:.1f}'.format  # don't use scientific notation"
      ],
      "metadata": {
        "id": "yNJMOnN79OT3"
      },
      "execution_count": null,
      "outputs": []
    },
    {
      "cell_type": "markdown",
      "source": [
        "## 📫 Importing Data\n",
        "\n",
        "Read the file from the colab files into your runtime. There are several options for reading a file in, but we will use the `pandas` package (which we imported as `pd`): <br>\n",
        "*   pandas ```read_table()``` or ```read_csv()``` function, which reads a file with multiple data types into a dataframe.\n"
      ],
      "metadata": {
        "id": "hWQCieaKxr56"
      }
    },
    {
      "cell_type": "code",
      "source": [
        "### RUN THIS CELL ###\n",
        "## Import file (cleaned up)\n",
        "spotify = pd.read_csv('spotify-2023-clean.csv')\n",
        "print('data imported!')"
      ],
      "metadata": {
        "id": "5IfF8kg1l_hk"
      },
      "execution_count": null,
      "outputs": []
    },
    {
      "cell_type": "code",
      "source": [
        "### RUN THIS CELL ###\n",
        "## Type the name of the dataframe to view it\n",
        "spotify"
      ],
      "metadata": {
        "id": "XymDzzg00BhH"
      },
      "execution_count": null,
      "outputs": []
    },
    {
      "cell_type": "code",
      "source": [
        "### RUN THIS CELL ###\n",
        "## Another quick preview of variables\n",
        "spotify.info()"
      ],
      "metadata": {
        "id": "y55rI2ErvzMr"
      },
      "execution_count": null,
      "outputs": []
    },
    {
      "cell_type": "markdown",
      "source": [
        "We have 953 rows (observations) and 24 columns. In the column labeled `Column`, the names of each column are listed and it shows how many non-null values are present, meaning how much data there is. Any difference between this number and the total number of entries (953 shown at the top) indicates there is missing data. <br><br>\n",
        "The last column `Dtype` tells us what type of data you have in each column. You can see here that many are numbers and have no decimals (`int64`) or have decimal values (`float64`). Note that some of our columns that have strings or text values are right now labeled as `object` (first entry). We will adjust this along the way to make sure they are strings."
      ],
      "metadata": {
        "id": "KsdhPClsfkss"
      }
    },
    {
      "cell_type": "markdown",
      "source": [
        "We can see that we do have missing data here. Particularly note these 3 columns: `streams`, `in_shazam_charts`, and `key`.  If you go back up and review the table, you will see that missing values are labeled with `NaN`, which stands for `Not a Number`. This is typically a common naming convention to use, and you will see it across datasets. We will discuss this more as we go, and ultimately, when working datasets that have NaNs, you will need to make some decisions on what you do with this data."
      ],
      "metadata": {
        "id": "BHjOwnuWMGdJ"
      }
    },
    {
      "cell_type": "markdown",
      "source": [
        "##  📉 Show me the data\n",
        "\n",
        "I know that you don't know much yet about the data, but let's see if you can make some predictions. Who do you think might be among the top artists as of 2023? Let's see if you were right!\n",
        "\n",
        ">**Task:** Run the cell below to see the answer. Notice that it only takes 13 lines of code to produce our plot. By the end of today, you will be able to understand what this all means- woot! 🙌\n",
        "<br><br>\n",
        "\n",
        "And the award 🏆 for the most songs in our dataset goes to 🥁🥁🥁🥁 ....."
      ],
      "metadata": {
        "id": "XRlwDn3WyD8z"
      }
    },
    {
      "cell_type": "code",
      "source": [
        "### RUN THIS CELL ###\n",
        "\n",
        "# set a theme for consistency and format\n",
        "sns.set_theme(style=\"ticks\", font_scale=1.25)                  # set the theme we want in seaborn (sns) - always start with this- only need to do once\n",
        "\n",
        "# This takes the data out of the larger dataset that we need\n",
        "artist_counts = spotify['artist_name'].value_counts()\n",
        "artist_plot = artist_counts.head(15)\n",
        "\n",
        "# Set this text for the plot- easiest to edit here as needed\n",
        "x_label_name = 'Artist Name'                                   # x-axis label text\n",
        "y_label_name = 'Number of Songs'                               # y-axis label text\n",
        "plot_title = 'Top 15 Artists With Most Songs'                  # plot title text\n",
        "\n",
        "# Example of barplot\n",
        "ax = sns.barplot(x = artist_plot.index, y = artist_plot, hue = artist_plot, palette = 'flare')    # this is the main plotting code\n",
        "\n",
        "# Adjustment + aesthetics of plot\n",
        "ax.figure.set_size_inches(6.5, 4.5)                            # this sets the size and we will use to be consistent across all plots below\n",
        "sns.despine()                                                  # remove top and right axes (w/o this, full box border)\n",
        "plt.xlabel(x_label_name)                                       # use matplotlib (plt) to adjust the x axis on this one\n",
        "plt.ylabel(y_label_name)                                       # use matplotlib (plt) to adjust the y axis on this one\n",
        "plt.xticks(rotation=45,ha='right')                             # Rotate x-axis labels for better readability\n",
        "plt.title(plot_title, y=1.1)                                   # add a title so we know what we plotted!\n",
        "plt.ylim(0,40);                                                # use matplotlib (plt) to adjust the y axis limits"
      ],
      "metadata": {
        "id": "8gJsziHVyw0N"
      },
      "execution_count": null,
      "outputs": []
    },
    {
      "cell_type": "markdown",
      "source": [
        "Did you guess it would be Taylor Swift?\n",
        "\n",
        "<img src=\"https://images.seattletimes.com/wp-content/uploads/2023/07/07222023_swift_210501.jpg?d=768x546\" width=200>\n",
        "</br>"
      ],
      "metadata": {
        "id": "4y8H5PMSjZIx"
      }
    },
    {
      "cell_type": "markdown",
      "source": [
        "## 🎶 Most Streamed Spotify Songs from 2023 Dataset 🎹\n",
        "\n",
        "The data was downloaded from [kaggle](https://www.kaggle.com/datasets/nelgiriyewithana/top-spotify-songs-2023) and has\n",
        "24 columns: <br><br>\n",
        "`track_name`: string, the title or name of the song <br>\n",
        "`artist(s)_name`: string, the name of the artist or group responsible for creating the song\n",
        "<br>\n",
        "`artist_count`: int, number of artists contributing to the song\n",
        "<br>\n",
        "`released_year`: int, the year when the song was released\n",
        "<br>\n",
        "`released_month`: int, the month when the song was released\n",
        "<br>\n",
        "`released_day`: int, the day of the month when the song was released\n",
        "<br>\n",
        "`in_spotify_playlists`: int, the number of Spotify playlists the song is included in\n",
        "<br>\n",
        "`in_spotify_charts`: int, the number to indicate presence and rank of the song on Spotify charts\n",
        "<br>\n",
        "`streams`: int, total number of streams on Spotify (ranges from thousands to billions)\n",
        "<br>\n",
        "`in_apple_playlists`: int, the number of Apple Music playlists the song is included in\n",
        "<br>\n",
        "`in_apple_charts`: int, the number to indicate presence and rank of the song on Apple Music charts\n",
        "<br>\n",
        "`in_deezer_playlists`: int, the number of Deezer  playlists the song is included in\n",
        "<br>\n",
        "`in_deezer_charts`: int, the number to indicate presence and rank of the song on Deezer charts\n",
        "<br>\n",
        "`in_shazam_charts`: int, the number to indicate presence and rank of the song on Shazam charts\n",
        "<br>\n",
        "`bpm`: int, beats per minute (bpm); a measure to indicate song tempo\n",
        "<br>\n",
        "`key`: string, key of the song\n",
        "<br>\n",
        "`mode`: string, mode of the song (major or minor)\n",
        "<br>\n",
        "`danceability_%`: int, percentage indicating how suitable the song is for dancing\n",
        "<br>\n",
        "`valence_%`: int, percentage indicating positivity of the song's musical content\n",
        "<br>\n",
        "`energy_%`: int, percentage indicating the perceived energy level of the song\n",
        "<br>\n",
        "`acousticness_%`: int, percentage indicating the amount of acoustic sound in the song\n",
        "<br>\n",
        "`instrumentalness_%`: int, percentage indicating the amount of instrumental content in the song\n",
        "<br>\n",
        "`liveness_%`: int, percentage indicating the prescence of live performance elements\n",
        "<br>\n",
        "`speechiness_%`: int, percentage indicating the amount of spoken words in the song"
      ],
      "metadata": {
        "id": "V2ufx-F01Q6Z"
      }
    },
    {
      "cell_type": "markdown",
      "source": [
        "Explore the first and last 5 rows using `head` and `tail`"
      ],
      "metadata": {
        "id": "Ams_S4N22Uw7"
      }
    },
    {
      "cell_type": "code",
      "source": [
        "### RUN THIS CELL ###\n",
        "spotify.head()"
      ],
      "metadata": {
        "id": "iKxsseV80B4U"
      },
      "execution_count": null,
      "outputs": []
    },
    {
      "cell_type": "code",
      "source": [
        "### RUN THIS CELL ###\n",
        "spotify.tail()"
      ],
      "metadata": {
        "id": "-NlE3Jqw2BEd"
      },
      "execution_count": null,
      "outputs": []
    },
    {
      "cell_type": "markdown",
      "source": [
        "---\n",
        "# Section 2: Variables and Data Types 🔠 🔢\n",
        "\n",
        "<img src=\"https://github.com/tmckim/python-crash-course/blob/main/imgs/PythonDataTypes.png?raw=1\"/>\n",
        "<br>\n",
        "\n",
        "Image [source](https://www.linkedin.com/pulse/data-types-variables-expressions-python-anubhav-kumar/)"
      ],
      "metadata": {
        "id": "PXb2DdWLms0V"
      }
    },
    {
      "cell_type": "markdown",
      "source": [
        "Sometimes we might want to keep track of a how a value is changing over time, or refer to a value over and over again. A **variable** is a container for values or data. Variables can be referenced later on, or changed over time.\n",
        "\n",
        "\n",
        "In Python, a variable is created the moment we *assign* a value to it.  In the following code, we are creating a **variable** ```my_favorite_number``` that holds the value ```42```.\n",
        "\n",
        ">**Task:** Review the code below as we walk through it, and run each cell."
      ],
      "metadata": {
        "id": "vN8c8_RRq3HL"
      }
    },
    {
      "cell_type": "code",
      "source": [
        "# assignment statement: assign the value 42 to my_favorite_number\n",
        "my_favorite_number = 42"
      ],
      "metadata": {
        "id": "mHUo7FH7dIUU"
      },
      "execution_count": null,
      "outputs": []
    },
    {
      "cell_type": "markdown",
      "source": [
        "We can then reference the variable later on:"
      ],
      "metadata": {
        "id": "C0x4z_ggdLOE"
      }
    },
    {
      "cell_type": "code",
      "source": [
        "# Show me the number\n",
        "print(my_favorite_number)"
      ],
      "metadata": {
        "id": "Zadu2FqOdKzU"
      },
      "execution_count": null,
      "outputs": []
    },
    {
      "cell_type": "markdown",
      "source": [
        "Use the current value of the data in another variable:"
      ],
      "metadata": {
        "id": "vIfHwiLldQD7"
      }
    },
    {
      "cell_type": "code",
      "source": [
        "# Arithmetic operations\n",
        "another_fun_number = my_favorite_number/2"
      ],
      "metadata": {
        "id": "Mx2qqs1bdPes"
      },
      "execution_count": null,
      "outputs": []
    },
    {
      "cell_type": "code",
      "source": [
        "# What should this value be?\n",
        "another_fun_number"
      ],
      "metadata": {
        "id": "j8xqvjLAdbGj"
      },
      "execution_count": null,
      "outputs": []
    },
    {
      "cell_type": "markdown",
      "source": [
        "Or change the value of the variable:"
      ],
      "metadata": {
        "id": "H4zoWTACdeWK"
      }
    },
    {
      "cell_type": "code",
      "source": [
        "# Re-assign the original value\n",
        "my_favorite_number = my_favorite_number/6\n",
        "my_favorite_number"
      ],
      "metadata": {
        "id": "8v9q7ekmddCJ"
      },
      "execution_count": null,
      "outputs": []
    },
    {
      "cell_type": "markdown",
      "source": [
        "From now on, if we use `my_favorite_number`, Python will substitute the value we assigned to it. The variable is just a name for a value. Naming it hopefully helps us remember what we did so we can use it again in the future! <br>\n",
        "In Python, variable names:\n",
        "*   can include letters, digits, and underscores\n",
        "*   cannot start with a digit\n",
        "*   are case sensitive (upper vs. lower case) <br>\n",
        "    Example: `hours_sleep` and `Hours_sleep` are two **different** variables!\n",
        "\n",
        "\n"
      ],
      "metadata": {
        "id": "zISGJ5e9eRyU"
      }
    },
    {
      "cell_type": "markdown",
      "source": [
        "## 🧘 2.0  Coding Exercise\n",
        "\n"
      ],
      "metadata": {
        "id": "1ilMNa-FtPnx"
      }
    },
    {
      "cell_type": "markdown",
      "source": [
        ">**Task**: Run the code below to see our first error! Before you run the cell, think about why this will error based on what we just reviewed."
      ],
      "metadata": {
        "id": "3VBbhruLfxZd"
      }
    },
    {
      "cell_type": "code",
      "source": [
        "# This should error- why?\n",
        "42_fav_number = 42"
      ],
      "metadata": {
        "id": "dMl5Lmjmf-rj"
      },
      "execution_count": null,
      "outputs": []
    },
    {
      "cell_type": "markdown",
      "source": [
        ">**Task**: Edit the code above to fix the variable name so that it works and does not error. Put your code in the cell below."
      ],
      "metadata": {
        "id": "NHmJDnwqgrPf"
      }
    },
    {
      "cell_type": "code",
      "source": [
        "### YOUR CODE HERE ###"
      ],
      "metadata": {
        "id": "9VopOe9gm7JH"
      },
      "execution_count": null,
      "outputs": []
    },
    {
      "cell_type": "code",
      "source": [
        "#@title Example Solution\n",
        "fav_number_42 = 42\n",
        "fav_number_42"
      ],
      "metadata": {
        "cellView": "form",
        "id": "JuzY8OF2gKPr"
      },
      "execution_count": null,
      "outputs": []
    },
    {
      "cell_type": "markdown",
      "source": [
        "As you've just seen, Python can be used as a calculator and you can easily perform many mathematical operations.\n",
        "Numbers fall into two categories, and additionally there are several other **data types**:\n",
        "\n",
        "* **Integers**: These are values like 1, 2, 200, 0, -1, etc. Data of this type in Python are called ```int```.\n",
        "\n",
        "* **Floats**: Floats are numerical values that can take on decimal values as well. Data of this type in Python are called ```float```.\n",
        "\n",
        "* **Strings**: Strings are collections of numbers or letters that make up a word, name or sentence. They are usually declared using quotation marks. ```\"banana\"```, ```\"42\"```, and ```\"42 bananas\"``` are all strings. Data of this type in Python are abbreviated ```str```.\n",
        "\n",
        "* **Booleans**: True or False. In Python, this type is called ```bool```.\n",
        "\n",
        "* **Lists**: Collections of elements that have a distinct order. Python's data type for this is ```list```. (We will get to this in the next section!)\n"
      ],
      "metadata": {
        "id": "mJg3c1TPhv5H"
      }
    },
    {
      "cell_type": "markdown",
      "source": [
        ">**Task**: Run this cell."
      ],
      "metadata": {
        "id": "EtujDapKnJV0"
      }
    },
    {
      "cell_type": "code",
      "source": [
        "### RUN THIS CELL ###\n",
        "an_int = 5\n",
        "a_float = 9.99\n",
        "a_string = 'Hello World!'\n",
        "a_new_string = \"Python Crash Course\"\n",
        "a_bool = True\n",
        "another_bool = 10<7\n",
        "\n",
        "print(an_int)\n",
        "print(a_float)\n",
        "print(a_string)\n",
        "print(a_new_string)\n",
        "print(a_bool)\n",
        "print(another_bool)"
      ],
      "metadata": {
        "id": "3jmRkrd7RHjA"
      },
      "execution_count": null,
      "outputs": []
    },
    {
      "cell_type": "code",
      "source": [
        "#@title Example Solution\n",
        "a_new_string"
      ],
      "metadata": {
        "cellView": "form",
        "id": "iYsSaEopw1UK"
      },
      "execution_count": null,
      "outputs": []
    },
    {
      "cell_type": "markdown",
      "source": [
        "## 🏃 2.1 Coding Exercise\n"
      ],
      "metadata": {
        "id": "7-w-v9KjfDDp"
      }
    },
    {
      "cell_type": "markdown",
      "source": [
        "What will be the values of ```number_a```, ```number_b```, ```string_a``` after the following code is run?\n",
        "\n",
        "\n",
        "```\n",
        "number_a = 42\n",
        "string_a = \"forty two\"\n",
        "number_b = number_a/2\n",
        "number_a = number_a/6\n",
        "```"
      ],
      "metadata": {
        "id": "FGCV60xyUzPy"
      }
    },
    {
      "cell_type": "markdown",
      "source": [
        ">**Task**: Now type this out into a code cell and check if you were correct!"
      ],
      "metadata": {
        "id": "xfDo-uKThkmy"
      }
    },
    {
      "cell_type": "code",
      "source": [
        "### YOUR CODE HERE ###"
      ],
      "metadata": {
        "id": "ukAlX2pTnDqk"
      },
      "execution_count": null,
      "outputs": []
    },
    {
      "cell_type": "code",
      "source": [
        "#@title Example Solution\n",
        "number_a = 42\n",
        "string_a = \"forty two\"\n",
        "number_b = number_a/2\n",
        "number_a = number_a/6\n",
        "print('number_a: ', number_a)\n",
        "print('number_b: ', number_b)\n",
        "print('string_a: ', string_a)\n"
      ],
      "metadata": {
        "id": "Rj_t9yQxVTtI",
        "cellView": "form"
      },
      "execution_count": null,
      "outputs": []
    },
    {
      "cell_type": "markdown",
      "source": [
        "### Tip 👈\n",
        "You can use the `%whos` command at any time to see what variables you have created and what modules you have loaded into the computer's memory."
      ],
      "metadata": {
        "id": "KZdwzIzJjNfg"
      }
    },
    {
      "cell_type": "code",
      "source": [
        "%whos"
      ],
      "metadata": {
        "id": "0Gdu7RlEduGB"
      },
      "execution_count": null,
      "outputs": []
    },
    {
      "cell_type": "markdown",
      "source": [
        "## 🏋 2.2 Coding Exercise"
      ],
      "metadata": {
        "id": "O7xGgP6aSolP"
      }
    },
    {
      "cell_type": "markdown",
      "source": [
        "There is another word for data types in programming - classes. Variables of a specific class are sometimes called objects of that class.\n",
        "\n",
        "In Python you can look at the class of a variable/object using the function [```type()```](https://docs.python.org/3/library/functions.html#type). <br>\n",
        "\n",
        "Print the class types of in the following cell:\n",
        "* the value ```\"abcd1234\"```\n",
        "* the result of ```10 > 9```\n",
        "* the sum of ```2 + 1.5```\n",
        "* whatever ```\"hungry\" + \"hippo\"``` returns\n",
        "* whatever ```\"twenty\" + 7``` returns\n",
        "\n",
        "\n",
        "Hint: One of these should cause Python to throw an error!\n"
      ],
      "metadata": {
        "id": "ap3s0iHASr_G"
      }
    },
    {
      "cell_type": "code",
      "source": [
        "## YOUR CODE HERE ###"
      ],
      "metadata": {
        "id": "0FY026yASrCW"
      },
      "execution_count": null,
      "outputs": []
    },
    {
      "cell_type": "code",
      "source": [
        "#@title Example Solution\n",
        "print(type('abcd1234'))\n",
        "print(type(10 > 9))\n",
        "print(type(2+1.5))\n",
        "print(type(\"hungry\" + \"hippo\"))\n",
        "print('twenty' + 7)\n"
      ],
      "metadata": {
        "cellView": "form",
        "id": "HA_F56mKTSs7"
      },
      "execution_count": null,
      "outputs": []
    },
    {
      "cell_type": "markdown",
      "source": [
        "\n",
        "---\n",
        "\n",
        "# Section 3: Lists 🗒 😀 😉 😆 🤔\n"
      ],
      "metadata": {
        "id": "t0dBFUIPVJGj"
      }
    },
    {
      "cell_type": "markdown",
      "source": [
        "Many times we aren't just going to be working with single values -  we want a way to store multiple values, strings, etc. [Lists](https://docs.python.org/3/tutorial/datastructures.html) are built into python (so we don't have to load a library to use them). We create a list by putting values inside square brackets and separating the values with commas:\n",
        "\n"
      ],
      "metadata": {
        "id": "9qucyToOzU6Q"
      }
    },
    {
      "cell_type": "code",
      "source": [
        "our_first_list = [2,'banana', [1,2,3], np.max, 2.5]\n",
        "type(our_first_list)"
      ],
      "metadata": {
        "id": "aksdO6GNWmDK"
      },
      "execution_count": null,
      "outputs": []
    },
    {
      "cell_type": "markdown",
      "source": [
        "Notice in the above example, the types within the list were hetergeneous. Lists can store elements of different types. In the following examples you will see examples of lists with all the same data types as well."
      ],
      "metadata": {
        "id": "AuM-us6_SC7c"
      }
    },
    {
      "cell_type": "code",
      "source": [
        "### RUN THIS CELL ###\n",
        "# This code will become clear once we review indices in lists below\n",
        "print(type(our_first_list[0])) #2\n",
        "print(type(our_first_list[1])) #'banana'\n",
        "print(type(our_first_list[2])) #[1,2,3] - a list within a list!\n",
        "print(type(our_first_list[3])) #np.max - numpy max function\n",
        "print(type(our_first_list[4])) #2.5"
      ],
      "metadata": {
        "id": "69-0dIBwSUxQ"
      },
      "execution_count": null,
      "outputs": []
    },
    {
      "cell_type": "markdown",
      "source": [
        "## 🧘 3.0  Coding Exercise\n",
        "\n",
        "We just saw that we can initialize a list by using square brackets with elements separated by commas. We  can also initialiize an empty list by using just two square brackets.\n",
        "\n",
        ">**Task:** Fill in the cell below. The first list should contain as many items as you can think of (hint: `brown`, `blue`, `black` will get you started). The second list should be initialized to be empty. <br>\n",
        "\n",
        "Notice it won't produce any output. Based on what you've seen above so far, how can you see what is inside each list? Use the second cell to write your own code to show the output.\n",
        "\n",
        "\n",
        "\n"
      ],
      "metadata": {
        "id": "92P-pzbSuKTT"
      }
    },
    {
      "cell_type": "code",
      "source": [
        "colors_starting_with_b = ### YOUR CODE HERE ###\n",
        "colors_starting_with_k = ### YOUR CODE HERE ###"
      ],
      "metadata": {
        "id": "sgYkYSTbN0OH"
      },
      "execution_count": null,
      "outputs": []
    },
    {
      "cell_type": "code",
      "source": [
        "### YOUR CODE HERE ###"
      ],
      "metadata": {
        "id": "uFGI4RcMn6Jv"
      },
      "execution_count": null,
      "outputs": []
    },
    {
      "cell_type": "code",
      "source": [
        "#@title Example Solution\n",
        "colors_starting_with_b = ['brown', 'blue', 'beige', 'black']\n",
        "colors_starting_with_k = []\n",
        "print(colors_starting_with_b)\n",
        "print(colors_starting_with_k)"
      ],
      "metadata": {
        "cellView": "form",
        "id": "pMj5FEcZXPS-"
      },
      "execution_count": null,
      "outputs": []
    },
    {
      "cell_type": "markdown",
      "source": [
        "## Indexing ❗\n",
        "\n",
        "Now a few new list concepts: We can reference a specific element in a list by using square brackets and the index of the element. Note that Python starts indexing at 0! The first element is element 0, the second element is element 1, etc. (Now do you understand why this notebook is numbered the way it is? 🙂)."
      ],
      "metadata": {
        "id": "xrRV4IFfzfCV"
      }
    },
    {
      "cell_type": "markdown",
      "source": [
        "## 🏃 3.1 Coding Exercise\n",
        "\n",
        ">**Task:** BEFORE you run the cell below, predict what you think the output will be - Don't peek yet! 🙈 This is a good check of your understanding so far. Run the cell and add your own code to preview the output."
      ],
      "metadata": {
        "id": "pxLQjXzHo7hC"
      }
    },
    {
      "cell_type": "code",
      "source": [
        "# What will be the output here?\n",
        "flowers = ['violet', 'tulip', 'rose', 'gardenia']\n",
        "flower_with_thorns = flowers[2]"
      ],
      "metadata": {
        "id": "XJArBR5Jokza"
      },
      "execution_count": null,
      "outputs": []
    },
    {
      "cell_type": "code",
      "source": [
        "### YOUR CODE HERE ###"
      ],
      "metadata": {
        "id": "43G4EU84pp6y"
      },
      "execution_count": null,
      "outputs": []
    },
    {
      "cell_type": "markdown",
      "source": [
        "We can also add elements, or lists, to the end of lists using `append`.\n",
        ">**Task:** Review the line of code below and predict where `pluto` will be added. Then show the output to check your understanding."
      ],
      "metadata": {
        "id": "OIF5X2bTpdl8"
      }
    },
    {
      "cell_type": "code",
      "source": [
        "planets = ['mercury', 'venus', 'earth', 'mars', 'jupiter', 'saturn', 'uranus', 'neptune']\n",
        "planets.append('pluto')"
      ],
      "metadata": {
        "id": "YuO-mlVRpf77"
      },
      "execution_count": null,
      "outputs": []
    },
    {
      "cell_type": "code",
      "source": [
        "### YOUR CODE HERE ###"
      ],
      "metadata": {
        "id": "WVY8GKdeprdJ"
      },
      "execution_count": null,
      "outputs": []
    },
    {
      "cell_type": "markdown",
      "source": [
        "We can also remove elements using `remove`.\n",
        ">**Task:** Run the line of code below to kick out pluto from out list - bye, pluto! 👋"
      ],
      "metadata": {
        "id": "v7VJD-dAp8ea"
      }
    },
    {
      "cell_type": "code",
      "source": [
        "# The remove function removes one instance of an element from the list\n",
        "planets.remove('pluto')\n",
        "print('Pluto is no longer a planet in our list :(\\n', planets)"
      ],
      "metadata": {
        "id": "BJRFS8RRp8Ex"
      },
      "execution_count": null,
      "outputs": []
    },
    {
      "cell_type": "markdown",
      "source": [
        "Lists can even take on multiple dimensions, and you can use multiple indexes (indices) for referencing.\n",
        ">**Task:** BEFORE you run the cell below, predict what you think the output will be - Don't peek yet! 🙈 This is a good check of your understanding so far. Don't worry if you haven't gotten the hang of it yet - this takes practice and we will review together. Use the code cell provided to print the result when you are ready to check!"
      ],
      "metadata": {
        "id": "3bp9C7DMqpGS"
      }
    },
    {
      "cell_type": "code",
      "source": [
        "famous_trios = [['luke', 'leia', 'han solo'], ['dory', 'nemo', 'marlin'], ['harry', 'hermione', 'ron'], ['blossom', 'bubbles', 'buttercup']]\n",
        "famous_trios.append(['aragorn', 'legolas', 'gimli'])\n",
        "the_chosen_one = famous_trios[2][0]"
      ],
      "metadata": {
        "id": "AwqttFquqjbc"
      },
      "execution_count": 2,
      "outputs": []
    },
    {
      "cell_type": "code",
      "source": [
        "### YOUR CODE HERE ###"
      ],
      "metadata": {
        "id": "AJZj1CecrU98"
      },
      "execution_count": null,
      "outputs": []
    },
    {
      "cell_type": "code",
      "source": [
        "#@title Example Solution\n",
        "famous_trios"
      ],
      "metadata": {
        "cellView": "form",
        "id": "h6EH-qO-KKC7"
      },
      "execution_count": null,
      "outputs": []
    },
    {
      "cell_type": "markdown",
      "source": [
        "## List Review\n",
        "<br> The order of indices is [`row #`][`column #`]. And don't forget that Python indices start from 0 (and not 1)! <br>\n",
        "The second row (`famous_trios[2]`) consists of: `['harry','hermione','ron']`. We then want position 0 `famous_trios[2][0]` which results to the output above.\n",
        "\n",
        "Let's examine the figure below: <br>\n",
        "Rows are colored according to the brackets:\n",
        "*   row 0: <font color='green'><b> Green </font></b>\n",
        "*   row 1: <font color='#0D98BA'><b> Blue </font></b>\n",
        "*   row 2: <font color='purple'><b> Purple </font></b>\n",
        "\n",
        "Columns are colored according to the highlighted ovals:\n",
        "*   col 0: <font color='#F987C5'><b> Pink </font></b>\n",
        "*   col 1: <font color='#FAB972'><b> Orange </font></b>\n",
        "*   col 2: <font color='#FEE12B'><b> Yellow </font></b>"
      ],
      "metadata": {
        "id": "8ZW1QZKJtfRH"
      }
    },
    {
      "cell_type": "markdown",
      "source": [
        "\n",
        "<img src=\"https://edcarp.github.io/2018-11-06-edinburgh-igmm-python/fig/python-zero-index.png\">\n",
        "\n",
        "Image [source](https://edcarp.github.io/2018-11-06-edinburgh-igmm-python/01-numpy/index.html)"
      ],
      "metadata": {
        "id": "V0LGeVThYiKZ"
      }
    },
    {
      "cell_type": "markdown",
      "source": [
        "## A Preview of Class Structure\n",
        "\n",
        "Many libraries in Python will use more sophisticated classes, that come with their own attributes and functions. For example, we will work with `numpy` and `pandas` in a bit.\n",
        "\n",
        "A [list](https://docs.python.org/3/tutorial/datastructures.html) is the most sophisticated class we looked at so far. It too has ***attributes***, properties that belong to a specific object of the class, and ***functions*** that ***belong to it***. You can call functions that belong to a certain class using ```object_name.function_name(additional_parameters)```. We actually already did this above with both `append` and `remove`. <br>\n",
        "\n",
        "Here are some more examples of attributes and functions of the list class.\n",
        "\n",
        "Sometimes functions that act on a class change the properties of an object, sometimes they return a value, and sometimes they do both."
      ],
      "metadata": {
        "id": "9cvYAmsA3zQx"
      }
    },
    {
      "cell_type": "code",
      "source": [
        "### RUN THIS CELL ###\n",
        "\n",
        "my_sisters_pets = ['dog', 'dog', 'cat', 'cat', 'gecko', 'cat', 'cat']\n",
        "\n",
        "# The sort function sorts the given list alphabetically/numerically.\n",
        "my_sisters_pets.sort()\n",
        "print('My sisters pets, in alphabetical order: ', my_sisters_pets)\n",
        "\n",
        "# The count function counts the number of times a certain element appears in the list.\n",
        "print('My sister has ', my_sisters_pets.count('cat'), 'cats.')\n",
        "\n",
        "# The remove function removes one instance of an element from the list.\n",
        "my_sisters_pets.remove('cat') # My sister's cat got lost ):\n",
        "print('My sister has ', my_sisters_pets.count('cat'), 'cats.')\n",
        "\n",
        "# We've used the append function before!\n",
        "my_sisters_pets.append('cat') # Luckily, a neighbor found him!\n",
        "print('My sister has ', my_sisters_pets.count('cat'), 'cats.')\n"
      ],
      "metadata": {
        "id": "JER7-sQJ4sp_"
      },
      "execution_count": null,
      "outputs": []
    },
    {
      "cell_type": "markdown",
      "source": [
        "## 🏋 3.2 Coding Exercise\n",
        "\n",
        "<img src=\"https://cdn.pixabay.com/photo/2012/07/29/21/42/dresses-53319__340.jpg\" width=300>\n",
        "\n",
        "Create a list of 7 items of clothing that you know you currently have in your closet. Use just a word that generally describes each item - shirt 👕, pants 👖 , coat👚, dress 👗. The same type of item can appear multiple times.\n",
        "\n",
        "Update your list according to the following events, and print the list after each update.\n",
        "* You donated a pair of pants 👖! (Or an item of your choice, if you aren't a big fan of pants 👙).\n",
        "* You bought a really awesome jacket 👚 that you love.\n",
        "* You want to sort the items alphabetically, so that you can quickly organize your wardrobe.\n",
        "* You want to count the number of shirts 👕 that are in your wardrobe.\n"
      ],
      "metadata": {
        "id": "iMfh1ylWMwb3"
      }
    },
    {
      "cell_type": "code",
      "source": [
        "### YOUR CODE HERE ###"
      ],
      "metadata": {
        "id": "6YEKWkD67Bth"
      },
      "execution_count": null,
      "outputs": []
    },
    {
      "cell_type": "code",
      "source": [
        "#@title Example Solution\n",
        "wardrobe = ['shirt', 'pants', 'pants', 'coat',\n",
        "            'sweater', 'sweater', 'shirt']\n",
        "\n",
        "print(wardrobe)\n",
        "wardrobe.remove('pants')\n",
        "print(wardrobe)\n",
        "wardrobe.append('jacket')\n",
        "print(wardrobe)\n",
        "wardrobe.sort()\n",
        "print(wardrobe)\n",
        "wardrobe.count('shirt')"
      ],
      "metadata": {
        "cellView": "form",
        "id": "mvR2FeURFYzw"
      },
      "execution_count": null,
      "outputs": []
    },
    {
      "cell_type": "markdown",
      "source": [
        "---\n",
        "\n",
        "# Section 4: Numpy Arrays 8️⃣ 9️⃣ 5️⃣ 0️⃣ 2️⃣\n",
        "\n",
        "<img src=\"https://cdn.pixabay.com/photo/2016/11/05/17/56/cat-1800843_1280.jpg\" width=400>\n",
        "<br>\n",
        "\n",
        "\n",
        "An ***array*** is a `numpy` datatype that looks like a numerical list. While in many ways arrays look and act like the list datatype, they have some special features that make them more powerful than the list structure when performing mathematical computation.\n",
        "\n",
        "Let's talk about the basics of arrays:\n",
        "- Initializing an array: Creating an empty or other type of array.\n",
        "- Indexing of arrays: Getting and setting the value of individual array elements, or smaller subarrays.\n",
        "- Reshaping of arrays: Changing the shape of a given array, and combining two or more arrays.\n",
        "\n",
        "An array looks like:\n"
      ],
      "metadata": {
        "id": "8eKFzHUnUVok"
      }
    },
    {
      "cell_type": "code",
      "source": [
        "### 1D Array ###\n",
        "np.array([1,2,3,4,2,3,4])"
      ],
      "metadata": {
        "id": "3ZWDCx6FV_Ck"
      },
      "execution_count": null,
      "outputs": []
    },
    {
      "cell_type": "code",
      "source": [
        "### 2D ARRAY ###\n",
        "np.array([[1., 4.5, 3.4],\n",
        "       [5., 1.3, 1.],\n",
        "       [7., 2.9, 0.8],\n",
        "       [6.3, 4.9, 0.4]])"
      ],
      "metadata": {
        "id": "OxQV1clHWHAK"
      },
      "execution_count": null,
      "outputs": []
    },
    {
      "cell_type": "code",
      "source": [
        "# It can contain all strings\n",
        "np.array(['eat','sleep','repeat'])"
      ],
      "metadata": {
        "id": "0XNkFRVHY0A5"
      },
      "execution_count": null,
      "outputs": []
    },
    {
      "cell_type": "code",
      "source": [
        "# It can contain booleans\n",
        "np.array([True,False,False])"
      ],
      "metadata": {
        "id": "r906jLjtZBeI"
      },
      "execution_count": null,
      "outputs": []
    },
    {
      "cell_type": "code",
      "source": [
        "# What happens if we mix types like we did with lists?\n",
        "np.array(['eat',1,2])"
      ],
      "metadata": {
        "id": "DhIHFDcCY6vq"
      },
      "execution_count": null,
      "outputs": []
    },
    {
      "cell_type": "code",
      "source": [
        "# Intialize an empty array\n",
        "new_array = np.array([])\n",
        "new_array"
      ],
      "metadata": {
        "id": "msPbJndLZZrh"
      },
      "execution_count": null,
      "outputs": []
    },
    {
      "cell_type": "markdown",
      "source": [
        "## 👷 Initalizing an Array\n",
        "\n",
        "There are a few different ways to initialize (create) an array. Above we already did two of these:\n",
        "-  Initialize an empty array using ```np.array([])```.\n",
        "- Create an array with your own inputs using ```np.array([1,2,3,4 etc.])```\n",
        "\n",
        "You can also:\n",
        "- Read a list or matrix of numbers from a file into a numpy array using ```np.loadtxt()```. (We won't test this one, more on this [here](https://numpy.org/doc/stable/user/how-to-io.html))\n",
        "- Generate an array with specific dimensions and distributions using functions like [```np.zeros()```](https://numpy.org/doc/stable/reference/generated/numpy.zeros.html), [```np.ones()```](https://numpy.org/doc/stable/reference/generated/numpy.ones.html), [```np.random.random()```](https://numpy.org/doc/stable/reference/random/generated/numpy.random.random.html), or [```np.random.randn()```](https://numpy.org/doc/stable/reference/random/generated/numpy.random.randn.html).\n"
      ],
      "metadata": {
        "id": "BSvS6rkwa4np"
      }
    },
    {
      "cell_type": "markdown",
      "source": [
        "## 🧘 4.0  Coding Exercise\n",
        "\n",
        "Let's test our luck by heading to the roulette tables!\n",
        "\n",
        "<img src=\"https://cdn.pixabay.com/photo/2012/04/05/01/24/dice-25637__340.png\" width=200>\n",
        "\n",
        ">**Task:** Initialize an array that is the equivalent to rolling a six-sided dice, 50 sets (the number of states), 3 times (rolls) per state.\n",
        "\n",
        ">**Hint:** Check out the [```np.random.choice()```](https://numpy.org/doc/stable/reference/random/generated/numpy.random.choice.html) function.  \n",
        "\n",
        ">Print the dimensions of your array to check you did this correctly.\n",
        "\n"
      ],
      "metadata": {
        "id": "8TOvTL4Z1X3v"
      }
    },
    {
      "cell_type": "code",
      "source": [
        "state_dice_rolls = ### YOUR CODE HERE ###\n",
        "\n"
      ],
      "metadata": {
        "id": "pz30o8M4cSA4"
      },
      "execution_count": null,
      "outputs": []
    },
    {
      "cell_type": "code",
      "source": [
        "#@title Example Solution\n",
        "state_dice_rolls = np.random.choice([1,2,3,4,5,6],\n",
        "                                    size=(50,3))\n",
        "\n",
        "print(state_dice_rolls.shape)"
      ],
      "metadata": {
        "id": "yiIpot9jhMdP",
        "cellView": "form"
      },
      "execution_count": null,
      "outputs": []
    },
    {
      "cell_type": "markdown",
      "source": [
        "## 🗺 Navigating an Array: Slicing 🔪 🍉\n",
        "\n",
        "Navigating a `numpy` array feels somewhat similar to navigating a list.  We can access elements in a 1D array using ```myarray[30,20]```.  We can select multiple values or sections using the ```:``` operator to stand for \"all elements leading up to or after a certain number\". For example, the slice [0:4] means: \"Start at index 0 and go up to, but **not including**, index 4.\" <br><br>\n",
        "For multidimensional arrays, we can access elements using the same notation as lists (```myarray[1][2]```), or we can accesss elements using commas to separate the indices (```myarray[1,2]```). The comma notation allows us to select specific slices of the array as well.<br><br>\n",
        "Check out the following code to understand some of the nuances of navigating an array.\n",
        "\n",
        "\n",
        "**Note:** In multidimensional numpy arrays, it is best practice to have consistent numbers of elements per index. We should not have an array that looks like ```np.array([[1,2,3],[4,5]])```"
      ],
      "metadata": {
        "id": "Pcqp-Q9Jd9af"
      }
    },
    {
      "cell_type": "markdown",
      "source": [
        ">**Task:**\n",
        "Start by showing the output of `exercises_section1` and navigate each line by referring back to this array. BEFORE you run the second cell, predict what you think the output will be - Don't peek yet! 🙈 This is a good check of your understanding so far. <br><br>\n",
        "Don't worry if this is tough - this takes practice and we will review together.\n"
      ],
      "metadata": {
        "id": "EBn6V5oibMlR"
      }
    },
    {
      "cell_type": "code",
      "source": [
        "# Show the array we will work with to start\n",
        "exercises_section1 = np.array([[0.0,0.1,0.2],[1.1,1.2,1.3], [2.0,2.1,2.2]])\n",
        "exercises_section1"
      ],
      "metadata": {
        "id": "_bZmKwhEClWc"
      },
      "execution_count": null,
      "outputs": []
    },
    {
      "cell_type": "code",
      "source": [
        "# Run this after you review the output above\n",
        "# Guess what you think each line below will show\n",
        "this_exercise = exercises_section1[2,2]\n",
        "print('this exercise:', this_exercise)\n",
        "\n",
        "exercises_section2 = exercises_section1[1,:]\n",
        "print('exercises_section1:', exercises_section1)\n",
        "\n",
        "harder_exercises_completed = exercises_section1[:2,1:]\n",
        "print('harder_exercises_completed:\\n', harder_exercises_completed)"
      ],
      "metadata": {
        "id": "jjLaynRThRI9"
      },
      "execution_count": null,
      "outputs": []
    },
    {
      "cell_type": "markdown",
      "source": [
        "In the last example, `harder_exercises_completed`, you see that we also don't have to include the upper and lower bound on the slice.\n",
        "-  If we don't include the lower bound, Python uses 0 by default\n",
        "-  If we don't include the upper bound, the slice runs to the end of the axis\n",
        "\n",
        "Note: There is another option we didn't test -  I encourage you to try it out if you've finished the above and are waiting to continue\n",
        "-  If we don't include either (i.e., if we just use `:` on its own), the slice includes everything\n",
        "\n"
      ],
      "metadata": {
        "id": "EdNKbPO3gTWK"
      }
    },
    {
      "cell_type": "markdown",
      "source": [
        "## 🏃 4.1 Coding Exercise\n",
        "\n",
        "Using the ```state_dice_rolls``` array, find out what number these states rolled on their second dice rolls: Nevada (index 27), New Hampshire (index 28),\n",
        "New Jersey (index 29), New Mexico (index 30), New York (index 31), North Carolina (index 32)."
      ],
      "metadata": {
        "id": "t6c8yNFIg7FD"
      }
    },
    {
      "cell_type": "code",
      "source": [
        "### YOUR CODE HERE ###"
      ],
      "metadata": {
        "id": "juuaPmzqal8i"
      },
      "execution_count": null,
      "outputs": []
    },
    {
      "cell_type": "code",
      "source": [
        "#@title Example Solution\n",
        "print(state_dice_rolls[27:33,1])"
      ],
      "metadata": {
        "id": "z6rAH3642tV8",
        "cellView": "form"
      },
      "execution_count": null,
      "outputs": []
    },
    {
      "cell_type": "markdown",
      "source": [
        "## 🔃  Reshaping and Combining Arrays\n",
        "\n",
        "We can also reshape multidimensional arrays, and combine arrays.\n",
        "\n",
        "The [```.transpose()```](https://numpy.org/doc/stable/reference/generated/numpy.transpose.html) command swaps the dimensions of the array (a 2x6 array becomes 6x2) without changing its data.\n",
        "\n",
        "\n",
        "To add an element to a `numpy` array you can use [```np.append(orig, array_to_append)```](https://numpy.org/doc/stable/reference/generated/numpy.append.html) or [```np.concatenate([array1, array2, array3])```](https://numpy.org/doc/stable/reference/generated/numpy.concatenate.html).\n",
        "\n",
        "\n",
        "Check out the following example for how [```np.reshape()```](https://numpy.org/doc/stable/reference/generated/numpy.reshape.html) and ```np.append()``` work.\n"
      ],
      "metadata": {
        "id": "CAIBgem42qQU"
      }
    },
    {
      "cell_type": "code",
      "source": [
        "### RUN THIS CELL ###\n",
        "\n",
        "orig_array = [[1,2,3],[4,5,6],[7,8,9], [10,11,12]]\n",
        "reshaped_array = np.transpose(orig_array) # 4 rows x 3 cols becomes: 3 rows x 4 cols\n",
        "\n",
        "print('orig_array:\\n', orig_array)\n",
        "print('\\nreshaped_array:\\n', reshaped_array)\n",
        "\n",
        "to_add = np.array([13,14])\n",
        "to_add2 = np.array([15,16])\n",
        "to_add = np.concatenate([to_add, to_add2]) # Concat arrays together.\n",
        "print('\\nto_add:', to_add)\n",
        "\n",
        "\n",
        "# Specify the axis that we want to add the array to\n",
        "# (more on axes in a minute!)\n",
        "final_array = np.append(reshaped_array, [to_add], axis=0)\n",
        "print('\\nfinal_array:\\n ', final_array)\n"
      ],
      "metadata": {
        "id": "TbwHAPVxFpH0"
      },
      "execution_count": null,
      "outputs": []
    },
    {
      "cell_type": "markdown",
      "source": [
        "## 🏋 4.2 Coding Exercise\n",
        "\n",
        "\n",
        "1. Reshape your array to be 3 x 50 dice rolls, rather than 50 x 3 dice rolls.\n",
        "2. Print the 3rd dice roll from the 12th state.\n",
        "\n",
        "```\n",
        "np.array([[1,2,3,3,3,1,5,4,4...],\n",
        "          [6,3,4,5,3,2,5,3,6...]])\n",
        "\n",
        "```"
      ],
      "metadata": {
        "id": "4q1dRxaZ4C46"
      }
    },
    {
      "cell_type": "code",
      "source": [
        "state_dice_rolls_reshaped = None ### YOUR CODE HERE ###"
      ],
      "metadata": {
        "id": "K4aoxmgo6P-e"
      },
      "execution_count": null,
      "outputs": []
    },
    {
      "cell_type": "code",
      "source": [
        "#@title Example Solution\n",
        "\n",
        "state_dice_rolls_reshaped = np.transpose(state_dice_rolls)\n",
        "print(state_dice_rolls_reshaped[2][11])"
      ],
      "metadata": {
        "id": "Y8PHg59r6P-e",
        "cellView": "form"
      },
      "execution_count": null,
      "outputs": []
    },
    {
      "cell_type": "markdown",
      "source": [
        "---\n",
        "\n",
        "# Section 5: Array Arithmetic ✖️ ➕ ➖ ➗\n",
        "\n",
        "<img src=\"https://scipy-lectures.org/_images/numpy_broadcasting.png\" width=500>\n",
        "\n",
        "Numpy arrays are especially powerful when wanting to perform mathematical operations on list-like structures.\n",
        "\n",
        "\n",
        "You may want to perform the same operation on every element in an array, use multiple arrays to perform specific operation, or perform some sort of mathematical operation on a specific dimension of an array. For example, you may want to take the mean of each \"column\" in an array, or the sum of every \"row\". An **axis** is the dimension of the array you are interested in performing aggregation on (more on this later!)"
      ],
      "metadata": {
        "id": "6pKIAPb2U0ES"
      }
    },
    {
      "cell_type": "markdown",
      "source": [
        "\n",
        "## ⚛ Element-wise operations\n",
        "\n",
        "You might want to perform the same operation on every element of an array. There are three options for doing this:\n",
        "\n",
        "-  Because numpy has become so popular, many functions that typically take in an integer or float, can also detect if the input is a `numpy` array, and will perform the function on every element in an array. This is of course the case for `numpy` functions, but is also often the case from functions included in various statistics and math libraries in Python.\n",
        "- Mathematical operations in native Python code perform the same function on every element on an array.\n",
        "- Some functions in libraries will  only act on a single value or integer. We can use  [```np.vectorize()```](https://numpy.org/doc/stable/reference/generated/numpy.vectorize.html) to turn a function that normally just takes a single number as an input, to a function that takes in an array.\n",
        "\n",
        "\n",
        "\n",
        "\n",
        "\n"
      ],
      "metadata": {
        "id": "nCOOJA0Fp5yg"
      }
    },
    {
      "cell_type": "code",
      "source": [
        "### RUN THIS CELL ###\n",
        "\n",
        "# Numpy function that defaults to performing\n",
        "# the same operation on every element\n",
        "my_array = np.array([1,900,43])\n",
        "print('np.sqrt:', np.sqrt(my_array))\n",
        "\n",
        "\n",
        "# Using native python code.\n",
        "sqrt_native_python = my_array**(1/2)\n",
        "print('sqrt_native_python:', sqrt_native_python)\n",
        "\n",
        "\n",
        "# Function to take approximate square root by\n",
        "# searching for the closest root (to the .1)\n",
        "def sqrt_approx(x):\n",
        "  for i in range(round(x)):\n",
        "    for dec in range(10):\n",
        "      if (i+dec)**2 > x:\n",
        "        return i+dec-.1\n",
        "\n",
        "# Sqrt approx is only set up to work on scalar inputs (single number).\n",
        "# Lets make a function called sqrt_vectorize()\n",
        "# that we can apply to arrays.\n",
        "sqrt_approx_vectorize = np.vectorize(sqrt_approx)\n",
        "\n",
        "print('sqrt_approx_vectorize:', sqrt_approx_vectorize(my_array))\n"
      ],
      "metadata": {
        "id": "IeBWfJkzI9z1"
      },
      "execution_count": null,
      "outputs": []
    },
    {
      "cell_type": "markdown",
      "source": [
        "\n",
        "\n",
        "## 🖇 Operations with Similar Arrays\n",
        "In this section we will discuss performing a computation using two or more identically-shaped arrays.\n",
        "\n",
        "We might want to add the corresponding elements from two arrays together, divide them, etc. As long as the arrays have the ***same dimensions***, we can use regular math operations to perform computations with multiple arrays, or we can use functions that are built to take in two or more arrays.\n",
        "\n",
        "When you do simple arithmetic operations on arrays like: addition (`+`), subtraction (`-`), multiplication (`*`), and division (`/`), the operation is done element-by-element.\n",
        "\n"
      ],
      "metadata": {
        "id": "n8zJJmD8p64G"
      }
    },
    {
      "cell_type": "code",
      "source": [
        "### RUN THIS CELL ###\n",
        "height = np.array([5.1,6.5,4.6])\n",
        "weight = np.array([120,250,100])\n",
        "bmi = weight/height\n",
        "print('bmi:', bmi)"
      ],
      "metadata": {
        "id": "ZeZti5AOKiHL"
      },
      "execution_count": null,
      "outputs": []
    },
    {
      "cell_type": "markdown",
      "source": [
        "## 🧘 5.0 Coding Exercise\n",
        "\n",
        "Many times we want to do more than add, subtract, multiply, and divide elements. `numpy` has options to do more complex [operations](https://numpy.org/doc/stable/reference/routines.statistics.html).\n",
        "\n",
        "It's time ⏱ to start exploring our dataset!\n",
        "\n",
        ">**Task:** We will find the mean `bpm` from the songs in the dataset that are from `artist_name` Taylor Swift. The beginning code gives you all the data from Taylor Swift's songs. (we will go over what this is actually doing in a bit). You should fill in the code below and use [`np.mean`](https://numpy.org/doc/stable/reference/generated/numpy.mean.html) to calculate the average."
      ],
      "metadata": {
        "id": "Ky3OQ0jc5AFF"
      }
    },
    {
      "cell_type": "code",
      "source": [
        "ts_data = spotify[spotify['artist_name'] == 'Taylor Swift'].bpm    # this is the array you need to take the mean in the next line\n",
        "\n",
        "ts_mean = ### YOUR CODE HERE ###"
      ],
      "metadata": {
        "id": "9CRNI7pVruHT"
      },
      "execution_count": null,
      "outputs": []
    },
    {
      "cell_type": "code",
      "source": [
        "#@title Example Solutions\n",
        "ts_data = spotify[spotify['artist_name'] == 'Taylor Swift'].bpm  # this is the array to take the mean of\n",
        "# Various ways to do this:\n",
        "print(np.mean(ts_data))\n",
        "print(sum(ts_data)/len(ts_data))\n",
        "print(ts_data.mean())"
      ],
      "metadata": {
        "cellView": "form",
        "id": "7UaF1t_1sLzU"
      },
      "execution_count": null,
      "outputs": []
    },
    {
      "cell_type": "markdown",
      "source": [
        "## 🏃 5.1 Coding Exercise\n",
        "\n",
        ">**Task:** Let's calculate the `age` of each song. Fill in the code below to find the difference between the current year (`year`) and the `released_year` array."
      ],
      "metadata": {
        "id": "nzW3okjolpRa"
      }
    },
    {
      "cell_type": "code",
      "source": [
        "# Calculating age\n",
        "year = 2024\n",
        "spotify_year = spotify.released_year # this is the array to calculate the difference\n",
        "age = ### YOUR CODE HERE ###"
      ],
      "metadata": {
        "id": "fG4wgCEbuA67"
      },
      "execution_count": null,
      "outputs": []
    },
    {
      "cell_type": "code",
      "source": [
        "#@title Solution\n",
        "year = 2024\n",
        "spotify_year = spotify.released_year\n",
        "age = year - spotify_year\n",
        "print(age)\n",
        "print('Youngest', min(age))\n",
        "print('Oldest', max(age))\n",
        "print(min(spotify.released_year))"
      ],
      "metadata": {
        "cellView": "form",
        "id": "uWnbEdChuRPY"
      },
      "execution_count": null,
      "outputs": []
    },
    {
      "cell_type": "markdown",
      "source": [
        "## 🏋 5.2 Coding Exercise\n",
        "\n",
        "\n"
      ],
      "metadata": {
        "id": "Mou2OOje5KUI"
      }
    },
    {
      "cell_type": "markdown",
      "source": [
        "Spoiler Alert ❗\n",
        "The top two artists in terms of `streams` are: Taylor Swift and The Weeknd.\n",
        "\n",
        ">**Task:** Write code below to calculate the percentage of songs that each artist is contributing to within this dataset. Check that you came up with the same percentage as listed [here](https://www.kaggle.com/datasets/nelgiriyewithana/top-spotify-songs-2023/data).\n",
        "On this website, scroll down to where it shows the csv file, and then select the 'column' tab. Look at the row data for `artist_name`.\n",
        "Hint: Use length ([len](https://docs.python.org/3/library/functions.html#len)) to help you out in your calculations."
      ],
      "metadata": {
        "id": "-vEsNSL3J5SM"
      }
    },
    {
      "cell_type": "code",
      "source": [
        "## Taylor Swift\n",
        "ts_songs = len(spotify[spotify['artist_name'] == 'Taylor Swift'])  # this is the array to do the calculations on\n",
        "per_ts_songs = ### YOUR CODE HERE ###\n"
      ],
      "metadata": {
        "id": "ohr_Ys2Uwij5"
      },
      "execution_count": null,
      "outputs": []
    },
    {
      "cell_type": "code",
      "source": [
        "#@title Example Solution\n",
        "ts_songs = len(spotify[spotify['artist_name'] == 'Taylor Swift'])  # this is the array to take the mean of\n",
        "per_ts_songs = round(ts_songs/len(spotify) * 100,2)\n",
        "per_ts_songs"
      ],
      "metadata": {
        "cellView": "form",
        "id": "Q8g-LbWTmapd"
      },
      "execution_count": null,
      "outputs": []
    },
    {
      "cell_type": "code",
      "source": [
        "## The Weeknd\n",
        "wknd_data = len(spotify[spotify['artist_name'] == 'The Weeknd'])      # this is the array to do the calculations on\n",
        "per_songs = ### YOUR CODE HERE ###\n"
      ],
      "metadata": {
        "id": "BXOgANuBwQRt"
      },
      "execution_count": null,
      "outputs": []
    },
    {
      "cell_type": "code",
      "source": [
        "#@title Example Solution\n",
        "wknd_data = len(spotify[spotify['artist_name'] == 'The Weeknd'])  # this is the array to take the mean of\n",
        "per_songs = round(wknd_data/len(spotify) * 100,2)\n",
        "per_songs"
      ],
      "metadata": {
        "cellView": "form",
        "id": "hANamT2ymLc0"
      },
      "execution_count": null,
      "outputs": []
    },
    {
      "cell_type": "markdown",
      "source": [
        "---\n",
        "\n",
        "# Section 6: Pandas Dataframes 🐼\n",
        "\n",
        "<img src=\"https://cdn.pixabay.com/photo/2018/07/22/21/12/panda-3555554__340.jpg\" width=400></br></br>\n",
        "\n",
        "\n",
        "A very popular Python data science library is [**`pandas`**](https://pandas.pydata.org/docs/index.html). Pandas is best for working with two dimenional matrices (with samples as rows and features as columns), where different columns may be of different data types. Lists and `numpy` arrays can very easily be converted to/from `pandas` formats. Pandas can also read in data into batches, making it a nice library for working with big datasets that can not be held entirely in memory.\n",
        "\n",
        "\n",
        "Let's review our data from `spotify` (we loaded in the data into a `pandas` dataframe!).\n",
        "\n"
      ],
      "metadata": {
        "id": "CKu8ilBsUVvS"
      }
    },
    {
      "cell_type": "code",
      "source": [
        "### RUN THIS CELL ###\n",
        "spotify.head(10) # .head() let's us look at the first N rows."
      ],
      "metadata": {
        "id": "ThLhztShx0h1"
      },
      "execution_count": null,
      "outputs": []
    },
    {
      "cell_type": "markdown",
      "source": [
        "**Which columns are strings, and which are numerical?** You can figure this out (usually) just by looking at what's in the dataframe.\n",
        "\n",
        ">**Task:** Run the code below to see the Python data types again."
      ],
      "metadata": {
        "id": "KILPlqSQ8qoG"
      }
    },
    {
      "cell_type": "code",
      "source": [
        "### RUN THIS CELL ###\n",
        "spotify.info()"
      ],
      "metadata": {
        "id": "x7QkV9rD2eec"
      },
      "execution_count": null,
      "outputs": []
    },
    {
      "cell_type": "markdown",
      "source": [
        "---\n",
        "\n",
        "## 🧭 Navigating a Pandas Dataframe\n",
        "\n",
        "Dataframes are defined by rows and columns. Each row has an **index** associated with it, and each column has a column name.\n",
        "\n",
        ">**Task:** Run the code below to print the column names and indexes (in this case the index just happens to be the same as the row number) of the data. (This is the default for the index, but it can be [changed](https://pandas.pydata.org/docs/user_guide/indexing.html#reset-the-index). Will we test that out later)\n"
      ],
      "metadata": {
        "id": "5Ptez5Ji6PTn"
      }
    },
    {
      "cell_type": "code",
      "source": [
        "### RUN THIS CELL ###\n",
        "print('index: ', spotify.index)\n",
        "print('columns: ', spotify.columns)"
      ],
      "metadata": {
        "id": "OZEYo9QW7z7F"
      },
      "execution_count": null,
      "outputs": []
    },
    {
      "cell_type": "markdown",
      "source": [
        "\n",
        "You may want to select several different objects from a `pandas` dataframes:\n",
        "\n",
        "- **To select a specific column, or columns**, you can use the syntax ```df.column_name``` or ```df[column_names]```. The second syntax works even if your column names have dots or spaces in them, and allows you to select several columns as once.\n",
        "\n",
        ">**Task:** Run the code below to show two of the column names from the data.\n"
      ],
      "metadata": {
        "id": "BSTetPH7724F"
      }
    },
    {
      "cell_type": "code",
      "source": [
        "### RUN THIS CELL ###\n",
        "spotify_2cols = spotify[['artist_name', 'streams']]\n",
        "spotify_2cols.sample(n=15)                                # take a random sample of 15 to show us"
      ],
      "metadata": {
        "id": "-Ot7wLHEyEnp"
      },
      "execution_count": null,
      "outputs": []
    },
    {
      "cell_type": "markdown",
      "source": [
        "- **To select a specific row**, you can either select the row index name using ```.loc[]``` or using the row number using ```.iloc[]```.\n",
        "\n",
        ">**Task:** Run the cell below to reindex our dataframe so that the artist name (```artist_name``` column) is the index. Then let's look at the row containing Guns N' Roses. 🎸"
      ],
      "metadata": {
        "id": "l0jaywuM7aDg"
      }
    },
    {
      "cell_type": "code",
      "source": [
        "### RUN THIS CELL ###\n",
        "spotify.index = spotify['artist_name']\n",
        "print(\"Guns N' Roses row:\", spotify.loc[\"Guns N' Roses\"])\n",
        "print('\\n5th row:', spotify.iloc[4])"
      ],
      "metadata": {
        "id": "ycm0UhqM7OjX"
      },
      "execution_count": null,
      "outputs": []
    },
    {
      "cell_type": "code",
      "source": [
        "### RUN THIS CELL TO SEE AN ARTIST WITH MULTIPLE ROWS ###\n",
        "print('Dua Lipa row:', spotify.loc['Dua Lipa'])"
      ],
      "metadata": {
        "id": "G5CLIVPO7qP4"
      },
      "execution_count": null,
      "outputs": []
    },
    {
      "cell_type": "markdown",
      "source": [
        "- Finally, you may want to select a single element or subset of elements. You can do this by using ```loc[]``` and using both the row index and column name  as the key(s).\n",
        "\n",
        ">**Task:** Run the cell below to do this with our dataset\n"
      ],
      "metadata": {
        "id": "jZdIIEDg89ei"
      }
    },
    {
      "cell_type": "code",
      "source": [
        "### RUN THIS CELL ###\n",
        "spotify.loc[[\"Lady Gaga\", \"Lord Huron\", \"Michael Buble\"],\n",
        "            ['bpm','streams', 'released_year']]"
      ],
      "metadata": {
        "id": "tb1L5vZG34l0"
      },
      "execution_count": null,
      "outputs": []
    },
    {
      "cell_type": "markdown",
      "source": [
        "***Note: Rows, columns, or subsets of data in a dataframe act very similarly to numpy arrays***."
      ],
      "metadata": {
        "id": "K61LJhWrnzc-"
      }
    },
    {
      "cell_type": "markdown",
      "source": [
        "## Bonus: Bracket versus Dot Indexing"
      ],
      "metadata": {
        "id": "kWce-JSJhL_y"
      }
    },
    {
      "cell_type": "markdown",
      "source": [
        "Figuring out when to use which depends on different factors, and we won't go into those today. I encourage you to play around test out the different ways as you like in the notebook.\n",
        "\n",
        "More info can be found on these websites:<br>\n",
        "[Pandas documentation](https://pandas.pydata.org/docs/user_guide/indexing.html#different-choices-for-indexing)\n",
        "<br>\n",
        "[Pandas tutorial](https://pandas.pydata.org/pandas-docs/version/1.0/getting_started/intro_tutorials/03_subset_data.html)<br>\n",
        "[DataSchool](https://www.dataschool.io/pandas-dot-notation-vs-brackets/)<br>\n",
        "https://www.dunderdata.com/blog/\n",
        "[DunderData Blog](https://www.dunderdata.com/blog/use-the-brackets-to-select-a-single-pandas-dataframe-column-and-not-dot-notation)<br>\n",
        "We primarily used brackets above. Test out similar code below, but use `.` indexing.\n",
        "\n",
        ">**Task:** Choose a column name and use dot indexing to reference it below: `df.column_name`\n"
      ],
      "metadata": {
        "id": "ugHPw4ezCXgj"
      }
    },
    {
      "cell_type": "code",
      "source": [
        "### YOUR CODE HERE ###"
      ],
      "metadata": {
        "id": "Mw51HCALhoJs"
      },
      "execution_count": null,
      "outputs": []
    },
    {
      "cell_type": "code",
      "source": [
        "#@title Example Solution\n",
        "spotify.bpm"
      ],
      "metadata": {
        "cellView": "form",
        "id": "x3-R3Z-khpdt"
      },
      "execution_count": null,
      "outputs": []
    },
    {
      "cell_type": "markdown",
      "source": [
        "## 🧘 6.0 Coding Exercise\n",
        "\n",
        "\n",
        "<img src=\"https://cdn.pixabay.com/photo/2023/08/09/16/38/ai-generated-8179915_640.png\" width=200>\n",
        "\n",
        "\n",
        ">**Task:** Find the `track_name`, `released_year`, and `energy_percent` of 3 artists of your choosing. (from ```spotify``` dataframe)"
      ],
      "metadata": {
        "id": "CoMBq-_f5lja"
      }
    },
    {
      "cell_type": "code",
      "source": [
        "### YOUR CODE HERE ###\n",
        "## feel free to show yourself the dataframe first and scroll through it to select your artists :)"
      ],
      "metadata": {
        "id": "tce9Hajr5lja"
      },
      "execution_count": null,
      "outputs": []
    },
    {
      "cell_type": "code",
      "source": [
        "#@title Example Solution\n",
        "\n",
        "spotify.loc[[\"Lana Del Rey\",\"Eminem\", \"The Chainsmokers Halsey\"],\n",
        "                 ['track_name', 'released_year', 'energy_percent']]"
      ],
      "metadata": {
        "id": "StsP8z0q5ljb",
        "cellView": "form"
      },
      "execution_count": null,
      "outputs": []
    },
    {
      "cell_type": "markdown",
      "source": [
        "## 🔨 Editing or Adding To a DataFrame\n",
        "\n",
        "We learned how to reindex our dataframe using ```.index```. We can edit our dataframes in other ways as well:\n",
        "*   add/remove a column/row\n",
        "*   edit the value of a specific cell, row, or column\n",
        "\n",
        ">**Task:** Run the following code for examples on this.\n",
        "\n",
        "\n"
      ],
      "metadata": {
        "id": "CTE3VFK65ljb"
      }
    },
    {
      "cell_type": "code",
      "source": [
        "### RUN THIS CELL ###\n",
        "\n",
        "# Add a column called \"random_number\"\n",
        "spotify['random_number'] = np.random.random(len(spotify))\n",
        "print('first 5 rows with random_number column:\\n ',spotify.head(5))\n",
        "\n",
        "# Add a row called \"CCR_like\"\n",
        "# that is equal to the values for Creedence Clearwater Revival (CCR).\n",
        "spotify.loc[\"CCR_like\"] = spotify.loc[\"Creedence Clearwater Revival\"]\n",
        "print('\\n\\nlast 5 rows, with new CCR_like: \\n',spotify.tail(5))\n",
        "\n",
        "# Change the random_number value just for CCR_like.\n",
        "spotify.loc['CCR_like', 'random_number'] = 12345\n",
        "print('\\n\\nedited CCR_like: ', spotify.loc['CCR_like','random_number'])\n",
        "\n",
        "# Drop the CCR_like row and the random_number column\n",
        "# to return to our original dataframe.\n",
        "spotify = spotify.drop('CCR_like')\n",
        "spotify = spotify.drop('random_number', axis=1)\n",
        "\n",
        "print('final dataframe (last rows): ')\n",
        "spotify.tail()\n"
      ],
      "metadata": {
        "id": "Y1xOZgNYVcEY"
      },
      "execution_count": null,
      "outputs": []
    },
    {
      "cell_type": "markdown",
      "source": [
        "\n",
        "## 🏃 6.1 Coding Exercise\n",
        "\n",
        "We calculated the age of each song above and stored it in a variable called `age` (5.1 Coding Exercise). Now we can add the `age` values we calculated above for each song to our dataframe.\n",
        "There are multiple ways this could be done, but we are going to keep practicing using `loc`.\n",
        "\n",
        ">**Task:** Adjust this example code by replacing the `dataframe`, inserting the correct way to index the dataframe (replacing `...`) in brackets after `loc` and finally by setting it equal to our variable name that we want to use: <br>\n",
        "`dataframe.loc[...,...] = variable_name`\n"
      ],
      "metadata": {
        "id": "FVMxRqM2AOlx"
      }
    },
    {
      "cell_type": "code",
      "source": [
        "### YOUR CODE HERE ###\n",
        "dataframe.loc[...,...] = variable_name"
      ],
      "metadata": {
        "id": "4OMD1rXx2_E7"
      },
      "execution_count": null,
      "outputs": []
    },
    {
      "cell_type": "code",
      "source": [
        "#@title Example Solution\n",
        "spotify.loc[:, \"age\"] = age\n",
        "print(spotify.columns)"
      ],
      "metadata": {
        "cellView": "form",
        "id": "DfgJ5T_f9Kgx"
      },
      "execution_count": null,
      "outputs": []
    },
    {
      "cell_type": "code",
      "source": [
        "#@title Example Solution - Another Way\n",
        "# first need to reset the index!\n",
        "spotify = spotify.reset_index(drop=True)\n",
        "spotify.insert(0, \"age\", age, allow_duplicates=True)"
      ],
      "metadata": {
        "id": "D4dhpiH11s9r",
        "cellView": "form"
      },
      "execution_count": null,
      "outputs": []
    },
    {
      "cell_type": "markdown",
      "source": [
        "## 💾 Data types\n",
        "\n",
        "Values from a single column in a dataframe all have the same datatype (boolean, string, integers, floats, etc.). To see the datatypes for each column, you can use the [`.dtypes`](https://pandas.pydata.org/pandas-docs/stable/reference/api/pandas.DataFrame.dtypes.html) property to look over your dataframe's columns' types.\n",
        "\n"
      ],
      "metadata": {
        "id": "KtT2QNYtCDEU"
      }
    },
    {
      "cell_type": "code",
      "source": [
        "### RUN THIS CELL ###\n",
        "print(spotify.dtypes)"
      ],
      "metadata": {
        "id": "5othbHUWXN1p"
      },
      "execution_count": null,
      "outputs": []
    },
    {
      "cell_type": "markdown",
      "source": [
        "Sometimes it can be useful to use the command [```.astype('datatype')```](https://pandas.pydata.org/docs/reference/api/pandas.DataFrame.astype.html) to convert a specific column of your dataframe to a certain type (for example, if integers were misread as strings, or 0/1s were misread as integers instead of booleans)."
      ],
      "metadata": {
        "id": "1LdvsKVXXTAS"
      }
    },
    {
      "cell_type": "code",
      "source": [
        "### RUN THIS CELL ###\n",
        "\n",
        "# Several of our column names are objects, but should be strings\n",
        "# let's convert it to a regular old string!\n",
        "spotify['mode'] = spotify['mode'].astype('string')"
      ],
      "metadata": {
        "id": "smbYCx9bDDZ-"
      },
      "execution_count": null,
      "outputs": []
    },
    {
      "cell_type": "code",
      "source": [
        "### RUN THIS CELL ###\n",
        "spotify.info()"
      ],
      "metadata": {
        "id": "8oXZmNt7XqiV"
      },
      "execution_count": null,
      "outputs": []
    },
    {
      "cell_type": "markdown",
      "source": [
        "Notice that we do have more columns that are objects and we want them to be strings. We will come back to this - you will adjust the remaining datatypes using a for loop. Stay tuned for this in the next section! 👷"
      ],
      "metadata": {
        "id": "R4o4OWm_9UNJ"
      }
    },
    {
      "cell_type": "markdown",
      "source": [
        "## 🏋 6.2 Coding Exercise\n",
        "\n",
        "We have a categorical column called `mode` that has two options: major or minor. Maybe we would want to work with this data in separate columns for analysis. To do so, we can convert these data into a 0 or a 1 (boolean) corresponding to the string from the original `mode` column and place these in 2 separate columns. `pandas` has a function to help us do this called [`get_dummies`](https://pandas.pydata.org/pandas-docs/stable/reference/api/pandas.get_dummies.html).\n",
        "\n",
        "\n",
        "\n",
        "Adjust this example code by replacing the `dataframe` and inserting the column name for `columns` and `prefix`:\n",
        "`pd.get_dummies(dataframe, columns=[''], prefix=['']`"
      ],
      "metadata": {
        "id": "sTHWhDub5ljb"
      }
    },
    {
      "cell_type": "code",
      "source": [
        "### YOUR CODE HERE ###\n",
        "spotify_dummies = pd.get_dummies(..., columns=[...], prefix=[...])\n"
      ],
      "metadata": {
        "id": "jsB2eSs552m2"
      },
      "execution_count": null,
      "outputs": []
    },
    {
      "cell_type": "code",
      "source": [
        "#@title Example Solution\n",
        "spotify_dummies = pd.get_dummies(spotify, columns=['mode'], prefix=['mode'])\n",
        "spotify_dummies"
      ],
      "metadata": {
        "cellView": "form",
        "id": "LlHLgYjZuy1F"
      },
      "execution_count": null,
      "outputs": []
    },
    {
      "cell_type": "markdown",
      "source": [
        "Let's review what we did and what the data looks like now."
      ],
      "metadata": {
        "id": "5JpqIe8S4KZi"
      }
    },
    {
      "cell_type": "code",
      "source": [
        "### RUN THIS CELL ###\n",
        "spotify_dummies.columns"
      ],
      "metadata": {
        "id": "C1FJPtaT7dQV"
      },
      "execution_count": null,
      "outputs": []
    },
    {
      "cell_type": "code",
      "source": [
        "### RUN THIS CELL ###\n",
        "dummy_cols = spotify_dummies[['mode_Major', 'mode_Minor']]\n",
        "dummy_cols"
      ],
      "metadata": {
        "id": "0HFthqT27Yi9"
      },
      "execution_count": null,
      "outputs": []
    },
    {
      "cell_type": "markdown",
      "source": [
        "Before we continue, let's set our index back to numbers instead of `artist_name`. This is needed for later plotting, and we don't want to forget to [reset](https://pandas.pydata.org/pandas-docs/stable/reference/api/pandas.DataFrame.reset_index.html)!\n",
        ">**Task**: Run the cell below."
      ],
      "metadata": {
        "id": "mtkeRc8Md_cn"
      }
    },
    {
      "cell_type": "code",
      "source": [
        "### RUN THIS CELL ###\n",
        "spotify = spotify.reset_index(drop=True)"
      ],
      "metadata": {
        "id": "Bx0Dpgh1clzd"
      },
      "execution_count": null,
      "outputs": []
    },
    {
      "cell_type": "markdown",
      "source": [
        "---\n",
        "# Section 7: For Loops 🔄\n"
      ],
      "metadata": {
        "id": "u-hh9ePY80bl"
      }
    },
    {
      "cell_type": "markdown",
      "source": [
        "Many times we want to write code to repeat a process multiple times, as well as be flexible to work in different situations. We can tell Python to execute some code a fixed number of times using a **for loop**. Just like function definitions use a particular syntax, a for loop looks like the following:\n",
        "\n",
        "```\n",
        "for COUNTER_VARIABLE in LIST_OF_VALUES:\n",
        "  DO SOMETHING\n",
        "  DO SOMETHING ELSE\n",
        "```\n",
        "\n",
        "\n",
        "*   **```for```**: The keyword that tells Python we are about to enter a for-loop.\n",
        "*   **COUNTER_VARIABLE**: A variable that will take on the value of whatever element of the LIST_OF_VALUES you are on in the current for-loop cycle.\n",
        "*   **LIST_OF_VALUES**: A list of values that you wish to cycle through over the course of the for loop. This can be a list of values, or can use the ```range()``` function. Example in a bit!\n",
        "*   **DO SOMETHING, DO SOMETHING ELSE**: The code that you want Python to execute every cycle (or *iteration*) of the loop, **indented compared to the ```for``` line.**\n",
        "\n"
      ],
      "metadata": {
        "id": "0JHwblzz-n9K"
      }
    },
    {
      "cell_type": "markdown",
      "source": [
        "A for loop can iterate over a list, generally the form ```[element1, element2, element3...]```.  If a for loop iterates over a list, the counter variable changes its value to the next element in the list every iteration.  Here's an example for loop.\n"
      ],
      "metadata": {
        "id": "zjL6eJ9u0glE"
      }
    },
    {
      "cell_type": "code",
      "source": [
        "### RUN THIS CELL ###\n",
        "num_fruits = 0\n",
        "for fruit in ['banana', 'apple', 'cherry', 'pomegranate']:\n",
        "  print(fruit, \"is a fruit\")\n",
        "  num_fruits = num_fruits + 1\n",
        "\n",
        "print('Wooho, we have', num_fruits, 'fruits!')"
      ],
      "metadata": {
        "id": "TnxXce_Z0x85"
      },
      "execution_count": null,
      "outputs": []
    },
    {
      "cell_type": "markdown",
      "source": [
        "If you don't have a specific list you want to iterate over, but you know you want to perform a set of actions a fixed number of times, you can use the [```range(n)```](https://docs.python.org/3/library/functions.html#func-range) function in place of the list. The `range` function will let you cycle through the for loop a fixed number (n) of times. Technically, when using the `range` function, the counter variable takes on the values of 0, then 1, then 2, then 3, etc., but it is also ok if you do not reference the counter variable at all in your for loop body.\n",
        "\n",
        "\n",
        "Here's an example."
      ],
      "metadata": {
        "id": "AeoNU4fE1OEw"
      }
    },
    {
      "cell_type": "code",
      "source": [
        "### RUN THIS CELL ###\n",
        "for step_i in range(5): # iterating through the for loop 5 times.\n",
        "  print('We are on iteration', step_i)"
      ],
      "metadata": {
        "id": "2uOmI4uK_swd"
      },
      "execution_count": null,
      "outputs": []
    },
    {
      "cell_type": "markdown",
      "source": [
        "## 🧘 7.0 Coding Exercise\n",
        "\n"
      ],
      "metadata": {
        "id": "TIl3tj5ptQK2"
      }
    },
    {
      "cell_type": "markdown",
      "source": [
        "Review the code below that prints individual letters of the word `music`. <br>\n",
        "This is a bad (inefficient) approach. It doesn't scale ❌ - <br>\n",
        "It doesn't work for longer words and will error for smaller words (imagine if you had thousands of rows of data!)<br>\n",
        "\n",
        "A better approach to print each letter in the word would be to use a for loop.\n",
        "\n",
        ">**Task:** Write a for loop in the second cell to produce the same output from the first cell."
      ],
      "metadata": {
        "id": "VwLLnOu1rEBb"
      }
    },
    {
      "cell_type": "code",
      "source": [
        "### RUN THIS CELL ###\n",
        "word = 'music'\n",
        "print(word[0])\n",
        "print(word[1])\n",
        "print(word[2])\n",
        "print(word[3])\n",
        "print(word[4])"
      ],
      "metadata": {
        "id": "69y4ZjnMA2kH"
      },
      "execution_count": null,
      "outputs": []
    },
    {
      "cell_type": "code",
      "source": [
        "### YOUR CODE HERE ###"
      ],
      "metadata": {
        "id": "zsAd6Sro2S2s"
      },
      "execution_count": null,
      "outputs": []
    },
    {
      "cell_type": "markdown",
      "source": [
        "\n",
        ">**Task:** Now test how flexible your for loop is. Try another word to see it in action!"
      ],
      "metadata": {
        "id": "tQfB5bLNBEK2"
      }
    },
    {
      "cell_type": "code",
      "source": [
        "### YOUR CODE HERE ###"
      ],
      "metadata": {
        "id": "C3b_GlkhA_w_"
      },
      "execution_count": null,
      "outputs": []
    },
    {
      "cell_type": "code",
      "source": [
        "#@title Example Solution\n",
        "word = 'music'\n",
        "for char in word:\n",
        "    print(char)"
      ],
      "metadata": {
        "cellView": "form",
        "id": "i9hDK_HpAFj3"
      },
      "execution_count": null,
      "outputs": []
    },
    {
      "cell_type": "markdown",
      "source": [
        "### **A Note on Naming** <br>\n",
        "In the above example, we used the name `char` which was short for `character`. This makes sense in our case, but see the example below. You have the freedom to choose any name that you want. In the case below, if we choose `dog` for the loop variable (counter variable), it will work as long as the same name is used when we start the loop and then within the loop. <br><br> However, when writing code, it's best to use a name that is meaningful, otherwise it could be difficult to figure out what the loop is doing. Do your future self a favor and use what makes sense (and leave yourself comments!) 🙃"
      ],
      "metadata": {
        "id": "Hff0X0yUBoiE"
      }
    },
    {
      "cell_type": "code",
      "source": [
        "### RUN THIS CELL ###\n",
        "word = 'bananas'\n",
        "for dog in word:\n",
        "    print(dog)"
      ],
      "metadata": {
        "id": "G98N7yh5CfW3"
      },
      "execution_count": null,
      "outputs": []
    },
    {
      "cell_type": "markdown",
      "source": [
        "## 🏃 7.1 Coding Exercise\n",
        "\n"
      ],
      "metadata": {
        "id": "nb5zqHN1tQK2"
      }
    },
    {
      "cell_type": "markdown",
      "source": [
        "Use a for loop to convert the string “hello” into a list of letters:\n",
        "```[\"h\",\"e\",\"l\",\"l\",\"o\"]```\n",
        "<br>\n",
        "\n",
        "**Hint:** You can create an empty list like this:\n",
        "```my_list = []```.\n",
        "\n",
        "The solution also includes using our friend `.append` for working with lists (we practiced above).\n"
      ],
      "metadata": {
        "id": "RrwBMVbfC_0t"
      }
    },
    {
      "cell_type": "code",
      "source": [
        "### YOUR CODE HERE ###"
      ],
      "metadata": {
        "id": "5ut97k2cGnm1"
      },
      "execution_count": null,
      "outputs": []
    },
    {
      "cell_type": "code",
      "source": [
        "#@title Example Solution\n",
        "my_list = []\n",
        "my_string = \"hello\"\n",
        "for char in my_string:\n",
        "    my_list.append(char)\n",
        "print(my_list)"
      ],
      "metadata": {
        "cellView": "form",
        "id": "hvctYX6Nk0Bl"
      },
      "execution_count": null,
      "outputs": []
    },
    {
      "cell_type": "markdown",
      "source": [
        "## 🏋 7.2 Coding Exercise\n",
        "\n"
      ],
      "metadata": {
        "id": "Zgmb6SbgtQK3"
      }
    },
    {
      "cell_type": "markdown",
      "source": [
        "Above we changed the `mode` column of data into a string. We need to do this for 3 other columns in our `spotify` dataset. They are:\n",
        "- `artist_name`\n",
        "- `track_name`\n",
        "- `key`\n",
        "\n",
        ">**Task:** Edit the skeleton code below to use a for loop to change the datatype from object to string. If you need to reference what we did above, it was the section on 💾 Data Types."
      ],
      "metadata": {
        "id": "PwkWUnq18-SU"
      }
    },
    {
      "cell_type": "code",
      "source": [
        "### EDIT THIS CODE TO RUN ###\n",
        "col_names = [..., ..., ...]\n",
        "\n",
        "for ... in ...:\n",
        "  spotify[...] = spotify[...].astype('string')\n",
        "\n",
        "spotify.info() # use this to verify the cols are strings"
      ],
      "metadata": {
        "id": "2tpTMZ-fF1M_"
      },
      "execution_count": null,
      "outputs": []
    },
    {
      "cell_type": "code",
      "source": [
        "#@title Example Solution\n",
        "col_names = ['artist_name', 'track_name', 'key']\n",
        "\n",
        "for c in col_names:\n",
        "  spotify[c] = spotify[c].astype('string')\n",
        "\n",
        "spotify.info()\n",
        "\n",
        "# What we previously used for reference:\n",
        "# spotify['mode'] = spotify['mode'].astype('string')"
      ],
      "metadata": {
        "cellView": "form",
        "id": "kcCod0g3GEv2"
      },
      "execution_count": null,
      "outputs": []
    },
    {
      "cell_type": "markdown",
      "source": [
        "## ⭐ Bonus: for loops to count data\n",
        "\n",
        "We know that there are some artists that appear to be dominating this dataset. We can use a for loop to go through and count the songs per each unique artist. This for loop is a bit more complex and uses slightly different syntax than the ones we practiced above.\n",
        "\n",
        "This is one example of how we can write our own code to review the data manually. In a few sections, we will see we can similarly look at descriptives using methods like `groupby` instead. This is already built in with `pandas` and may be more efficient than writing this out by hand with a for loop. But, this is still good practice as we are learning! For example, you could try to produce this same output using multiple methods to compare."
      ],
      "metadata": {
        "id": "Q26_u-WUm9-w"
      }
    },
    {
      "cell_type": "code",
      "source": [
        "# For loop to find and print number of songs per artist\n",
        "nums = []                                                                         # This will allow us to do an overall count too\n",
        "\n",
        "for i, artist_name in enumerate(spotify.artist_name.unique()):                    # we go through one-by-one each unique artist name - remember, we can have up to 7 together!\n",
        "  artist_data = spotify[spotify.artist_name == artist_name]                       # we find all rows in our dataframe that are for the artist(s)\n",
        "  artist_count = len(artist_data)                                                 # we use `len` (short for length) to get the # of rows of data (each row in dataset is a song)\n",
        "  nums = np.append(nums, artist_count)                                            # we created an empty array called nums before our loop, and we can add the numbers to it for each artist\n",
        "  print(f'# of songs for {artist_name}: ' + str(artist_count))                    # this prints out text to tell us how many songs were counted for each artist\n",
        "\n",
        "print('Total # of songs in dataset: ' + str(sum(nums)))                           # this is to just double check we get out the number we expect!"
      ],
      "metadata": {
        "id": "9slefAa8m7jZ"
      },
      "execution_count": null,
      "outputs": []
    },
    {
      "cell_type": "markdown",
      "source": [
        "\n",
        "\n",
        "---\n",
        "\n",
        "\n",
        "# Section 8: Conditional Statements 🔀"
      ],
      "metadata": {
        "id": "urvasBX4rhfE"
      }
    },
    {
      "cell_type": "markdown",
      "source": [
        "We've started working with the dataset, but so far you probably feel like you know very little about all of the data it contains. That's okay- we have tools we can use to write **robust** code to find information in our dataframe when we don't necessarily know specific information yet at the start.\n",
        "To do so, we can write code that uses the following logic:\n",
        "\n",
        " <font color='green'>If a certain condition is `True`, <font color='blue'>execute the code one way. </br><font color='orange'>If that condition is not true (`False`), <font color='magenta'>execute the code a different way.</font>\n",
        "\n",
        "We can implement this logic using a **conditional statement**. The syntax for a conditional statement in Python looks like the following:\n",
        "\n",
        "```\n",
        "if CONDITION:\n",
        "  DO SOMETHING\n",
        "elif ANOTHER_CONDITION:\n",
        "  DO ANOTHER THING\n",
        "else:\n",
        "  DO SOMETHING ELSE\n",
        "```\n",
        "\n",
        "\n",
        "*   **``if``**: a keyword that lets Python know you are implementing a conditional.\n",
        "\n",
        "*   **CONDITION(AL)**: A boolean function or variable that returns the value ```True``` or ```False```. The word **boolean** means exactly that - a function or variable can only return True or False.\n",
        "\n",
        "*   **DO SOMETHING**: The body of you code you wish to exectute if the CONDITION is True.\n",
        "\n",
        "*   **``elif``** (optional): A keyword that lets Python know that it should execute the following body of code if the condition is True. (and the previous condition was not true)\n",
        "\n",
        "*   **DO ANOTHER THING** (optional): The body of code you wish to execute if ANOTHER_CONDITION is True.\n",
        "\n",
        "*   **``else``** (optional): A keyword that lets Python know that it should execute the following body of code if the condition is not true.\n",
        "\n",
        "*   **DO SOMETHING ELSE** (optional): The body of code you wish to execute if the CONDITION or ANOTHER_CONDITION is False.\n",
        "\n",
        "\n",
        "\n",
        "We will explore how to use each of these different components of an if-then statement in the following exercises.\n"
      ],
      "metadata": {
        "id": "vNlN06XxKQ1b"
      }
    },
    {
      "cell_type": "markdown",
      "source": [
        "We already have some built in functions in `pandas` that return a **boolean** depending on the condition you are looking for in the dataset.\n",
        "\n",
        "[**```is_na()```**](https://pandas.pydata.org/docs/reference/api/pandas.DataFrame.isna.html): Returns `True` if there are missing values (NaNs), and `False` if there is not.\n",
        "\n",
        ">**Task:** What will the following block of code print? `True` or `False`? Run the code below to see if you are correct."
      ],
      "metadata": {
        "id": "svfdkik8qSNS"
      }
    },
    {
      "cell_type": "code",
      "source": [
        "### RUN THIS CELL ###\n",
        "pd.isna('Python Crash Course')"
      ],
      "metadata": {
        "id": "XxX-hHWPqRtd"
      },
      "execution_count": null,
      "outputs": []
    },
    {
      "cell_type": "code",
      "source": [
        "### RUN THIS CELL ###\n",
        "pd.isna(np.nan)"
      ],
      "metadata": {
        "id": "NMq7n-NmQusg"
      },
      "execution_count": null,
      "outputs": []
    },
    {
      "cell_type": "code",
      "source": [
        "### RUN THIS CELL ###\n",
        "# Want to know what np.nan does? Try running just that part here\n",
        "np.nan"
      ],
      "metadata": {
        "id": "PRzRYT9yIX5u"
      },
      "execution_count": null,
      "outputs": []
    },
    {
      "cell_type": "markdown",
      "source": [
        "Here is a more interesting example to examine any (and all) missing data from our dataframe."
      ],
      "metadata": {
        "id": "QvG8nFFDRaXa"
      }
    },
    {
      "cell_type": "code",
      "source": [
        "### RUN THIS CELL ###\n",
        "spotify.isna().sum()"
      ],
      "metadata": {
        "id": "Uw9l8Qc4Q-Fl"
      },
      "execution_count": null,
      "outputs": []
    },
    {
      "cell_type": "markdown",
      "source": [
        "Why did `sum` work with `True` and `False` values? <br>To count these, we use `True = 1` and `False = 0`. So the above `sum` is really a count of how many `True` (`nan`) values were found. <br><br>\n",
        "Note: Pandas supports **missing values**. If a value is missing it will be a \"nan\" value. Many functions (```mean```, ```sum```, etc.) have specific parameters you can choose for how to deal with missing values (do we ignore it, do we treat it as a zero, do we return a null?). This is a decision you will need to make based on your question of interest or purpose for running your code/analyses.\n",
        "\n"
      ],
      "metadata": {
        "id": "IhOR5OnSItM5"
      }
    },
    {
      "cell_type": "markdown",
      "source": [
        "We can also use logical operators with our conditional statements:\n",
        "* \"is equal to\" `==`\n",
        "* \"is not equal to\" `!=`\n",
        "* \"is less than\" `<`\n",
        "* \"is greater than\" `>`\n",
        "\n",
        ">**Task:** Predict what Python will do with the following logical operator. Then run the cell to check your predictions. Try changing the value of ```age``` and ```day``` and see what happens."
      ],
      "metadata": {
        "id": "AHfMMwJiVnhw"
      }
    },
    {
      "cell_type": "code",
      "source": [
        "age = 65\n",
        "day = \"Tuesday\" # Tuesdays are senior nights!\n",
        "if (age >=65) and (day == 'Tuesday'):\n",
        "  print(\"You get a senior discount!\")\n",
        "else:\n",
        "  print(\"Sorry, you do not quality for a senior discount.\")"
      ],
      "metadata": {
        "id": "RAtT_Ep0T2AY"
      },
      "execution_count": null,
      "outputs": []
    },
    {
      "cell_type": "markdown",
      "source": [
        "## ⛔ Using Conditional Statements to Select Dataframe rows\n",
        "\n",
        "We learned above how to pull out data from an entire column (or columns). Now, we want to pull out data from rows (across multiple columns) that meets a certain condition. The logic is similar, but we need to add a bit more to our code.<br> <br>\n",
        "Remember that our data is similar within a column, but each row contains a mix of data across the columns. For example, some values are text (strings) and some are numbers. <br><br>\n",
        "To filter a DataFrame based on the contents by rows in `pandas`, we need to use boolean (`True` or `False`) expressions in order to select the rows we want to keep. Conditional expressions (`>`,`<`, `==`, `!=`, `<=`, ...) enable us to test whether our conditions of interest would evaluate to `True` or `False`. Typically, we want to keep data in our rows that meets a certain criteria (`True`). Let's walk through an example."
      ],
      "metadata": {
        "id": "_YQyFlI8R3-T"
      }
    },
    {
      "cell_type": "markdown",
      "source": [
        ">**Task:** Run this code. Predict what you think you will see once it runs."
      ],
      "metadata": {
        "id": "w-ZAFeU4kqNb"
      }
    },
    {
      "cell_type": "code",
      "source": [
        "### RUN THIS CELL ###\n",
        "spotify['in_apple_playlists'] > 50"
      ],
      "metadata": {
        "id": "jToJP8nykkfN"
      },
      "execution_count": null,
      "outputs": []
    },
    {
      "cell_type": "markdown",
      "source": [
        "We put in the name of our column `in_apple_playlists` and asked Python to find where this value is greater than > 50.<br>\n",
        "You can see from the output that sometimes values in this column are `True`, meaning this corresponds to a row that the song was in more than 50 apple playlists. If you see `False`, this indicates that the value in the row did *NOT* meet our condition (greater than 50).<br>\n",
        "This is helpful to illustrate the values we would see if we *only* look at the column we specified `in_apple_playlists`."
      ],
      "metadata": {
        "id": "T0QM7dmgkcHZ"
      }
    },
    {
      "cell_type": "markdown",
      "source": [
        "We want to take this a step further, because we don't want to work with just one column in our dataset! It's important to see what Python is doing and how it interprets the code, since this is an intermediate step in the code we will run below.<br>\n",
        "We want to use the code we've written above but now apply this filter across the entire dataset. So, we want to pull out **all rows** where data was in more than 50 apple playlists, and also keep all columns in our dataset. <br><br>\n",
        "To do this, we have to specify that we want to do this filtering in the context of our dataframe `spotify`. The line of code below will reference the dataframe first and then put the code we ran above inside brackets to subset the entire dataset. We will get out only rows that meet our condition `>50 apple playlists` and also still have all of the columns in our dataframe to work with."
      ],
      "metadata": {
        "id": "PQY-BKehkhzl"
      }
    },
    {
      "cell_type": "markdown",
      "source": [
        ">**Task:** Review this code and compare it to above. Also review the output."
      ],
      "metadata": {
        "id": "qa2oSzo8lhZS"
      }
    },
    {
      "cell_type": "code",
      "source": [
        "### RUN THIS CELL ###\n",
        "apple_subset = spotify[spotify['in_apple_playlists'] > 50]\n",
        "apple_subset"
      ],
      "metadata": {
        "id": "VvxoS9aXlb8D"
      },
      "execution_count": null,
      "outputs": []
    },
    {
      "cell_type": "code",
      "source": [
        "### RUN THIS CELL ###\n",
        "# How many rows met this condition?\n",
        "print(len(apple_subset))"
      ],
      "metadata": {
        "id": "ybK--_YIJ3P4"
      },
      "execution_count": null,
      "outputs": []
    },
    {
      "cell_type": "markdown",
      "source": [
        "## 🧘 8.0 Coding Exercise"
      ],
      "metadata": {
        "id": "7ebZQ0QsaNEq"
      }
    },
    {
      "cell_type": "markdown",
      "source": [
        "Choose your own adventure! 🌄\n",
        "Pick something you would like to filter the dataset by and test out your code. If you need a reminder of all the columns, run the cells below to preview some more info about the data. Alternatively, type the name of the dataset so you can scroll through it to pick something you are interested in.\n",
        "\n",
        "If all else fails and you aren't feeling creative (or are stuck and don't know where to start), use the code above and adjust it so that you find the rows of data for Queen (`artist_name`)."
      ],
      "metadata": {
        "id": "gC8BMqaF_33P"
      }
    },
    {
      "cell_type": "code",
      "source": [
        "### YOUR CODE HERE ###"
      ],
      "metadata": {
        "id": "WBsVCFnJA-w0"
      },
      "execution_count": null,
      "outputs": []
    },
    {
      "cell_type": "code",
      "source": [
        "#@title Example Solution\n",
        "# try filtering by an artist name\n",
        "spotify[spotify['artist_name'] == 'Queen']"
      ],
      "metadata": {
        "id": "HgW0q7y1aHuO",
        "cellView": "form"
      },
      "execution_count": null,
      "outputs": []
    },
    {
      "cell_type": "markdown",
      "source": [
        "## 🏃 8.1 Coding Exercise\n",
        "\n",
        "\n",
        "Using a for loop and an if statement, in combination with the other concepts you have learned, build some code to count the number of songs in the dataframe that are over 20 years old.\n",
        "\n"
      ],
      "metadata": {
        "id": "yy7RqmWvtQfh"
      }
    },
    {
      "cell_type": "code",
      "source": [
        "### YOUR CODE HERE ###"
      ],
      "metadata": {
        "id": "kH1ngFO5YNVk"
      },
      "execution_count": null,
      "outputs": []
    },
    {
      "cell_type": "code",
      "source": [
        "#@title Example Solution\n",
        "songs_over_20_counter = []\n",
        "songs_under_20_counter = []\n",
        "\n",
        "for i in spotify.index:\n",
        "  if spotify.age[i] >= 20:\n",
        "    songs_over_20_counter.append(1)\n",
        "  else:\n",
        "    songs_under_20_counter.append(1)\n",
        "\n",
        "print('# of songs over 20:', sum(songs_over_20_counter))\n",
        "print('# of songs under 20:', sum(songs_under_20_counter))\n",
        "print('Check of total # of songs:', sum(songs_over_20_counter) + sum(songs_under_20_counter))"
      ],
      "metadata": {
        "cellView": "form",
        "id": "k6mCXqH0Ug1L"
      },
      "execution_count": null,
      "outputs": []
    },
    {
      "cell_type": "code",
      "source": [
        "#@title Example Solutions - Other Options\n",
        "#for i in range(len(df)):\n",
        "#for index, row in df.iterrows():"
      ],
      "metadata": {
        "id": "mnID91VBWUgY",
        "cellView": "form"
      },
      "execution_count": null,
      "outputs": []
    },
    {
      "cell_type": "markdown",
      "source": [
        "\n",
        "---\n",
        "\n",
        "\n",
        "# Section 9: Reviewing the Dataset 👀\n",
        "\n",
        "So far we've learned about how to use Python and worked with parts of the dataset. Maybe you feel like you've started to know the dataset, but there's alot of data! Let's take stock of the data we have available to us. I will demonstrate some of my most commonly used functions and methods. These will help to get at what data we have and how find out the info we want to describe the data from our dataframe."
      ],
      "metadata": {
        "id": "WLT5gJ8yd0DG"
      }
    },
    {
      "cell_type": "markdown",
      "source": [
        ">**Task:** Let's start by reviewing the dataframe like we already have above. We will use `.info()` to remind ourselves what info we have. Run this cell."
      ],
      "metadata": {
        "id": "IwrteJD8iL82"
      }
    },
    {
      "cell_type": "code",
      "source": [
        "### RUN THIS CELL ###\n",
        "spotify.info()"
      ],
      "metadata": {
        "id": "mGsuMR_FfNNL"
      },
      "execution_count": null,
      "outputs": []
    },
    {
      "cell_type": "markdown",
      "source": [
        "## `Unique` values 🦄"
      ],
      "metadata": {
        "id": "4JikV_S4i3U4"
      }
    },
    {
      "cell_type": "markdown",
      "source": [
        "Luckily, we don't have to do everything by eye 👀 and scroll the whole way through the table (although I do recommend doing this to get a feel for the data!). <br><br>\n",
        "We can use the function [`unique`](https://pandas.pydata.org/docs/reference/api/pandas.unique.html) in `pandas` to help us out. It will return the unique values from the column we specify based on the order of appearance (it does not sort them in any way).<br> <br>\n",
        "\n",
        "Helpful info can also be found [here](https://favtutor.com/blogs/pandas-unique-values-in-column). <br>\n",
        "\n",
        "Below, we will first call the name of our dataframe (`spotify`) then reference the column name (`.column_name`) and finally use `.unique()` to figure out the possible values in our column. <br><br>\n",
        "The code we will use looks like this: ```dataframe.column_name.unique()```"
      ],
      "metadata": {
        "id": "jxU5l66hjBVe"
      }
    },
    {
      "cell_type": "markdown",
      "source": [
        "## 🧘 9.0 Coding Exercise\n",
        "\n",
        "Until now, we don't actually know what all the options are for `artist_count` in the dataset - did you manually count above 😉?\n",
        "\n",
        ">**Task:** Use the example syntax above to write code that will show the `unique` numbers contained in the `artist_count` column. This will give us more info about artist collaborations in the dataset."
      ],
      "metadata": {
        "id": "QmJHxeVmjmfX"
      }
    },
    {
      "cell_type": "code",
      "source": [
        "### YOUR CODE HERE ###"
      ],
      "metadata": {
        "id": "PcdzcJcUi2zQ"
      },
      "execution_count": null,
      "outputs": []
    },
    {
      "cell_type": "code",
      "source": [
        "#@title Example Solution\n",
        "print('Counts of artists:', spotify.artist_count.unique())"
      ],
      "metadata": {
        "cellView": "form",
        "id": "Gepn1nN3j6LU"
      },
      "execution_count": null,
      "outputs": []
    },
    {
      "cell_type": "markdown",
      "source": [
        "## Sorting 🔽\n",
        "\n",
        "As you can see, this isn't sorted in order, but the numbers appear based on how they appeared in the dataset. Many times it helps us to arrange our data in logical way that makes sense for our brain 🧠. Sorting is particulary helpful for this!\n",
        "\n",
        "If you want to `sort` them, can you find a way to do so?\n",
        "\n",
        "**Hint:** There are many ways to do so! If you are ever stuck, you can try googling the combination of the package you are using ([`numpy`](https://numpy.org/doc/stable/reference/generated/numpy.sort.html)) and what you'd like to do with the data (`sort`)."
      ],
      "metadata": {
        "id": "pOOAv7zMsnOx"
      }
    },
    {
      "cell_type": "code",
      "source": [
        "### YOUR CODE HERE ###"
      ],
      "metadata": {
        "id": "CRB5dNzEnGWv"
      },
      "execution_count": null,
      "outputs": []
    },
    {
      "cell_type": "code",
      "source": [
        "#@title Example Solution\n",
        "print('Counts of artists using np.sort:', np.sort(spotify.artist_count.unique()))"
      ],
      "metadata": {
        "id": "O_Qmc-3eocG9"
      },
      "execution_count": null,
      "outputs": []
    },
    {
      "cell_type": "code",
      "source": [
        "#@title Example Solution- Another Way\n",
        "print('Counts of artists using sorted:', sorted(spotify.artist_count.unique()))"
      ],
      "metadata": {
        "id": "5Q1UHrvxLXu0"
      },
      "execution_count": null,
      "outputs": []
    },
    {
      "cell_type": "markdown",
      "source": [
        "## 9.1 🏃 Coding Exercise\n",
        "\n",
        "It's also possible to sort the entire dataframe. `pandas` uses [`sort_values`](https://pandas.pydata.org/docs/reference/api/pandas.DataFrame.sort_values.html) to arrange the dataframe depending on what you'd like to sort by.\n",
        "\n",
        "Let's take a look at the dataframe sorted by `released_year`. Just how old are the oldest songs in our dataset?\n",
        "\n",
        ">**Task:** Use the skeleton code here and add it to a cell below. Sort based on `released_year`. <br>\n",
        "`sorted_df = dataframe.sort_values(by=['...'])`\n",
        "\n",
        "Note: `sort_values` defaults to the order of sorting as `ascending = True`. If you want to change this, add this parameter and set it to false to sort from most recent to oldest instead."
      ],
      "metadata": {
        "id": "tAhNjzxTxFPM"
      }
    },
    {
      "cell_type": "code",
      "source": [
        "### YOUR CODE HERE ###"
      ],
      "metadata": {
        "id": "6B8lDaljymsO"
      },
      "execution_count": null,
      "outputs": []
    },
    {
      "cell_type": "code",
      "source": [
        "#@title Example Solution\n",
        "# Surpring insight- christmas songs in our list?\n",
        "sorted_year = spotify.sort_values(by=['released_year']) # default is ascending = True\n",
        "sorted_year"
      ],
      "metadata": {
        "id": "V6mZ6co-zHXT",
        "cellView": "form"
      },
      "execution_count": null,
      "outputs": []
    },
    {
      "cell_type": "markdown",
      "source": [
        "Interesting! Just scrolling through the top of the list, there are some Christmas classic songs in there that still seem to be widely streamed! ❄ 🎄 ⛄"
      ],
      "metadata": {
        "id": "xYP5WSyQ_Bsf"
      }
    },
    {
      "cell_type": "markdown",
      "source": [
        "## Descriptive Statistics 🔎\n",
        "\n"
      ],
      "metadata": {
        "id": "EOFMoB3ko_VQ"
      }
    },
    {
      "cell_type": "markdown",
      "source": [
        "## 🏋 9.2 Coding Exercise\n",
        "We will now examine descriptive statistics of our different variables. We are typically interested in different parameters, such as: counts, means, and standard deviation. This will tell us more about our sample -- it will describe the data we have available to work with.<br>\n",
        "\n",
        "There is a built in method to do just this with `pandas` called [`describe`](https://pandas.pydata.org/pandas-docs/stable/reference/api/pandas.DataFrame.describe.html). <br>\n",
        "\n",
        "The code looks like this: ```dataframe.describe()``` <br>\n",
        "\n",
        ">**Task:** Write code below using our dataframe name to describe the data."
      ],
      "metadata": {
        "id": "rMOGR6oiO_z7"
      }
    },
    {
      "cell_type": "code",
      "source": [
        "### YOUR CODE HERE ###"
      ],
      "metadata": {
        "id": "0BBebDH4qAKW"
      },
      "execution_count": null,
      "outputs": []
    },
    {
      "cell_type": "code",
      "source": [
        "#@title Example Solution\n",
        "spotify.describe()"
      ],
      "metadata": {
        "cellView": "form",
        "id": "ZyjnRK83pCgv"
      },
      "execution_count": null,
      "outputs": []
    },
    {
      "cell_type": "markdown",
      "source": [
        "Notice that by default, the information is calculated for only the columns that contain **numerical** data. It is possible to specify additional parameters for the `describe` method that will ask for **categorical** info to be displayed as well.\n",
        "\n",
        ">**Task:** Run the cell below to see the output that includes `all` datatypes. Notice how we will see NaNs for our numerical columns where the descriptives don't apply."
      ],
      "metadata": {
        "id": "vKOZHfuQqNOQ"
      }
    },
    {
      "cell_type": "code",
      "source": [
        "### RUN THIS CELL ###\n",
        "spotify.describe(include = 'all')"
      ],
      "metadata": {
        "id": "SMim7P5gqEp_"
      },
      "execution_count": null,
      "outputs": []
    },
    {
      "cell_type": "markdown",
      "source": [
        "## Groupby  👭"
      ],
      "metadata": {
        "id": "DEhVoZcqsq05"
      }
    },
    {
      "cell_type": "markdown",
      "source": [
        "We could instead create our own descriptive table based on a subset of information we are interested in.\n",
        "Grouping allows us to arrange our data in a way we want to review it. You can think of grouping as splitting the dataset data into buckets 🪣. Then you can call \"aggregate\" functions (`mean`, `sum`, `max`, `min`, etc) on these buckets to find these values per bucket (which can lead to interesting analysis 📊)!\n",
        "\n",
        "We will use [`groupby`](https://pandas.pydata.org/pandas-docs/stable/user_guide/groupby.html) in `pandas` to help us out. <br>\n",
        "\n",
        "A group by operation consists of two parts:\n",
        "1. We use ```.groupby``` to group rows together that have the same value for the column(s) we are interested in. Typically, you would always group by categorical columns, not number columns. E.g. If you are interested in analyzing the major versus minor mode of songs, we might do: ```spotify.groupby('mode')```\n",
        "\n",
        "2. An aggregation function. This is the computation you want to perform across the sets of rows that were grouped together during step 1. ```.count()```, ```.mean()```, and ```.sum()``` are common aggregation functions, but you can also pass your own as an argument to ```.aggregate()```.\n",
        "\n",
        "\n",
        "Here are examples of using `groupby` to examine our data further 🔬"
      ],
      "metadata": {
        "id": "pyrYeZh8stHI"
      }
    },
    {
      "cell_type": "code",
      "source": [
        "# Calculate summary statistics\n",
        "print(\"Summary statistics:\")\n",
        "\n",
        "# group and aggregate the values\n",
        "summary_stats = spotify.groupby(by=['artist_name']).agg(\n",
        "    {'artist_name': 'count', 'bpm': ['mean', 'std']}).round(2)\n",
        "\n",
        "# display\n",
        "display(summary_stats)"
      ],
      "metadata": {
        "id": "3zDLHsxwtZF6"
      },
      "execution_count": null,
      "outputs": []
    },
    {
      "cell_type": "markdown",
      "source": [
        "Reviewing the above code:\n",
        "\n",
        "In this example, we wanted to see the **count** of `artist_name` and **mean** and **standard deviation** of `bpm` for each artist `artist_name`.<br>\n",
        "\n",
        "What we did with the code was:\n",
        "\n",
        "1. `groupby` one column name. We only used one column above, but you can add more than one.\n",
        "2. After we use `groupby`, we apply the aggregation method `.agg()` and specify a dictionary 📙 in a following way: `{column_name: aggregation function}`. We applied multiple functions at once on different columns.\n",
        "\n",
        "**Notice**:  We also applied multiple functions on the same column `bpm` by specifying a list that contained multiple functions in brackets like `[\"mean\", \"std\"]`.\n",
        "Also, we have NaNs in our standard deviation column. This is why I also included the count column. It makes sense that if we only have 1 song (1 row of data), then we cannot calculate any deviation. This is a good way to check that the values you get from your data make sense!\n"
      ],
      "metadata": {
        "id": "k-zOpi16uwhf"
      }
    },
    {
      "cell_type": "markdown",
      "source": [
        "## 🏋 9.3 Coding Exercise\n",
        "\n",
        "Now it's your turn to practice using `groupby`. You can start by copy and pasting the code from above. Here we will `groupby` `artist_name` and then aggregate using both `count` (same as above), but instead finding the `min` and `max` of `released_year`. Adjust your code and test it out to review which artists have been releasing songs across multiple years, or to determine if some were one hit wonders! 🎯"
      ],
      "metadata": {
        "id": "DdvWn_bRuhWo"
      }
    },
    {
      "cell_type": "code",
      "source": [
        "### YOUR CODE HERE ###"
      ],
      "metadata": {
        "id": "SQ38TjM4N30P"
      },
      "execution_count": null,
      "outputs": []
    },
    {
      "cell_type": "code",
      "source": [
        "#@title Example Solution\n",
        "# Calculate summary statistics\n",
        "print(\"Summary statistics:\")\n",
        "\n",
        "# group and aggregate the values\n",
        "summary_stats = spotify.groupby(by=['artist_name']).agg(\n",
        "    {'artist_name': 'count', 'released_year': ['min', 'max']})\n",
        "\n",
        "# display\n",
        "display(summary_stats)"
      ],
      "metadata": {
        "id": "dhvp-7lsuYOR",
        "cellView": "form"
      },
      "execution_count": null,
      "outputs": []
    },
    {
      "cell_type": "markdown",
      "source": [
        "## Bonus: Dictionaries 📙"
      ],
      "metadata": {
        "id": "0o3VDCJpvKz6"
      }
    },
    {
      "cell_type": "markdown",
      "source": [
        "Here we have a new type of data structure that I likely won't go into detail in this workshop. If you want more information, read on, otherwise feel free to skip this extra bit. <br><br>\n",
        "There is a datatype in python called a dictionary that we used above.\n",
        "Dictionaries store data in key:value pairs. Also note that we have a new type of brackets or braces that are curly `{ }`\n",
        "\n",
        "<br>\n",
        "\n",
        "```\n",
        "new_type = {'Number of petals': [8, 34, 5], 'Name': ['lotus', 'sunflower', 'rose']}\n",
        "type(new_type)\n",
        "dict\n",
        "```\n",
        "\n",
        "For example, here are key: value pairs: <br>\n",
        "`'Number of petals': [8,34,5]` <br>\n",
        "`'Name': ['lotus','sunflower', 'rose']` <br>\n",
        "The keys 🔑 are the strings for the column names, and the values 🔟 are the data that go in the rows of the table. <br><br>\n",
        "\n",
        "Dictionaries are structures which can contain multiple data types. They contain key-value pairs. For each unique key, the dictionary has one value. Keys can be various data types: strings, numbers, or tuples, while the corresponding values can be any Python object.<br>\n",
        "\n",
        "You cannot access values of the dictionary by the indexes (like you can in lists or arrays). But you can access them by the key. Due to this feature dictionaries don't allow duplicated keys.\n",
        "\n",
        "You can also access just the keys or just the indexes by `.keys()` and `.values()` methods.\n",
        "<br><br>\n",
        "To find out even more, read the Python [documentation](https://docs.python.org/3/tutorial/datastructures.html#dictionaries). <br>\n",
        "\n",
        "Other examples and [tutorial](https://www.w3schools.com/python/python_dictionaries.asp)"
      ],
      "metadata": {
        "id": "n6PFfaxzv4bF"
      }
    },
    {
      "cell_type": "markdown",
      "source": [
        "-----\n",
        "\n",
        "# Section 10: Plotting with Seaborn (and Matplotlib) 📈 📊"
      ],
      "metadata": {
        "id": "B0_02o-nzrc0"
      }
    },
    {
      "cell_type": "markdown",
      "source": [
        "<img src=\"https://upload.wikimedia.org/wikipedia/commons/8/87/Beauty_in_magic_square.png\" width=1000>\n",
        "\n",
        "[Seaborn](https://seaborn.pydata.org/) is a library for data visualization and figure making. Seaborn works very well with `pandas` dataframes, and you can modify the appearances of your plots using similar settings to how we did it in `numpy`. It can also work together with `matplotlib`. <br> In `seaborn`, we:<br>\n",
        "(1) decide what plotting function to use, <br>\n",
        "(2) pass the function a **full dataframe**, <br>\n",
        "(3) specify which columns in our dataframe we want to use as our x-axis, y-axis, colors, etc. and <br>\n",
        "(4) specify any additional parameters specific to the plotting function. <br>\n",
        "\n",
        "\n",
        "```\n",
        "sns.PLOT_FUNCTION(\n",
        "    data=YOUR_DATA,\n",
        "    x='COL TO USE FOR X',\n",
        "    y='COL TO USE FOR Y',\n",
        "    hue = 'COL YOU WANT TO SET COLOR ACCORDING TO',\n",
        "    additional params=...)\n",
        "```\n",
        "\n",
        "\n",
        ">**Task:** Review and run the cells below to see examples.\n"
      ],
      "metadata": {
        "id": "BXPQDhiPz3bo"
      }
    },
    {
      "cell_type": "markdown",
      "source": [
        "Let's create a plot to examine if there is a relationship between `bpm` and `energy %`? Does this vary by `mode`?"
      ],
      "metadata": {
        "id": "vDm0oWgc5kSH"
      }
    },
    {
      "cell_type": "code",
      "source": [
        "### RUN THIS CELL ###\n",
        "\n",
        "# Set this text for the plot- easiest to edit here as needed\n",
        "x_label_name = 'Beats per minute (bpm)'                                       # x-axis label text\n",
        "y_label_name = 'Energy %'                                                     # y-axis label text\n",
        "leg_title = 'Mode'                                                            # legend title - column name for hue\n",
        "plot_title = 'Relationship between BPM and Energy % by Mode'                  # plot title text\n",
        "fig_name_scatter1 = \"Scatter_BPM_Energy_Mode.png\"                             # text to name figure for saving\n",
        "\n",
        "# Example of a scatter plot\n",
        "sp = sns.scatterplot(                                                         # plotting option to use in seaborn\n",
        "    data=spotify,                                                             # dataframe\n",
        "    x='bpm',                                                                  # column name to use values for x-axis\n",
        "    y='energy_percent',                                                       # column name to use values for y-axis\n",
        "    hue='mode')                                                               # color code our dots by mode column values\n",
        "\n",
        "# Adjustment + aesthetics of plot\n",
        "sp.figure.set_size_inches(6.5, 4.5)                                           # this sets the size and we will use to be consistent across all plots below\n",
        "sns.despine()                                                                 # remove top and right axes (w/o this, full box border)\n",
        "plt.xlabel(x_label_name)                                                      # use matplotlib (plt) to adjust the x axis on this one\n",
        "plt.ylabel(y_label_name)                                                      # use matplotlib (plt) to adjust the y axis on this one\n",
        "plt.title(plot_title, y=1.05)                                                 # add a title so we know what we plotted!\n",
        "plt.ylim(0,100)                                                               # use matplotlib (plt) to adjust the y axis limits\n",
        "plt.legend(bbox_to_anchor=(1.1, 0.05), loc='lower right', title=leg_title);   # use matplotlib (plt) to adjust the legend location and label\n",
        "\n",
        "# Save our figure\n",
        "plt.savefig(fig_name_scatter1, dpi=300, bbox_inches='tight')                  # save w/figure name"
      ],
      "metadata": {
        "id": "IGRYITG65dTD"
      },
      "execution_count": null,
      "outputs": []
    },
    {
      "cell_type": "markdown",
      "source": [
        "Let's create a boxplot to examine if there are differences between number of `streams` depending on `release_month` and by `mode`."
      ],
      "metadata": {
        "id": "k3ZaohzR5vBP"
      }
    },
    {
      "cell_type": "code",
      "source": [
        "### RUN THIS CELL ###\n",
        "\n",
        "# Set this text for the plot- easiest to edit here as needed\n",
        "x_label_name = 'Release Month'                                                # x-axis label text\n",
        "y_label_name = 'Streams'                                                      # y-axis label text\n",
        "leg_title = 'Mode'                                                            # legend title - column name for hue\n",
        "plot_title = 'Streams of Songs Released Over Month by Mode'                   # plot title text\n",
        "fig_name_box = \"Boxplot_ReleaseMonth_Streams_Mode.png\"                        # text to name figure for saving\n",
        "\n",
        "# Example of a scatter plot\n",
        "bp = sns.boxplot(                                                             # plotting option to use in seaborn\n",
        "    data=spotify,                                                             # dataframe\n",
        "    x='released_month',                                                       # column name to use values for x-axis\n",
        "    y='streams',                                                              # column name to use values for y-axis\n",
        "    hue='mode')                                                               # color code our dots by mode column values\n",
        "\n",
        "# Adjustment + aesthetics of plot\n",
        "bp.figure.set_size_inches(6.5, 4.5)                                           # this sets the size and we will use to be consistent across all plots below\n",
        "sns.despine()                                                                 # remove top and right axes (w/o this, full box border)\n",
        "plt.xlabel(x_label_name)                                                      # use matplotlib (plt) to adjust the x axis on this one\n",
        "plt.ylabel(y_label_name)                                                      # use matplotlib (plt) to adjust the y axis on this one\n",
        "plt.title(plot_title, y=1.1)                                                  # add a title so we know what we plotted!\n",
        "plt.ylim(0,4000000000)                                                        # use matplotlib (plt) to adjust the y axis limits\n",
        "plt.legend(bbox_to_anchor=(1.2, 1.05), loc='upper right', title=leg_title);   # use matplotlib (plt) to adjust the legend location and label\n",
        "\n",
        "# Save our figure\n",
        "plt.savefig(fig_name_box, dpi=300, bbox_inches='tight')                       # save w/figure name"
      ],
      "metadata": {
        "id": "rq8dWXyzQwYQ"
      },
      "execution_count": null,
      "outputs": []
    },
    {
      "cell_type": "markdown",
      "source": [
        "## 💁 A Few Tips on Data Visualization\n",
        "\n",
        "Although there are many reviews and studies discussing [best practices for figures](https://journals.plos.org/ploscompbiol/article?id=10.1371/journal.pcbi.1003833), we will list a couple of `pandas` plots you can utilize when you wish to visualize various relationships:\n",
        "\n",
        "**Visualizing a single variable**\n",
        "- Histogram (```sns.hist()```)\n",
        "- Barplot, i.e. for counts of a single variable (```sns.bar()```)\n",
        "\n",
        "**Visualizing multiple numeric variables**\n",
        "- Scatter plot/line graph (```sns.scatter```)\n",
        "- 2d histogram plot (```sns.jointplot()```)\n",
        "\n",
        "**Visualizing categorial & numerical variable**\n",
        "- Violinplot/Boxplot (```sns.violinplot()```, ```sns.boxplot()```)\n",
        "- Stripplot or swarm plot (```sns.stripplot()```, ```sns.swarmplot()```)\n",
        "- Barplot (```sns.barplot()```, ```sns.boxplot()```)\n",
        "\n",
        "**Visualizing two categorical variables**\n",
        "- Heatmap (```sns.heatmap()```)<br><br>\n",
        "\n",
        "\n",
        "To visualize 3 variables, consider encoding one variable as the color. To visualize 4+ variables, consider using [facetgrid](https://seaborn.pydata.org/generated/seaborn.FacetGrid.html)."
      ],
      "metadata": {
        "id": "okItEN0lbzyF"
      }
    },
    {
      "cell_type": "markdown",
      "source": [
        "## 10.1 🧘 Coding Exercise"
      ],
      "metadata": {
        "id": "9IS30cBW1NtB"
      }
    },
    {
      "cell_type": "markdown",
      "source": [
        "Let's look at the top 15 artists with the most songs. We will create a barplot to do this. In this example, we are going to create a smaller subset of the data and reference that instead of the entire dataframe.\n",
        "\n",
        ">**Task:** Run the first 3 cells to get a feel for the data and then to create an initial plot. Notice that the plot is missing lots of details! Skeleton code is provided to adjust the labels and aesthetics. Adjust the provided code below to create the plot and see which artists fall within the top 15!"
      ],
      "metadata": {
        "id": "8mtXacXX1T8c"
      }
    },
    {
      "cell_type": "code",
      "source": [
        "### RUN THIS CELL ###\n",
        "artist_counts = spotify['artist_name'].value_counts()\n",
        "artist_counts.head(50)"
      ],
      "metadata": {
        "id": "kCmCvpz0BQZD"
      },
      "execution_count": null,
      "outputs": []
    },
    {
      "cell_type": "code",
      "source": [
        "### RUN THIS CELL - THIS IS THE DATA OF THE TOP 15 TO USE ###\n",
        "artist_plot = artist_counts.head(15)\n",
        "artist_plot"
      ],
      "metadata": {
        "id": "6RLc81mDXbXV"
      },
      "execution_count": null,
      "outputs": []
    },
    {
      "cell_type": "code",
      "source": [
        "### RUN THIS CELL ###\n",
        "ax = sns.barplot(                                              # plotting option to use in seaborn\n",
        "    x = artist_plot.index,                                     # column name to use values for x-axis\n",
        "    y = artist_plot,                                           # column name to use values for y-axis\n",
        "    hue = artist_plot,                                         # color code our dots by mode column values\n",
        "    palette = 'flare')                                         # set the color palette we want to use"
      ],
      "metadata": {
        "id": "m2pJEwCqZ55s"
      },
      "execution_count": null,
      "outputs": []
    },
    {
      "cell_type": "markdown",
      "source": [
        "Blah! 😏 That doesn't look very nice. Who are the artists? 🎨\n",
        "\n",
        ">**Task:** In the code cell below, add all of the labels at the beginning and then adjust the aesthetics. Use the code examples for the initial plots to see what you should do."
      ],
      "metadata": {
        "id": "cC7unOysaZki"
      }
    },
    {
      "cell_type": "code",
      "source": [
        "### EDIT THIS CELL ###\n",
        "# Set this text for the plot- easiest to edit here as needed\n",
        "# My solution included 4 lines here\n",
        "...\n",
        "\n",
        "# Barplot\n",
        "ax = sns.barplot(                                              # plotting option to use in seaborn\n",
        "    x = artist_plot.index,                                     # column name to use values for x-axis\n",
        "    y = artist_plot,                                           # column name to use values for y-axis\n",
        "    hue = artist_plot,                                         # color code our dots by mode column values\n",
        "    palette = 'flare')                                         # set the color palette we want to use\n",
        "\n",
        "# Adjustment + aesthetics of plot\n",
        "# My solution included 6 lines here\n",
        "....\n",
        "plt.xticks(rotation=45,ha='right')                             # Rotate x-axis labels for better readability\n",
        "\n",
        "# My solution included code to save the plot\n",
        "..."
      ],
      "metadata": {
        "id": "F3MkNVX9kXV-"
      },
      "execution_count": null,
      "outputs": []
    },
    {
      "cell_type": "code",
      "source": [
        "#@title Solution\n",
        "# Set this text for the plot- easiest to edit here as needed\n",
        "x_label_name = 'Artist Name'                                             # x-axis label text\n",
        "y_label_name = 'Number of Songs'                                         # y-axis label text\n",
        "plot_title = 'Top 15 Artists With Most Songs'                            # plot title text\n",
        "fig_name_bar = 'Top15_artists_bar.png'                                   # text to name figure for saving\n",
        "\n",
        "# Example of barplot\n",
        "ax = sns.barplot(                                              # plotting option to use in seaborn\n",
        "    x = artist_plot.index,                                     # column name to use values for x-axis\n",
        "    y = artist_plot,                                           # column name to use values for y-axis\n",
        "    hue = artist_plot,                                         # color code our dots by mode column values\n",
        "    palette = 'flare')                                         # set the color palette we want to use\n",
        "\n",
        "# Adjustment + aesthetics of plot\n",
        "ax.figure.set_size_inches(6.5, 4.5)                            # this sets the size and we will use to be consistent across all plots below\n",
        "sns.despine()                                                  # remove top and right axes (w/o this, full box border)\n",
        "plt.xlabel(x_label_name)                                       # use matplotlib (plt) to adjust the x axis on this one\n",
        "plt.ylabel(y_label_name)                                       # use matplotlib (plt) to adjust the y axis on this one\n",
        "plt.xticks(rotation=45,ha='right')                             # Rotate x-axis labels for better readability\n",
        "plt.title(plot_title, y=1.1)                                   # add a title so we know what we plotted!\n",
        "plt.ylim(0,40);                                                # use matplotlib (plt) to adjust the y axis limits\n",
        "\n",
        "# Save our figure\n",
        "plt.savefig(fig_name_bar, dpi=300, bbox_inches='tight')                       # save w/figure name\n"
      ],
      "metadata": {
        "cellView": "form",
        "id": "vWkyMx1Za7hm"
      },
      "execution_count": null,
      "outputs": []
    },
    {
      "cell_type": "markdown",
      "source": [
        "## 🏃 10.2 Coding Exercise\n",
        "\n",
        "Let's look at the number of songs released per month. We will create a barplot to do this. In this example, we are going to create a smaller dataframe first.\n",
        "\n",
        ">**Task:** Run the first cell to get the data we want to work with and then create an initial plot. Notice that the plot is missing lots of details! Skeleton code is provided to adjust the labels and aesthetics. Adjust the provided code below to create the plot and see which months have the most songs released."
      ],
      "metadata": {
        "id": "Vs-gOo0P3J89"
      }
    },
    {
      "cell_type": "code",
      "source": [
        "### RUN THIS CELL ###\n",
        "songs_over_time = spotify['released_month'].value_counts().reset_index()\n",
        "songs_over_time.columns = ['released_month', 'count']\n",
        "songs_over_time"
      ],
      "metadata": {
        "id": "XiP19TNoeG1I"
      },
      "execution_count": null,
      "outputs": []
    },
    {
      "cell_type": "code",
      "source": [
        "### RUN THIS CELL ###\n",
        "b2 = sns.barplot(                                          # plotting option to use in seaborn\n",
        "    data = songs_over_time,                                # dataframe\n",
        "    x = 'released_month',                                  # column name to use values for x-axis\n",
        "    y = 'count',                                           # column name to use values for y-axis\n",
        "    hue = 'released_month',                                # color code our bars\n",
        "    palette = 'viridis')                                   # set the color palette we want to use"
      ],
      "metadata": {
        "id": "vpJfBekyeV_v"
      },
      "execution_count": null,
      "outputs": []
    },
    {
      "cell_type": "markdown",
      "source": [
        "Again we've generated an initial plot that looks okay, but we can improve! We also need to move (remove) that legend.\n",
        "\n",
        ">**Task:** Edit the code below to beautify the plot ✨ <br>\n",
        "Hint: To remove the legend, set `legend = False` in the part where `b2` is defined within seaborn."
      ],
      "metadata": {
        "id": "nzSezgUNexU0"
      }
    },
    {
      "cell_type": "code",
      "source": [
        "### EDIT THIS CELL ###\n",
        "# My solution included 4 lines here\n",
        "...\n",
        "\n",
        "\n",
        "b2 = sns.barplot(                                          # plotting option to use in seaborn\n",
        "    data = songs_over_time,                                # dataframe\n",
        "    x = 'released_month',                                  # column name to use values for x-axis\n",
        "    y = 'count',                                           # column name to use values for y-axis\n",
        "    hue = 'released_month',                                # color code our bars\n",
        "    palette = 'viridis')                                   # set the color palette we want to use\n",
        "# My solution added a line here to remove the legend\n",
        "\n",
        "\n",
        "# My solution included 6 lines here\n",
        "....\n",
        "\n",
        "# My solution included code to save the plot\n",
        "...\n"
      ],
      "metadata": {
        "id": "G2VHLZunf9gU"
      },
      "execution_count": null,
      "outputs": []
    },
    {
      "cell_type": "code",
      "source": [
        "#@title Example Solution\n",
        "x_label_name = 'Release Month'                                             # x-axis label text\n",
        "y_label_name = 'Number of Songs'                                            # y-axis label text\n",
        "plot_title = 'Number of Songs by Release Month'                             # plot title text\n",
        "fig_name_bar2 = 'NumSongs_ReleaseMonth.png'                                 # text to name figure for saving\n",
        "\n",
        "\n",
        "b2 = sns.barplot(                                          # plotting option to use in seaborn\n",
        "    data = songs_over_time,                                # dataframe\n",
        "    x = 'released_month',                                  # column name to use values for x-axis\n",
        "    y = 'count',                                           # column name to use values for y-axis\n",
        "    hue = 'released_month',                                # color code our bars\n",
        "    palette = 'viridis',                                   # set the color palette we want to use\n",
        "    legend = False)                                        # remove the legend\n",
        "\n",
        "\n",
        "# Adjustment + aesthetics of plot\n",
        "b2.figure.set_size_inches(6.5, 4.5)                            # this sets the size and we will use to be consistent across all plots below\n",
        "sns.despine()                                                  # remove top and right axes (w/o this, full box border)\n",
        "plt.xlabel(x_label_name)                                       # use matplotlib (plt) to adjust the x axis on this one\n",
        "plt.ylabel(y_label_name)                                       # use matplotlib (plt) to adjust the y axis on this one\n",
        "plt.title(plot_title, y=1.1)                                   # add a title so we know what we plotted!\n",
        "plt.ylim(0,140);                                               # use matplotlib (plt) to adjust the y axis limits\n",
        "\n",
        "# Save our figure\n",
        "plt.savefig(fig_name_bar2, dpi=300, bbox_inches='tight')       # save w/figure name\n"
      ],
      "metadata": {
        "cellView": "form",
        "id": "_FpPsWegew4F"
      },
      "execution_count": null,
      "outputs": []
    },
    {
      "cell_type": "markdown",
      "source": [
        "## 🏋 10.3 Coding Exercise\n",
        "\n",
        "Now let's look at another type of plot to examine correlation values. We will use a `heatmap` to correlate the following variables:<br>\n",
        "`streams`<br>\n",
        "`bpm`<br>\n",
        "`danceability_percent`<br>\n",
        "`valence_percent`<br>\n",
        "`energy_percent`<br>\n",
        "`acousticness_percent`<br>\n",
        "`instrumentalness_percent`<br>\n",
        "`liveness_percent`<br>\n",
        "`speechiness_percent`<br>\n",
        "\n",
        "First we will create a list of the column names we want to correlate. Then we will use [`.corr()`](https://pandas.pydata.org/docs/reference/api/pandas.DataFrame.corr.html)to get the correlation matrix. Example call: <br>\n",
        "`corr_matrix = dataframe[columns_to_corr].corr()`\n",
        "\n",
        "\n",
        "Once we have these values, we can create our plot in `seaborn`.\n",
        "\n",
        ">**Task:** Edit the code below to create our heatmap."
      ],
      "metadata": {
        "id": "dt2emRy421KA"
      }
    },
    {
      "cell_type": "code",
      "source": [
        "### EDIT THIS CELL ###\n",
        "# Setup dataframe\n",
        "columns_to_correlate = ...\n",
        "corr_matrix = ...\n",
        "\n",
        "# Title and saving name\n",
        "# My solution had 2 lines here\n",
        "....\n",
        "\n",
        "# Plotting code\n",
        "hm = sns.heatmap(corr_matrix,        # corr matrix as df\n",
        "            annot=True,         # include values on map\n",
        "            #cmap='crest',      # change the color if you want\n",
        "            fmt=\".2f\")          # 2 decimals for displayed values\n",
        "\n",
        "# Adjustment + aesthetics of plot (size and title only)\n",
        "# My solution had 2 lines here\n",
        "\n",
        "# Save the fig\n",
        "# My solution had one line to save the fig\n"
      ],
      "metadata": {
        "id": "L9VPdNKihxnY"
      },
      "execution_count": null,
      "outputs": []
    },
    {
      "cell_type": "code",
      "source": [
        "#@title Example Solution\n",
        "\n",
        "# Setup dataframe\n",
        "columns_to_correlate = ['streams', 'bpm', 'danceability_percent', 'valence_percent', 'energy_percent', 'acousticness_percent', 'instrumentalness_percent', 'liveness_percent', 'speechiness_percent']\n",
        "corr_matrix = spotify[columns_to_correlate].corr()\n",
        "\n",
        "# Labels and title\n",
        "plot_title = 'Correlation Heatmap'                            # plot title text\n",
        "fig_name_hmp = 'Corr_heatmap.png'                             # text to name figure for saving\n",
        "\n",
        "\n",
        "# Plotting code\n",
        "hm = sns.heatmap(corr_matrix,                                 # corr matrix as df\n",
        "            annot=True,                                       # include values on map\n",
        "            #cmap='crest',                                    # change the color if you want\n",
        "            fmt=\".2f\")                                        # 2 decimals for displayed values\n",
        "\n",
        "# Adjustment + aesthetics of plot (size and title only)\n",
        "hm.figure.set_size_inches(10, 8)                              # this sets the size and we will use to be consistent across all plots below\n",
        "plt.title(plot_title, y=1.1)                                  # add a title so we know what we plotted\n",
        "\n",
        "# Save our figure\n",
        "plt.savefig(fig_name_hmp, dpi=300, bbox_inches='tight')       # save w/figure name"
      ],
      "metadata": {
        "cellView": "form",
        "id": "YeBl4mRTjr5d"
      },
      "execution_count": null,
      "outputs": []
    },
    {
      "cell_type": "markdown",
      "source": [
        "## Bonus: Plotting a Relationship 🤝\n",
        "\n",
        "Do you think `acousticness` and `energy` have a relationship with each other? If you think so, what direction would you expect (positive or negative)? If you wanted to visualize this relationship, which plot would you use?\n",
        "\n",
        ">**Task:** Create your plot below"
      ],
      "metadata": {
        "id": "YvSpYkk53Ezv"
      }
    },
    {
      "cell_type": "code",
      "source": [
        "### YOUR CODE HERE ###"
      ],
      "metadata": {
        "id": "WhGTEUYBlGnb"
      },
      "execution_count": null,
      "outputs": []
    },
    {
      "cell_type": "code",
      "source": [
        "#@title Example Solution\n",
        "# Set this text for the plot- easiest to edit here as needed\n",
        "x_label_name = 'Acousticness %'\n",
        "y_label_name = 'Energy %'\n",
        "leg_title = 'Mode'\n",
        "plot_title = 'Relationship between Acousticness % and Energy %'\n",
        "fig_name_scatter2 = 'Scatter_Acoustic_Energy_.png'\n",
        "\n",
        "# Example of a scatter plot\n",
        "sp2 = sns.scatterplot(\n",
        "    data=spotify,\n",
        "    x='acousticness_percent',\n",
        "    y='energy_percent')\n",
        "\n",
        "# Adjustment + aesthetics of plot\n",
        "sp2.figure.set_size_inches(6.5, 4.5)\n",
        "sns.despine()\n",
        "plt.xlabel(x_label_name)\n",
        "plt.ylabel(y_label_name)\n",
        "plt.title(plot_title, y=1.05)\n",
        "plt.ylim(0,100);\n",
        "\n",
        "# Save our figure\n",
        "plt.savefig(fig_name_scatter2, dpi=300, bbox_inches='tight')  # save"
      ],
      "metadata": {
        "id": "hiVhCANIEOqM",
        "cellView": "form"
      },
      "execution_count": null,
      "outputs": []
    },
    {
      "cell_type": "markdown",
      "source": [
        "---\n"
      ],
      "metadata": {
        "id": "hs3Va565Rp8R"
      }
    },
    {
      "cell_type": "markdown",
      "source": [
        "# Post Workshop Survey\n",
        "\n",
        "If you could take a few minutes to complete the survey here, we would appreciate your time and feedback!\n",
        "\n",
        "<img src=\"https://github.com/tmckim/python-crash-course/blob/main/imgs/DSI_Workshop_Satisfaction.png?raw=1\"/>\n"
      ],
      "metadata": {
        "id": "7MYFERflRfac"
      }
    },
    {
      "cell_type": "markdown",
      "source": [
        "\n",
        "---\n",
        "\n",
        "\n",
        "\n",
        "# Extras"
      ],
      "metadata": {
        "id": "Erx0ERmecP6g"
      }
    },
    {
      "cell_type": "markdown",
      "source": [
        "\n",
        "## 🔊 Broadcasting\n",
        "\n",
        "Broadcasting involves performing a computation using two or more arrays that share **one** dimension. Perhaps you want to divide every row of array A element-by-element by array B. Here is a plausible real life example where we might want to broadcast. Many numpy functions will be able to figure it out"
      ],
      "metadata": {
        "id": "6gEl6G5up70N"
      }
    },
    {
      "cell_type": "code",
      "source": [
        "# An array with the number of hours we worked on\n",
        "# three different projects throughout the workweek.\n",
        "hours_on_each_project = np.array([[2,4,2],[1,7,0],[5,2,1],[8,0,0],[3,3,2]])\n",
        "billing_rate_per_project = np.array([50,60,25]) # $/hour\n",
        "\n",
        "# Money billed to each project for each day of the workweek.\n",
        "money_on_each_project = hours_on_each_project*billing_rate_per_project\n",
        "print(\"money billed to each project:\\n\", money_on_each_project)\n"
      ],
      "metadata": {
        "id": "ccA6YZycLZV_",
        "colab": {
          "base_uri": "https://localhost:8080/"
        },
        "outputId": "0ec25e7c-3d8b-42b9-bd83-f4c3b8c5e5f7"
      },
      "execution_count": null,
      "outputs": [
        {
          "output_type": "stream",
          "name": "stdout",
          "text": [
            "money billed to each project:\n",
            " [[100 240  50]\n",
            " [ 50 420   0]\n",
            " [250 120  25]\n",
            " [400   0   0]\n",
            " [150 180  50]]\n"
          ]
        }
      ]
    },
    {
      "cell_type": "markdown",
      "source": [
        "\n",
        "## 🔽 \t▶️  Aggregating Across an Axis\n",
        "\n",
        "We may want to peform an operation across one dimension of an array (row, column, or a third/fourth dimension). Here we can use ```np.apply_along_axis()``` function to specify the array, function, and axis we want to apply a function on.\n",
        "Here is an example. Notice how ```axis=0``` and ```axis=1``` perform the function on different dimensions of the array."
      ],
      "metadata": {
        "id": "7BG3xNhap8j1"
      }
    },
    {
      "cell_type": "code",
      "source": [
        "price_per_meal = np.array([[8,12,23],  # Bfast, lunch, dinner - day 1\n",
        "                           [6,12,32],  # Bfast, lunch, dinner - day 2\n",
        "                           [8,15,19],  # Bfast, lunch, dinner - day 3...\n",
        "                           [3,9,40],\n",
        "                           [4,18,22]])\n",
        "\n",
        "average_meal_cost = np.apply_along_axis(arr=price_per_meal, func1d = np.mean, axis=0)\n",
        "print('average_meal_cost:\\n', average_meal_cost) # Avg meal cost for bfast, lunch, and dinner.\n",
        "\n",
        "\n",
        "total_cost_each_day= np.apply_along_axis(arr=price_per_meal, func1d = sum, axis=1) # python comes with a native sum function.\n",
        "print('\\ntotal_cost_each_day:\\n', total_cost_each_day) # Total meal cost per each day.\n",
        "\n"
      ],
      "metadata": {
        "id": "QYHZ29dNP5GU",
        "colab": {
          "base_uri": "https://localhost:8080/"
        },
        "outputId": "6a05f621-f53d-4702-80dd-a85b7d74125b"
      },
      "execution_count": null,
      "outputs": [
        {
          "output_type": "stream",
          "name": "stdout",
          "text": [
            "average_meal_cost:\n",
            " [ 5.8 13.2 27.2]\n",
            "\n",
            "total_cost_each_day:\n",
            " [43 50 42 52 44]\n"
          ]
        }
      ]
    },
    {
      "cell_type": "markdown",
      "source": [
        "</br>\n",
        "<img src=\"https://edcarp.github.io/2018-11-06-edinburgh-igmm-python/fig/python-operations-across-axes.png\" width=600>\n",
        "</br>\n",
        "\n",
        "Here is an example (from a different dataset), but I like this image to illustrate how the axes work.\n",
        "\n",
        "What if we need the maximum inflammation for each patient over all days (as in the  diagram on the left) or the average for each day (as in the diagram on the right)? As the diagram below shows, we want to perform the operation across an axis.\n",
        "\n",
        "\n",
        "Image [source](https://edcarp.github.io/2018-11-06-edinburgh-igmm-python/01-numpy/index.html)"
      ],
      "metadata": {
        "id": "eQwEU-fxzKci"
      }
    },
    {
      "cell_type": "markdown",
      "source": [
        "## ⏩ Functions\n",
        "\n",
        "\n",
        "The \"commands\" or \"instructions\" we have been using have a name in Python: they are called **functions**.\n",
        "\n",
        "\n",
        "A function is a block of code which only runs when it is called. The commands we were using that typically involved `()` were actually functions! Example: `np.random.choice()`\n",
        "\n",
        "You can pass data, known as arguments or parameters, into a function. A function can return nothing at all. A function can also return data as a result."
      ],
      "metadata": {
        "id": "ytbXBuL1ZAaj"
      }
    },
    {
      "cell_type": "markdown",
      "source": [
        "### 🖊 Writing a function\n",
        "\n",
        "Not only can you use functions included in the Python libraries you imported, or native to Python, you can also write your own functions.\n",
        "\n",
        "\n",
        "Defining, or creating a function, always uses the following syntax.\n",
        "\n",
        "```\n",
        "def FunctionName(parameter_name1, parametername2, ...):\n",
        "  FUNCTION BODY\n",
        "  return ReturnValues\n",
        "```\n",
        "  \n",
        "\n",
        "*   **```def```**: This keyword tells Python that you are about to define a function. Don't forget to also have parentheses and a colon.\n",
        "*   **Function name**: The name of your function that you are going to use to call it whenever you need it to run!\n",
        "*   **Function body**: The set of commands or operations you want your function to execute whenever it is called. <font color='red'> Note that the function body (which can be multiple lines) and return statement need to be indented relative to the ```def``` line!</font>\n",
        "*   **Arguments** (optional): The variable names for optional input values you give the funciton. When writing your function body you can reference the argument variable name to refer to the value of the corresponding input.\n",
        "*   **```return```** and Return values (optional): The keyword `return`, followed by any data or values you want your function to return when called.\n",
        "\n",
        "Note that you will need to run the code that defines a function before you are able to call it.\n",
        "\n",
        "\n",
        "\n"
      ],
      "metadata": {
        "id": "mEEl-H9xiM6a"
      }
    },
    {
      "cell_type": "markdown",
      "source": [
        "### 🧗 Coding Exercise\n",
        "\n",
        "This exercise combines what you've learned about functions, for loops and if statements.\n",
        "Use a for loop to go through the rows of our dataset. On every iteration of the loop, use the function defined below called ```roll_the_dice()``` 🎲 .\n",
        "- If the roll of the dice is even, store the `bpm` data for the current row in `evens`.\n",
        "- If the roll of the dice is odd, store the `bpm` data for the current row in `odds`.\n",
        "\n",
        "After the loop is complete, take the average of the evens, as well as the odds. Print the two means.\n"
      ],
      "metadata": {
        "id": "lGhaf6SiXSho"
      }
    },
    {
      "cell_type": "code",
      "source": [
        "### RUN THIS CELL ###\n",
        "def roll_the_dice():\n",
        "  return np.random.choice([1,2,3,4,5,6])"
      ],
      "metadata": {
        "id": "v7yik6QyTHHM"
      },
      "execution_count": null,
      "outputs": []
    },
    {
      "cell_type": "code",
      "source": [
        "### YOUR CODE HERE ###"
      ],
      "metadata": {
        "id": "0fDc6DZcYFAB"
      },
      "execution_count": null,
      "outputs": []
    },
    {
      "cell_type": "code",
      "source": [
        "#@title Example Solution\n",
        "evens = []\n",
        "odds = []\n",
        "\n",
        "for i in range(len(spotify)):\n",
        "  dice_roll = roll_the_dice()\n",
        "  #print('dice_roll: ', dice_roll)\n",
        "  if (dice_roll==1) or (dice_roll==3) or (dice_roll==5):\n",
        "     odds.append(spotify.bpm[i])\n",
        "  else:\n",
        "     evens.append(spotify.bpm[i])\n",
        "\n",
        "print('Average of evens:', np.average(evens).round(2))\n",
        "print('Average of odds:', np.average(odds).round(2))"
      ],
      "metadata": {
        "colab": {
          "base_uri": "https://localhost:8080/"
        },
        "cellView": "form",
        "id": "rd0pw4l-UZ3N",
        "outputId": "c181b595-eee1-4f28-9f95-a1111911dffe"
      },
      "execution_count": null,
      "outputs": [
        {
          "output_type": "stream",
          "name": "stdout",
          "text": [
            "Average of evens: 123.29\n",
            "Average of odds: 121.74\n"
          ]
        }
      ]
    },
    {
      "cell_type": "markdown",
      "source": [
        "---\n",
        "\n",
        "## Plotting with Matplotlib\n",
        "\n",
        "<img src=\"https://upload.wikimedia.org/wikipedia/commons/d/d9/Julia_set%2C_plotted_with_Matplotlib.svg\" width=400>\n",
        "\n",
        "**Matplotlib** is a graphics library built to play nicely with numpy. Matplotlib was also concieved as an alternative to using matlab's plotting tools, so those familiar with matlab may notice some syntax overlap. Nowadays, there are certainly more advanced plotting libraries than Matplotlib with various beautifying features, but Matplotlib remains popular because of its simplicity and ability to work with nearly every graphics engine.\n",
        "\n",
        "Recall that previously, we imported matplot library pyplot as plt (See \"[Imports & Libraries](https://colab.research.google.com/drive/1mJXrW_IvUCnsQh_vqzjJalsUuF9mJww7#scrollTo=Si-MZ10nODDZ)\"). Optionally, we can also set a default style for our matplotlib plots. Some available styles are \"ggplot\", \"classic\", \"fivethirtyeight\", and \"tableau-colorblind10\". We'll just use the \"classic\" style for now, but feel free to experiment with different styles by running the following code."
      ],
      "metadata": {
        "id": "RKNbf4cgU602"
      }
    },
    {
      "cell_type": "code",
      "source": [
        "# Run this to set the default matplotlib style (optional)\n",
        "plt.style.use('fivethirtyeight')\n",
        "\n",
        "# Example plot\n",
        "plt.figure(figsize=(3,3))\n",
        "plt.plot([1,2,3,4], [2,3,4,5], '-x')\n",
        "plt.show()"
      ],
      "metadata": {
        "id": "REHGGPYugZEN"
      },
      "execution_count": null,
      "outputs": []
    },
    {
      "cell_type": "markdown",
      "source": [
        "### 🖌 Plotting, Rendering, and Saving Figures\n",
        "\n",
        "The cleanest way to save a figure is:\n",
        "\n",
        "(1) Initialize a figure object. If you are combining multiple plots onto one figure object you may want to initialize \"ax\" (axis) objects for each plot as well, so that you can have more control over the settings of each graph later.\n",
        "\n",
        "(2) Plot your data on your figure. Matplotlib lets you do this directly from the pyplot module (```plt.plot(x,y)```), or you can apply the plot function to the specific axes (subplot) you wish to graph to. (```ax[0].plot(x,y)```).\n",
        "\n",
        "(3) Save your figure to a filename.\n",
        "\n",
        "(4) Use ```plt.show()``` to render your figure.\n",
        "\n",
        "\n",
        "This strategy should work in colab, jupyter notebook, or within a Python script.\n",
        "\n",
        "</br>\n",
        "\n",
        "Here are a two different example workflows for creating images. Feel free to look in your Colab files for the saved figure. This same workflow should work in a jupyter notebook, a Python script, or a Python command line as well."
      ],
      "metadata": {
        "id": "rtn6HbkUiEFk"
      }
    },
    {
      "cell_type": "code",
      "source": [
        "### EXAMPLE 1 ####\n",
        "print(\"Example 1...\")\n",
        "x = np.array([1,2,3,4,5,6])\n",
        "y = np.array([1,4,5,6,7,19])\n",
        "\n",
        "# Initialize figure\n",
        "# Note that we can set a figsize parameter\n",
        "# to specify the window size.\n",
        "fig = plt.figure(figsize=(4,3))\n",
        "\n",
        "# Simple scatter plot\n",
        "plt.plot(x,y, 'x')\n",
        "plt.xlabel('x')\n",
        "plt.ylabel('y')\n",
        "\n",
        "# Save figure\n",
        "plt.savefig('example1.png')\n",
        "\n",
        "# Render figure in colab window\n",
        "plt.show()\n",
        "\n",
        "print('Example 2...')\n",
        "\n",
        "### EXAMPLE 2 ###\n",
        "\n",
        "# Initialize figure\n",
        "# This time we will initialize a figure with subplots,\n",
        "# consisting of 3 graphs, each next to the other.\n",
        "fig, ax = plt.subplots(figsize=(12,3), ncols=3)\n",
        "\n",
        "# One scatter plot and one line plot.\n",
        "ax[0].plot(x,y, 'x')\n",
        "ax[1].plot(x,y, '-')\n",
        "ax[2].plot(x,y, 'o')\n",
        "\n",
        "\n",
        "for i in range(3):\n",
        "  ax[i].set_xlabel('x')\n",
        "  ax[i].set_ylabel('y')\n",
        "\n",
        "# Save figure\n",
        "plt.savefig('example2.png')\n",
        "\n",
        "# Render figure in colab window\n",
        "plt.show()"
      ],
      "metadata": {
        "id": "9KfpLbAbjKUr"
      },
      "execution_count": null,
      "outputs": []
    },
    {
      "cell_type": "markdown",
      "source": [
        "### 🌈 Multiple Lines on a graph\n",
        "\n",
        "There are many cases where we may want to show 3 or more dimensions on a graph, using color or shape as the third dimensions. There are two strategies for doing this.\n",
        "\n",
        "(1) Plot each line/distribution on the graph at a time, specifying the label and color for each line\n",
        "\n",
        "or\n",
        "\n",
        "(2) Plot a multidimensional numpy array, specifiying which axis should be the x, y, color, or shape axes.\n",
        "\n",
        "\n",
        "Here is an example, build a histogram of different candy costs in 50 states (randomly generated)."
      ],
      "metadata": {
        "id": "asSImR0XnaHn"
      }
    },
    {
      "cell_type": "code",
      "source": [
        "sour_patch_kids_cost = np.random.rand(50)+.5\n",
        "hershey_bar_cost = np.random.rand(50)+.25\n",
        "reeses_cost = np.random.rand(50)+1\n",
        "\n",
        "\n",
        "# We will use 10 cent incrememnts from 0-3$\n",
        "# for our histogram buckets (optional argument).\n",
        "cost_bins = [i*.1 for i in range(30)]\n",
        "\n",
        "\n",
        "##### Approach 1 ######\n",
        "f = plt.figure(figsize=(5,4))\n",
        "\n",
        "# The alpha parameter refers to how opaque each color is.\n",
        "print(\"Example 1...\")\n",
        "plt.hist(sour_patch_kids_cost, color='green', label='sour patch', alpha=.7, bins=cost_bins, histtype='stepfilled')\n",
        "plt.hist(hershey_bar_cost, color='brown', label='hershey', alpha=.7, bins=cost_bins, histtype='stepfilled')\n",
        "plt.hist(reeses_cost, color='orange', label='reeses', alpha=.7, bins=cost_bins, histtype='stepfilled')\n",
        "plt.legend()\n",
        "plt.xlabel('cost per bar')\n",
        "plt.ylabel('# of stores')\n",
        "plt.show()\n",
        "\n",
        "\n",
        "##### Approach 2 ####\n",
        "print(\"Example 2...\")\n",
        "f = plt.figure(figsize=(5,4))\n",
        "all_candy_bars = np.array([sour_patch_kids_cost,\n",
        "                           hershey_bar_cost,\n",
        "                           reeses_cost]).transpose()\n",
        "plt.hist(all_candy_bars, alpha=.8,\n",
        "         color=['green', 'brown', 'orange'],\n",
        "         label=['sour patch', 'hershey', 'reeses'],\n",
        "         histtype='stepfilled', bins=cost_bins)\n",
        "plt.xlabel('cost per bar')\n",
        "plt.ylabel('# of stores')\n",
        "plt.legend()\n",
        "plt.show()\n"
      ],
      "metadata": {
        "id": "4VNG99yHoI2-"
      },
      "execution_count": null,
      "outputs": []
    },
    {
      "cell_type": "markdown",
      "source": [
        "### 💄 Beautifying your plots\n",
        "\n",
        "\n",
        "A complaint many have about Matplotlib is that the plots are not very aesthetically appealing by default. However, Matplotlib offeres numerous settings you can control in order to have precise control over what your plots look like. Here are a few examples of what you can control and how to go about changing these settings.\n",
        "\n",
        "Let's start with the following plots, and experiment with changing some of the parameters.\n",
        "\n",
        "\n",
        "\n"
      ],
      "metadata": {
        "id": "3mPTMR5t9MCK"
      }
    },
    {
      "cell_type": "markdown",
      "source": [
        "\n",
        "**Colors and Shapes**\n",
        "\n",
        "Typically, we pass in arguments for what we want the colors and shapes of a plot to look like, when we call the plotting function (```.plot()```, ```.hist()```, etc.).  You can also set a specific color palette for Matplotlib to select colors from."
      ],
      "metadata": {
        "id": "JpxQm4uGd5aR"
      }
    },
    {
      "cell_type": "code",
      "source": [
        "f, ax = plt.subplots(ncols=2, nrows=2, figsize=(10,10))\n",
        "\n",
        "# Some random distributions for variables.\n",
        "x = np.random.random(500)\n",
        "y = x + .2*np.random.randn(500)\n",
        "i = np.random.randn(500)\n",
        "j = np.random.randn(500)\n",
        "\n",
        "# Plotting different types of plots.\n",
        "# Sometimes if you want to edit a figure,\n",
        "# it can be helpful to return an object from the plotting function\n",
        "# and then you can mess around with properties of that object.\n",
        "# (See plt3 for an example)\n",
        "plt1 = ax[0,0].plot(x,y,\n",
        "             marker='x', linestyle='none',\n",
        "             markersize=15, color='red', label='dist1')\n",
        "plt11 = ax[0,0].plot(x,i,\n",
        "             marker='.', linestyle='none',\n",
        "             markersize=8, color='blue', label='dist2')\n",
        "\n",
        "# We can also specify our colors in hexcode.\n",
        "plt2 = ax[0,1].hist(x, color='#a032a8')\n",
        "\n",
        "\n",
        "# patch_artist=True lets us color in the boxes.\n",
        "plt3 = ax[1,0].boxplot([x,y,i,j], patch_artist=True)\n",
        "# We can reference the object output by our plotting function\n",
        "# in order to change various parameters.\n",
        "plt3['boxes'][0].set_color('red')\n",
        "plt3['boxes'][1].set_color('orange')\n",
        "plt3['boxes'][2].set_color('yellow')\n",
        "plt3['boxes'][3].set_color('pink')\n",
        "\n",
        "# See matlab documentation for different color maps\n",
        "plt4 = ax[1,1].hist2d(i,j, bins=20, cmap='spring')\n",
        "\n",
        "plt.show()"
      ],
      "metadata": {
        "id": "0aUrXs8qgfrQ"
      },
      "execution_count": null,
      "outputs": []
    },
    {
      "cell_type": "markdown",
      "source": [
        "**Plot Background**\n",
        "\n",
        "We can also edit the backgrounds of the plots - this might mean adding/removing gridlines, changing the background color, or even adding additional text or figures to the plots.  Here are some examples for how we might edit the background attributes of our figures."
      ],
      "metadata": {
        "id": "kr1p3ELId5sv"
      }
    },
    {
      "cell_type": "code",
      "source": [
        "# We can turn on/off legends, colorbars, etc.\n",
        "ax[0,0].legend()\n",
        "\n",
        "# We can add text, and shapes to plots.\n",
        "ax[1,0].text(s='this is \\na boxplot', x=1, y=-2, fontsize=20)\n",
        "\n",
        "\n",
        "# We can turn gridlines on / off.\n",
        "ax[1,1].grid(visible=True, axis='both', color='black')\n",
        "\n",
        "# We can set the background color.\n",
        "ax[0,1].set_facecolor('grey')\n",
        "\n",
        "# Show updated figure.\n",
        "f\n"
      ],
      "metadata": {
        "id": "WzBx7DzqnJep"
      },
      "execution_count": null,
      "outputs": []
    },
    {
      "cell_type": "markdown",
      "source": [
        "**Axes**\n",
        "\n",
        "We can also edit the x- and y-axes, ticks, and labels.\n",
        "\n",
        "(Note: in python we unfortunately often refer to subplots as \"axes\". These are **different** from the x- and y- axes, which each subplot contains.)\n",
        "\n",
        "Here are a few examples for how you might want to modify your x and y axes.\n"
      ],
      "metadata": {
        "id": "AQIzoAbJd5zF"
      }
    },
    {
      "cell_type": "code",
      "source": [
        "# We can set the labels for our axes.\n",
        "ax[0,0].set_xlabel('x', fontsize=20)\n",
        "ax[0,0].set_ylabel('y', fontsize=20)\n",
        "\n",
        "# We can remove ticks, or change the scale of the ticks.\n",
        "ax[0,1].set_xticks([])\n",
        "ax[0,1].set_yscale('log')\n",
        "\n",
        "# We can set different tick labels.\n",
        "ax[1,0].set_xticklabels(['x', 'y', 'i', 'j'], fontsize=14)\n",
        "\n",
        "# We can rotate the labels,\n",
        "# while keeping the tick labels the same.\n",
        "ax[1,1].set_xticklabels(ax[1,1].get_xticks(), rotation=45)\n",
        "\n",
        "# Show updated figure.\n",
        "f"
      ],
      "metadata": {
        "id": "lgsYjdFslgsQ"
      },
      "execution_count": null,
      "outputs": []
    },
    {
      "cell_type": "markdown",
      "source": [
        "-----\n",
        "\n",
        "# Just for fun 🎧\n",
        "Read about some of the top [trends from 2023 on Spotify](https://newsroom.spotify.com/2023-11-29/top-songs-artists-podcasts-albums-trends-2023/). Do you recognize any of these names from our dataset?\n"
      ],
      "metadata": {
        "id": "LhuWWeq1wZui"
      }
    },
    {
      "cell_type": "markdown",
      "source": [
        "---\n",
        "# Technical Notes and Credits 👏 🙏\n",
        "\n",
        "The exercises for this notebook were adapted from resources available from the [Python for Supervised Machine Learning Bootcamp](https://nevadainbre.github.io/bootcamp-supervised-ml-2023-01.html) and Dr. Brianna Chrisman.\n",
        "Exercises were also adapted from [Programming in Python Data Carpentry Resources](https://edcarp.github.io/2018-11-06-edinburgh-igmm-python/).\n",
        "\n",
        "Thanks to the Data Science Initiative at UNR, supported by a Nevada INBRE supplemental award for Building Data Science Capacity, along with Research & Innovation for supporting this workshop during the first [Data Science Conference](https://www.unr.edu/bioinformatics/training-events/data-science-conference). Thanks also to the sponsors including AWS and IBM. Shout out and special thanks to Dr. Juli Petereit (Director of Nevada Bioinformatics Center) for her support and hard work on putting all of this together.\n"
      ],
      "metadata": {
        "id": "gCQnX4WrnJrx"
      }
    }
  ]
}