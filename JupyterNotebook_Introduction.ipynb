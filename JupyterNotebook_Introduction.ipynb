{
  "nbformat": 4,
  "nbformat_minor": 0,
  "metadata": {
    "colab": {
      "provenance": [],
      "toc_visible": true,
      "collapsed_sections": [
        "WvGE2jn1XeUt"
      ]
    },
    "kernelspec": {
      "name": "python3",
      "display_name": "Python 3"
    },
    "language_info": {
      "name": "python"
    }
  },
  "cells": [
    {
      "cell_type": "markdown",
      "source": [
        "<a href=\"https://colab.research.google.com/github/tmckim/python-crash-course/blob/main/JupyterNotebook_Introduction.ipynb\" target=\"_parent\"><img src=\"https://colab.research.google.com/assets/colab-badge.svg\" alt=\"Open In Colab\"/></a>"
      ],
      "metadata": {
        "id": "C-oOGXSTqesb"
      }
    },
    {
      "cell_type": "markdown",
      "source": [
        "In this notebook, we'll be learning the basics of Jupyter Notebooks. <br>\n",
        "We'll create a data visualization using an example dataset of the most streamed Spotify songs compiled in 2023 <img src=\"https://upload.wikimedia.org/wikipedia/commons/8/84/Spotify_icon.svg\" width=20>.\n",
        "\n",
        "\n",
        "____\n",
        "# Learning Objectives 🙋\n",
        "<a name=\"LOs\"></a>\n",
        "## At the end of today, you'll be able to:\n",
        "* Understand the basic components of a Jupyter notebook 📓\n",
        "* Visualize a dataset using Python libraries built for data science 🐍 💭 🧠\n",
        "* Learn how to find resources & support 👭 🤝\n",
        "\n",
        "**<font color=\"red\" size=4> IMPORTANT: This notebook is READ-ONLY. To edit and run this notebook, follow the steps in the next section.</font>**"
      ],
      "metadata": {
        "id": "f2iDThVbrZOK"
      }
    },
    {
      "cell_type": "markdown",
      "source": [
        "____\n",
        "## 💾 Before you start - Save this notebook!\n",
        "<a name=\"save\"></a>\n",
        "\n",
        "When you open a new Colab notebook from the WebCampus (like you hopefully did for this one), you cannot save changes. So it's  best to store the Colab notebook in your personal drive `\"File > Save a copy in drive...\"` **before** you do anything else.\n",
        "\n",
        "The file will open in a new tab in your web browser, and it is automatically named something like: \"**CopyofJupyterNotebook_Introduction.ipynb**\". You can rename this to just the title of the assignment \"**JupyterNotebook_Introduction.ipynb**\". Make sure you do keep an informative name (like the name of the assignment) to help you be able to come back to this after you complete this part of the assignment.\n",
        "\n",
        "**Where does the notebook get saved in Google Drive?**\n",
        "\n",
        "By default, the notebook will be copied to a folder called “Colab Notebooks” at the root (home) directory of your Google Drive.\n",
        "\n",
        "___"
      ],
      "metadata": {
        "id": "jlouEmW6qmE6"
      }
    },
    {
      "cell_type": "markdown",
      "source": [
        "# Section 0: Python 🐍  & Colab 📓\n",
        "<a name=\"section0\"></a>\n",
        "\n",
        "Welcome to Google Colab! We'll be working in Colab for this introductory notebook.\n",
        "\n",
        "</br>\n",
        "</br>\n",
        "<img src=\"https://miro.medium.com/max/986/1*pimj8lXWwZnqLs2xVCV2Aw.png\" width=500>\n",
        "</br>\n",
        "</br>\n",
        "\n",
        "\n",
        "## What is Colab?\n",
        "Colab is a browser-based environment - you can develop, run, and share code directly on your browser without having to install any software or libraries on your computer. Additionally, code written and run from colab runs on google's cloud computers, so you aren't limited by your laptop's speed or compute power. 📶\n",
        "\n",
        "</br>\n",
        "\n",
        "**<font color='red'>Note: One downside of Colab is that if you turn off your computer, are idle, or refresh the page, your current runtime is lost. You will need to run the notebook from the beginning in order to redo any variables, functions, or operations you have performed.</br></br> You can more easily rerun your notebook by clicking Runtime>>Run all, or Runtime>>Run before at the top of the page. This will attempt to run all of your current cells (until one gets an error) or  all of the cells above the current cell your cursor is on. </font>**\n",
        "\n",
        "</br>\n",
        "\n",
        "\n",
        "Colab can be especially helpful for data science tasks, because it gives you a space to write code, generate/view graphs, and organize your thought process.  For those of you who have used Jupyter before, colab acts a simple browser-based Jupyter notebook. We'll be using colab with Python, but colab can be used with a variety of different coding languages.\n",
        "\n",
        "</br>\n",
        "\n",
        "A Colab notebook (a file like this one) consists of cells, snippets of code or text that you can create, edit, and move around to keep things organized. These cells can be:\n",
        "\n",
        "*   **text cells** 🔠\n",
        "<br>or<br>\n",
        "*   **code cells** 💻\n",
        "\n",
        "You can **double click** <img src='https://miro.medium.com/v2/resize:fit:280/0*oa0XcvM99Y5clDsj.png' alt='mouse cursor images' height='25px'>\n",
        "on a cell in order\n",
        "to edit it.\n",
        "</br>\n",
        "\n",
        "\n"
      ],
      "metadata": {
        "id": "USjEuLQxl3Ym"
      }
    },
    {
      "cell_type": "markdown",
      "source": [
        "----\n",
        "## Text Cells\n",
        "<a name=\"text\"></a>"
      ],
      "metadata": {
        "id": "AX06W4dFhklf"
      }
    },
    {
      "cell_type": "markdown",
      "source": [
        "\n",
        "\n",
        "This is a **text cell**. You can **double-click** to edit this cell. Text cells\n",
        "use markdown syntax. To learn more, see the [markdown\n",
        "guide](/notebooks/markdown_guide.ipynb).\n",
        "\n",
        "You can format text cells by **changing** `the` *font*,  adding:\n",
        "1.   Numbered lists, or\n",
        "*   Bullet points\n",
        "\n",
        "\n",
        "You can even add HTML to your text cells to embed images or add other fun effects.\n",
        "\n",
        "\n",
        "<img src = \"https://freesvg.org/img/icon-html.png\" width=100>\n",
        "\n",
        "\n",
        "You can also add math to text cells using [LaTeX](http://www.latex-project.org/)\n",
        "to be rendered by [MathJax](https://www.mathjax.org). Just place the statement\n",
        "within a pair of **\\$** signs. For example `$\\sqrt{3x-1}+(1+x)^2$` becomes\n",
        "$\\sqrt{3x-1}+(1+x)^2.$ <br><br>\n",
        "To insert a text cell, click on a cell on the page and then click the \"+ Text\" button at the top. Or scroll to the middle of the notebook page before/after a cell and you should see these options appear: <br>\n",
        "<img src=\"https://github.com/tmckim/python-crash-course/blob/main/imgs/ColabAddCodeTextImg.png?raw=1\"/>\n",
        "\n",
        "\n",
        "This will make a text cell directly above or below the cell you are on.\n"
      ],
      "metadata": {
        "id": "0aH6mtO-hYxr"
      }
    },
    {
      "cell_type": "markdown",
      "source": [
        "----\n",
        "## 🧘  0.0 Exercise\n",
        "\n",
        "<a name=\"exercise0.0\"></a>\n"
      ],
      "metadata": {
        "id": "i37UP8ARtIP_"
      }
    },
    {
      "cell_type": "markdown",
      "source": [
        "\n",
        "Make a text cell below this one.\n",
        "\n",
        "In your text cell:\n",
        "\n",
        "1.   Write a one sentence description about yourself, and why you chose to take this workshop.\n",
        "2.   Write one small task or goal you would like to be able to accomplish with Python/Colab after today.\n",
        "3. Using the HTML syntax ```<img src=\"INSERT IMAGE HTML\"> ```, embed the image hosted at:\n",
        "\n",
        "  ```  https://imgs.xkcd.com/comics/future_self.png ```\n",
        "\n",
        "\n"
      ],
      "metadata": {
        "id": "HGz3Q0WYXNiV"
      }
    },
    {
      "cell_type": "markdown",
      "source": [
        "---\n",
        "## Code Cells\n",
        "<a name=\"code-cells\"></a>\n"
      ],
      "metadata": {
        "id": "x7T9TH_6hTaH"
      }
    },
    {
      "cell_type": "markdown",
      "source": [
        "Colab notebooks also consist of **coding cells**, cells that have executable code written in them.\n",
        "\n",
        "To run a coding cell, either:\n",
        "1. Hover over the cell and click the \"play\" ▶ arrow that appears on the left upper corner\n",
        "2. Or click into the cell and then press Ctrl+Enter (or Shift+Return).\n",
        "\n",
        "You should see a check mark if the cell runs successfully ✔.\n",
        "\n",
        "Coding cells can look like the following, where you can see raw code and comments (anything after the #hashtag). <br>"
      ],
      "metadata": {
        "id": "r4HBK2Xqk7PR"
      }
    },
    {
      "cell_type": "code",
      "source": [
        "#@title Task\n",
        "from IPython.display import HTML\n",
        "\n",
        "alert_info = '''\n",
        "<div style= \"font-size: 20px\"; class=\"alert alert-info\" role=\"alert\">\n",
        "  <h4 class=\"alert-heading\">Task</h4>\n",
        "Run the code cell below!\n",
        "</div>\n",
        "'''\n",
        "\n",
        "display(HTML('<link href=\"https://nbviewer.org/static/build/styles.css\" rel=\"stylesheet\">'))\n",
        "display(HTML(alert_info))"
      ],
      "metadata": {
        "colab": {
          "base_uri": "https://localhost:8080/",
          "height": 200
        },
        "cellView": "form",
        "id": "pIzrh15wiD9V",
        "outputId": "2c805729-9221-40b2-e232-77b056917c44"
      },
      "execution_count": null,
      "outputs": [
        {
          "output_type": "display_data",
          "data": {
            "text/plain": [
              "<IPython.core.display.HTML object>"
            ],
            "text/html": [
              "<link href=\"https://nbviewer.org/static/build/styles.css\" rel=\"stylesheet\">"
            ]
          },
          "metadata": {}
        },
        {
          "output_type": "display_data",
          "data": {
            "text/plain": [
              "<IPython.core.display.HTML object>"
            ],
            "text/html": [
              "\n",
              "<div style= \"font-size: 20px\"; class=\"alert alert-info\" role=\"alert\">\n",
              "  <h4 class=\"alert-heading\">Task</h4>\n",
              "Run the code cell below! \n",
              "</div>\n"
            ]
          },
          "metadata": {}
        }
      ]
    },
    {
      "cell_type": "code",
      "source": [
        "n_sections = 3\n",
        "# This is a comment! When there is a # before a line in a coding cell,\n",
        "# python will ignore that line of code, rather than trying to run it.\n",
        "n_exercises_per_section = 3\n",
        "\n",
        "'''\n",
        "You can also\n",
        "write longer\n",
        "comments\n",
        "by using\n",
        "this syntax.\n",
        "'''\n",
        "\n",
        "print(\"Number of exercises in this notebook:\", n_sections*n_exercises_per_section)"
      ],
      "metadata": {
        "id": "g3od8zM4oO-j"
      },
      "execution_count": null,
      "outputs": []
    },
    {
      "cell_type": "markdown",
      "source": [
        "## Hidden Code\n",
        "<a name=\"hidden\"></a>\n",
        "\n",
        "Cells can also look like the following where you can hide code by adding the following line to the top of your cell.\n",
        "\n",
        "`#@title TITLE GOES HERE `.<br>\n",
        "\n",
        "You can click on the arrow **>** at the top left to show the code or on <font color='blue'>`Show code`</font>. You can still run hidden code cells by pushing \"play\" ▶, or clicking into the cell and typing Ctrl+Enter (or Shift+Return). To hide the code once more, double click on the text heading of the cell."
      ],
      "metadata": {
        "id": "AdTyIMXWiur4"
      }
    },
    {
      "cell_type": "code",
      "source": [
        "#@title Hidden Code Example\n",
        "\n",
        "n_sections = 3\n",
        "n_exercises_per_section = 3\n",
        "print(\"Number of exercises in this notebook:\", n_sections*n_exercises_per_section)"
      ],
      "metadata": {
        "cellView": "form",
        "id": "eawADZpUlMbk"
      },
      "execution_count": null,
      "outputs": []
    },
    {
      "cell_type": "markdown",
      "source": [
        "-----\n",
        "## 🏃 0.1 Coding Exercise\n",
        "\n",
        "<a name=\"exercise0.1\"></a>"
      ],
      "metadata": {
        "id": "xB6dwu2VtJUu"
      }
    },
    {
      "cell_type": "code",
      "source": [
        "#@title Task\n",
        "from IPython.display import HTML\n",
        "\n",
        "alert_info = '''\n",
        "<div style= \"font-size: 20px\"; class=\"alert alert-info\" role=\"alert\">\n",
        "  <h4 class=\"alert-heading\">Task</h4>\n",
        "Fill in the following code cell and run it.\n",
        "</div>\n",
        "'''\n",
        "\n",
        "display(HTML('<link href=\"https://nbviewer.org/static/build/styles.css\" rel=\"stylesheet\">'))\n",
        "display(HTML(alert_info))"
      ],
      "metadata": {
        "colab": {
          "base_uri": "https://localhost:8080/",
          "height": 200
        },
        "cellView": "form",
        "id": "tW3CfnuEi_W8",
        "outputId": "a202ae41-b47c-4a31-bf93-5f2f6623a179"
      },
      "execution_count": null,
      "outputs": [
        {
          "output_type": "display_data",
          "data": {
            "text/plain": [
              "<IPython.core.display.HTML object>"
            ],
            "text/html": [
              "<link href=\"https://nbviewer.org/static/build/styles.css\" rel=\"stylesheet\">"
            ]
          },
          "metadata": {}
        },
        {
          "output_type": "display_data",
          "data": {
            "text/plain": [
              "<IPython.core.display.HTML object>"
            ],
            "text/html": [
              "\n",
              "<div style= \"font-size: 20px\"; class=\"alert alert-info\" role=\"alert\">\n",
              "  <h4 class=\"alert-heading\">Task</h4>\n",
              "Fill in the following code cell and run it.\n",
              "</div>\n"
            ]
          },
          "metadata": {}
        }
      ]
    },
    {
      "cell_type": "code",
      "source": [
        "breakfast_yesterday = \"coffee\" ### REPLACE WITH YOUR CODE HERE ###\n",
        "lunch_yesterday = \"chicken salad\" ### REPLACE WITH YOUR CODE HERE ###\n",
        "print(\"I had\", breakfast_yesterday, \"for breakfast\",\n",
        "      \"and\", lunch_yesterday, \"for lunch.\")"
      ],
      "metadata": {
        "id": "x-R7toMPoqfy"
      },
      "execution_count": null,
      "outputs": []
    },
    {
      "cell_type": "markdown",
      "source": [
        "----\n",
        "## 🏋 0.2 Coding Exercise\n",
        "\n",
        "<a name=\"exercise0.2\"></a>"
      ],
      "metadata": {
        "id": "xNDrYyTbtLb1"
      }
    },
    {
      "cell_type": "code",
      "source": [
        "#@title Task\n",
        "from IPython.display import HTML\n",
        "\n",
        "alert_info = '''\n",
        "<div style=\"font-size: 20px;\" class=\"alert alert-info\" role=\"alert\">\n",
        "  <h4 class=\"alert-heading\">Task</h4>\n",
        "  Delete the text cell below, and replace it with a code cell that prints\n",
        "  <a href=\"https://slate.com/technology/2019/10/hello-world-history-programming.html\" target=\"_blank\">\n",
        "    every programmer's first words\n",
        "  </a>:\n",
        "  <br>\n",
        "  <strong>\"Hello, world!\"</strong>\n",
        "</div>\n",
        "'''\n",
        "\n",
        "display(HTML('<link href=\"https://nbviewer.org/static/build/styles.css\" rel=\"stylesheet\">'))\n",
        "display(HTML(alert_info))\n"
      ],
      "metadata": {
        "colab": {
          "base_uri": "https://localhost:8080/",
          "height": 230
        },
        "cellView": "form",
        "id": "922vJxa8kHMD",
        "outputId": "8c80ba47-365b-4d68-a5f3-beb33d025ccd"
      },
      "execution_count": null,
      "outputs": [
        {
          "output_type": "display_data",
          "data": {
            "text/plain": [
              "<IPython.core.display.HTML object>"
            ],
            "text/html": [
              "<link href=\"https://nbviewer.org/static/build/styles.css\" rel=\"stylesheet\">"
            ]
          },
          "metadata": {}
        },
        {
          "output_type": "display_data",
          "data": {
            "text/plain": [
              "<IPython.core.display.HTML object>"
            ],
            "text/html": [
              "\n",
              "<div style=\"font-size: 20px;\" class=\"alert alert-info\" role=\"alert\">\n",
              "  <h4 class=\"alert-heading\">Task</h4>\n",
              "  Delete the text cell below, and replace it with a code cell that prints \n",
              "  <a href=\"https://slate.com/technology/2019/10/hello-world-history-programming.html\" target=\"_blank\">\n",
              "    every programmer's first words\n",
              "  </a>:\n",
              "  <br>\n",
              "  <strong>\"Hello, world!\"</strong>\n",
              "</div>\n"
            ]
          },
          "metadata": {}
        }
      ]
    },
    {
      "cell_type": "markdown",
      "source": [
        "**DELETE ME!**"
      ],
      "metadata": {
        "id": "1oMnCy_VXotp"
      }
    },
    {
      "cell_type": "code",
      "source": [
        "#@title Solution\n",
        "print('Hello, World!')"
      ],
      "metadata": {
        "cellView": "form",
        "id": "0ddYyG3Uv2ka"
      },
      "execution_count": null,
      "outputs": []
    },
    {
      "cell_type": "markdown",
      "source": [
        "______"
      ],
      "metadata": {
        "id": "MWdqpy3CQmAz"
      }
    },
    {
      "cell_type": "markdown",
      "metadata": {
        "id": "ouCqGc10ZbFu"
      },
      "source": [
        "# Section 1: Setup and import files 🧰 🛠\n",
        "<a name=\"section1\"></a>\n",
        "\n",
        "There are several steps we need to do to access the dataset before we can load the file:\n",
        "1. Copy the data file to working memory to run in this notebook\n",
        "2. Check that we have it available to us<br>\n",
        "\n",
        "Other options (backup if the above doesn't work):\n",
        "1. Mount our gdrive (connect to this notebook)\n",
        "2. Fetch the data file from my github repository\n",
        "3. Change into our directory where the file is located\n"
      ]
    },
    {
      "cell_type": "code",
      "source": [
        "#@title Task\n",
        "from IPython.display import HTML\n",
        "\n",
        "alert_info = '''\n",
        "<div style=\"font-size: 20px;\" class=\"alert alert-info\" role=\"alert\">\n",
        "  <h4 class=\"alert-heading\">Task</h4>\n",
        "  We will start by downloading the data file (<code>spotify-2023-clean.csv</code>) to access for today.<br>\n",
        "  Run the cell below. If it works, you should see text that looks like this:\n",
        "</div>\n",
        "'''\n",
        "\n",
        "display(HTML('<link href=\"https://nbviewer.org/static/build/styles.css\" rel=\"stylesheet\">'))\n",
        "display(HTML(alert_info))"
      ],
      "metadata": {
        "colab": {
          "base_uri": "https://localhost:8080/",
          "height": 229
        },
        "cellView": "form",
        "id": "INwps3QOzS84",
        "outputId": "382a98f9-b792-4257-e83c-3be5e0fe4135"
      },
      "execution_count": null,
      "outputs": [
        {
          "output_type": "display_data",
          "data": {
            "text/plain": [
              "<IPython.core.display.HTML object>"
            ],
            "text/html": [
              "<link href=\"https://nbviewer.org/static/build/styles.css\" rel=\"stylesheet\">"
            ]
          },
          "metadata": {}
        },
        {
          "output_type": "display_data",
          "data": {
            "text/plain": [
              "<IPython.core.display.HTML object>"
            ],
            "text/html": [
              "\n",
              "<div style=\"font-size: 20px;\" class=\"alert alert-info\" role=\"alert\">\n",
              "  <h4 class=\"alert-heading\">Task</h4>\n",
              "  We will start by downloading the data file (<code>spotify-2023-clean.csv</code>) to access for today.<br>\n",
              "  Run the cell below. If it works, you should see text that looks like this:\n",
              "</div>\n"
            ]
          },
          "metadata": {}
        }
      ]
    },
    {
      "cell_type": "markdown",
      "source": [
        "\n",
        "<img src=\"https://github.com/tmckim/python-crash-course/blob/main/imgs/FetchFile.png?raw=1\"/>\n"
      ],
      "metadata": {
        "id": "lngrKUrTWqLf"
      }
    },
    {
      "cell_type": "code",
      "source": [
        "### RUN THIS CELL ###\n",
        "\n",
        "!wget --no-check-certificate 'https://docs.google.com/uc?export=download&id=1b99d0ImeJc6XKnj-2wr-7FIh3MhsOjyK' -O spotify-2023-clean.csv"
      ],
      "metadata": {
        "colab": {
          "base_uri": "https://localhost:8080/"
        },
        "id": "APmHfi47m0lA",
        "outputId": "a5add667-2c64-43a7-90a3-b07721cdedb6"
      },
      "execution_count": null,
      "outputs": [
        {
          "output_type": "stream",
          "name": "stdout",
          "text": [
            "--2025-02-15 00:25:30--  https://docs.google.com/uc?export=download&id=1b99d0ImeJc6XKnj-2wr-7FIh3MhsOjyK\n",
            "Resolving docs.google.com (docs.google.com)... 74.125.196.101, 74.125.196.100, 74.125.196.102, ...\n",
            "Connecting to docs.google.com (docs.google.com)|74.125.196.101|:443... connected.\n",
            "HTTP request sent, awaiting response... 303 See Other\n",
            "Location: https://drive.usercontent.google.com/download?id=1b99d0ImeJc6XKnj-2wr-7FIh3MhsOjyK&export=download [following]\n",
            "--2025-02-15 00:25:30--  https://drive.usercontent.google.com/download?id=1b99d0ImeJc6XKnj-2wr-7FIh3MhsOjyK&export=download\n",
            "Resolving drive.usercontent.google.com (drive.usercontent.google.com)... 173.194.217.132, 2607:f8b0:400c:c13::84\n",
            "Connecting to drive.usercontent.google.com (drive.usercontent.google.com)|173.194.217.132|:443... connected.\n",
            "HTTP request sent, awaiting response... 200 OK\n",
            "Length: 104265 (102K) [application/octet-stream]\n",
            "Saving to: ‘spotify-2023-clean.csv’\n",
            "\n",
            "spotify-2023-clean. 100%[===================>] 101.82K  --.-KB/s    in 0.002s  \n",
            "\n",
            "2025-02-15 00:25:33 (61.2 MB/s) - ‘spotify-2023-clean.csv’ saved [104265/104265]\n",
            "\n"
          ]
        }
      ]
    },
    {
      "cell_type": "code",
      "source": [
        "#@title Task\n",
        "from IPython.display import HTML\n",
        "\n",
        "alert_info = '''\n",
        "<div style=\"font-size: 20px;\" class=\"alert alert-info\" role=\"alert\">\n",
        "  <h4 class=\"alert-heading\">Task</h4>\n",
        "  On the left side of the Colab window, click the 📁 icon, and double click on your files to see what the raw data looks like.<br>\n",
        "  You should see a file called <code> spotify-2023-clean.csv</code>.\n",
        "</div>\n",
        "'''\n",
        "\n",
        "display(HTML('<link href=\"https://nbviewer.org/static/build/styles.css\" rel=\"stylesheet\">'))\n",
        "display(HTML(alert_info))"
      ],
      "metadata": {
        "colab": {
          "base_uri": "https://localhost:8080/",
          "height": 229
        },
        "cellView": "form",
        "id": "tFPQfWSanjYI",
        "outputId": "00174551-cac7-421e-e728-c439865a9e72"
      },
      "execution_count": null,
      "outputs": [
        {
          "output_type": "display_data",
          "data": {
            "text/plain": [
              "<IPython.core.display.HTML object>"
            ],
            "text/html": [
              "<link href=\"https://nbviewer.org/static/build/styles.css\" rel=\"stylesheet\">"
            ]
          },
          "metadata": {}
        },
        {
          "output_type": "display_data",
          "data": {
            "text/plain": [
              "<IPython.core.display.HTML object>"
            ],
            "text/html": [
              "\n",
              "<div style=\"font-size: 20px;\" class=\"alert alert-info\" role=\"alert\">\n",
              "  <h4 class=\"alert-heading\">Task</h4>\n",
              "  On the left side of the Colab window, click the 📁 icon, and double click on your files to see what the raw data looks like.<br>\n",
              "  You should see a file called <code> spotify-2023-clean.csv</code>.\n",
              "</div>\n"
            ]
          },
          "metadata": {}
        }
      ]
    },
    {
      "cell_type": "markdown",
      "source": [
        "\n",
        "<img src=\"https://github.com/tmckim/python-crash-course/blob/main/imgs/ColabFiles.png?raw=1\"/>\n"
      ],
      "metadata": {
        "id": "Dwf6tzvoAm9_"
      }
    },
    {
      "cell_type": "markdown",
      "source": [
        "You can also see/double check what has been imported by clicking this link ->(./content/spotify-2023-clean.csv)."
      ],
      "metadata": {
        "id": "Xybt9GasAuvn"
      }
    },
    {
      "cell_type": "code",
      "source": [
        "#@title Alert\n",
        "from IPython.display import HTML\n",
        "\n",
        "alert_info = '''\n",
        "<div class=\"alert alert-block alert-warning\">\n",
        "<div style= \"font-size: 20px\">\n",
        "  <h4 class=\"alert-heading\">Alert</h4>\n",
        "<b>If this was not successful for you, please let us know and we will help troubleshoot!</b>\n",
        "</div>\n",
        "'''\n",
        "\n",
        "\n",
        "display(HTML('<link href=\"https://nbviewer.org/static/build/styles.css\" rel=\"stylesheet\">'))\n",
        "display(HTML(alert_info))"
      ],
      "metadata": {
        "colab": {
          "base_uri": "https://localhost:8080/",
          "height": 201
        },
        "cellView": "form",
        "id": "zg8wBEsaozlW",
        "outputId": "bc07301c-ed50-4e24-fd3f-7d807c412066"
      },
      "execution_count": null,
      "outputs": [
        {
          "output_type": "display_data",
          "data": {
            "text/plain": [
              "<IPython.core.display.HTML object>"
            ],
            "text/html": [
              "<link href=\"https://nbviewer.org/static/build/styles.css\" rel=\"stylesheet\">"
            ]
          },
          "metadata": {}
        },
        {
          "output_type": "display_data",
          "data": {
            "text/plain": [
              "<IPython.core.display.HTML object>"
            ],
            "text/html": [
              "\n",
              "<div class=\"alert alert-block alert-warning\">\n",
              "<div style= \"font-size: 20px\">\n",
              "  <h4 class=\"alert-heading\">Alert</h4>\n",
              "<b>If this was not successful for you, please let us know and we will help troubleshoot!</b>\n",
              "</div>\n"
            ]
          },
          "metadata": {}
        }
      ]
    },
    {
      "cell_type": "markdown",
      "source": [
        "-----\n",
        "## Backup Import of Files From Github- Only needed if above didn't work ^^ 🤞\n",
        "\n",
        "<a name=\"backup\"></a>\n",
        "\n",
        "If the above worked, please skip these steps. If it didn't work, try this out and let us know!"
      ],
      "metadata": {
        "id": "WvGE2jn1XeUt"
      }
    },
    {
      "cell_type": "code",
      "source": [
        "#@title Backup Solution - Step 1\n",
        "# Step 1: Setup and add files needed to access gdrive\n",
        "from google.colab import drive                                   # these lines mount your gdrive to access the files we import below\n",
        "drive.mount('/content/gdrive', force_remount=True)"
      ],
      "metadata": {
        "id": "Zr2ocdIurJjT",
        "cellView": "form"
      },
      "execution_count": null,
      "outputs": []
    },
    {
      "cell_type": "code",
      "source": [
        "#@title Backup Solution - Step 2:4\n",
        "# Step 2: Make a folder to store the files\n",
        "!mkdir -p '/content/gdrive/My Drive/JupyterNotebookIntro_Materials/'\n",
        "\n",
        "# Step 3: Change directory to the correct location in gdrive (modified way to do this from before)\n",
        "import os\n",
        "os.chdir('/content/gdrive/My Drive/JupyterNotebookIntro_Materials/')\n",
        "\n",
        "# Step 4: These lines clone (copy) all the files you will need from where I store the code+data for the course (github)\n",
        "# Second part of the code copies the files to this location and folder in your own gdrive\n",
        "!git clone https://github.com/tmckim/python-crash-course/ '/content/gdrive/My Drive/JupyterNotebookIntro_Materials/'"
      ],
      "metadata": {
        "cellView": "form",
        "id": "SQr-gu6IVv59"
      },
      "execution_count": null,
      "outputs": []
    },
    {
      "cell_type": "code",
      "source": [
        "#@title Backup Solution - Step 5\n",
        "# Step 5\n",
        "# Change directory into the folder where the resources for this assignment are stored in gdrive\n",
        "os.chdir('/content/gdrive/My Drive/JupyterNotebookIntro_Materials/')"
      ],
      "metadata": {
        "cellView": "form",
        "id": "GcKoPHyiVxmG"
      },
      "execution_count": null,
      "outputs": []
    },
    {
      "cell_type": "markdown",
      "source": [
        "---\n",
        "## Backup of the Backup - Only needed if BOTH of the above didn't work ^^ 😅\n",
        "<a name=\"backup2\"></a>"
      ],
      "metadata": {
        "id": "ar7z_pZpYjz4"
      }
    },
    {
      "cell_type": "markdown",
      "source": [
        "If all of the above fails, please follow this [link](https://drive.google.com/file/d/1b99d0ImeJc6XKnj-2wr-7FIh3MhsOjyK/view?usp=drive_link) to download the data file locally to your computer. You can then navigate to the 📁 icon on the left and drag and drop the file there for access.\n",
        "\n",
        "\n"
      ],
      "metadata": {
        "id": "Ivta_-lLZC6n"
      }
    },
    {
      "cell_type": "markdown",
      "source": [
        "----\n",
        "## 📚 Python Libraries\n",
        "<a name=\"pylibs\"></a>\n",
        "\n",
        "Python comes with many useful built in classes and functions - lists, dictionaries, counters, and their associated functions, are some examples. You can accomplish many simple tasks using native Python code.\n",
        "\n",
        "</br>\n",
        "<img src=\"https://cdn.pixabay.com/photo/2016/03/26/22/21/books-1281581_960_720.jpg\" width=600>\n",
        "</br>\n",
        "\n",
        "However, just like in many computer languages, the beauty of Python is that other people have spent much time developing useful code that they have tested robustly and wish to share with others. These are called libraries or packages.  We can import popular packages into the Python/Colab environment and if the package has not already been installed on our version of Python, we can easily install the package and use it.\n",
        "\n",
        "(In Colab, or in a linux environment if you run Python locally, we can easily install new packages using ```!pip install [PYTHON PACKAGE]```)\n",
        "\n",
        "For this Colab notebook we will be working with four packages that typically come pre-installed on most versions of Python. They are:\n",
        "\n",
        "\n",
        "- **[numpy](https://numpy.org/doc/stable/user/index.html)**: A library for working with numerical lists, called arrays\n",
        "- **[pandas](https://pandas.pydata.org/docs/user_guide/index.html)**: A library for working with two dimenional lists, called dataframes\n",
        "- **[matplotlib](https://matplotlib.org/stable/tutorials/index)**: A package for plotting, commonly used in tandem with numpy and pandas\n",
        "- **[seaborn](https://seaborn.pydata.org/tutorial.html)**: A package for plotting, commonly used in tandem with pandas\n",
        "\n",
        "</br><img src=\"https://miro.medium.com/max/765/1*cyXCE-JcBelTyrK-58w6_Q.png\" width=200> <img src=\"https://upload.wikimedia.org/wikipedia/commons/thumb/e/ed/Pandas_logo.svg/1200px-Pandas_logo.svg.png\" width=200> </br><img src=\"https://matplotlib.org/stable/_static/logo_dark.svg\" width=200> <img src=\"https://seaborn.pydata.org/_images/logo-wide-lightbg.svg\" width=200> </br></br>\n",
        "We can import these libraries (or certain classes/functions from these libraries) into our local runtime using the following code. The nicknames I used (`np`, `plt`, `np`, and `sns`) are pretty standard nicknames that most Python programmers use, though you could use anything.\n"
      ],
      "metadata": {
        "id": "EoaaH4EBxGxM"
      }
    },
    {
      "cell_type": "code",
      "source": [
        "#@title Task\n",
        "from IPython.display import HTML\n",
        "\n",
        "alert_info = '''\n",
        "<div style=\"font-size: 20px;\" class=\"alert alert-info\" role=\"alert\">\n",
        "  <h4 class=\"alert-heading\">Task</h4>\n",
        "  Run the cell below to import the relevant libraries.\n",
        "</div>\n",
        "'''\n",
        "\n",
        "display(HTML('<link href=\"https://nbviewer.org/static/build/styles.css\" rel=\"stylesheet\">'))\n",
        "display(HTML(alert_info))"
      ],
      "metadata": {
        "colab": {
          "base_uri": "https://localhost:8080/",
          "height": 200
        },
        "cellView": "form",
        "id": "mt2TJEu5rbsb",
        "outputId": "7f0a9bb5-4501-4a92-d20e-992c6f216d98"
      },
      "execution_count": null,
      "outputs": [
        {
          "output_type": "display_data",
          "data": {
            "text/plain": [
              "<IPython.core.display.HTML object>"
            ],
            "text/html": [
              "<link href=\"https://nbviewer.org/static/build/styles.css\" rel=\"stylesheet\">"
            ]
          },
          "metadata": {}
        },
        {
          "output_type": "display_data",
          "data": {
            "text/plain": [
              "<IPython.core.display.HTML object>"
            ],
            "text/html": [
              "\n",
              "<div style=\"font-size: 20px;\" class=\"alert alert-info\" role=\"alert\">\n",
              "  <h4 class=\"alert-heading\">Task</h4>\n",
              "  Run the cell below to import the relevant libraries.\n",
              "</div>\n"
            ]
          },
          "metadata": {}
        }
      ]
    },
    {
      "cell_type": "code",
      "source": [
        "### RUN THIS CELL ###\n",
        "\n",
        "# Import our plotting package from matplotlib and shorten it to plt\n",
        "import matplotlib.pyplot as plt\n",
        "\n",
        "# Specify that all plots will happen inline & in high resolution\n",
        "%matplotlib inline\n",
        "%config InlineBackend.figure_format = 'retina'\n",
        "\n",
        "# Import pandas for working with databases and shorten it to pd\n",
        "import pandas as pd\n",
        "\n",
        "# Import numpy and shorten it to np\n",
        "import numpy as np\n",
        "\n",
        "# Import plotting package seaborn and shorten to sns\n",
        "import seaborn as sns\n",
        "\n",
        "# Print statement to confirm\n",
        "print('Packages imported!')"
      ],
      "metadata": {
        "id": "f1MikF1-rTDy"
      },
      "execution_count": null,
      "outputs": []
    },
    {
      "cell_type": "code",
      "source": [
        "#@title Task\n",
        "from IPython.display import HTML\n",
        "\n",
        "alert_info = '''\n",
        "<div style=\"font-size: 20px;\" class=\"alert alert-info\" role=\"alert\">\n",
        "  <h4 class=\"alert-heading\">Task</h4>\n",
        "  Run this cell to set formating options. These can be changed according to your preferences.\n",
        "</div>\n",
        "'''\n",
        "\n",
        "display(HTML('<link href=\"https://nbviewer.org/static/build/styles.css\" rel=\"stylesheet\">'))\n",
        "display(HTML(alert_info))"
      ],
      "metadata": {
        "colab": {
          "base_uri": "https://localhost:8080/",
          "height": 200
        },
        "cellView": "form",
        "id": "VC8GWwUers0B",
        "outputId": "ef6ced83-d832-42f8-d98f-7fc60b735286"
      },
      "execution_count": null,
      "outputs": [
        {
          "output_type": "display_data",
          "data": {
            "text/plain": [
              "<IPython.core.display.HTML object>"
            ],
            "text/html": [
              "<link href=\"https://nbviewer.org/static/build/styles.css\" rel=\"stylesheet\">"
            ]
          },
          "metadata": {}
        },
        {
          "output_type": "display_data",
          "data": {
            "text/plain": [
              "<IPython.core.display.HTML object>"
            ],
            "text/html": [
              "\n",
              "<div style=\"font-size: 20px;\" class=\"alert alert-info\" role=\"alert\">\n",
              "  <h4 class=\"alert-heading\">Task</h4>\n",
              "  Run this cell to set formating options. These can be changed according to your preferences.\n",
              "</div>\n"
            ]
          },
          "metadata": {}
        }
      ]
    },
    {
      "cell_type": "markdown",
      "source": [
        "---\n",
        "## 📌 Set (reset) dataframe viewing options\n",
        "\n",
        "<a name=\"set\"></a>\n"
      ],
      "metadata": {
        "id": "Mqb4XbxeKfAY"
      }
    },
    {
      "cell_type": "code",
      "source": [
        "### RUN THIS CELL ###\n",
        "\n",
        "# We want to see all the columns/rows in the dataset\n",
        "pd.set_option('display.max_columns', None)\n",
        "pd.set_option('display.max_rows', None)\n",
        "pd.options.display.float_format = '{:.1f}'.format  # don't use scientific notation"
      ],
      "metadata": {
        "id": "yNJMOnN79OT3"
      },
      "execution_count": null,
      "outputs": []
    },
    {
      "cell_type": "code",
      "source": [
        "#@title Hidden Reset Code\n",
        "# If that's too many rows, you can always reset back to the default (~10)\n",
        "\n",
        "# Optional:\n",
        "pd.reset_option('display.max_rows')\n",
        "\n",
        "# Optional:\n",
        "pd.set_option('display.max_rows', 20)     # Choose your own number!"
      ],
      "metadata": {
        "id": "XBufyewQKNGy",
        "cellView": "form"
      },
      "execution_count": null,
      "outputs": []
    },
    {
      "cell_type": "markdown",
      "source": [
        "---\n",
        "## 📫 Importing Data\n",
        "<a name=\"import\"></a>\n",
        "\n",
        "Read the file from the colab files into your runtime. There are several options for reading a file in, but we will use the `pandas` package (which we imported as `pd`): <br>\n",
        "*   pandas [```read_table()```](https://pandas.pydata.org/docs/reference/api/pandas.read_table.html) or [```read_csv()```](https://pandas.pydata.org/docs/reference/api/pandas.read_csv.html) function, which reads a file with multiple data types into a dataframe.\n"
      ],
      "metadata": {
        "id": "hWQCieaKxr56"
      }
    },
    {
      "cell_type": "code",
      "source": [
        "### RUN THIS CELL ###\n",
        "## Import file (cleaned up)\n",
        "spotify = pd.read_csv('spotify-2023-clean.csv')\n",
        "print('data imported!')"
      ],
      "metadata": {
        "id": "5IfF8kg1l_hk"
      },
      "execution_count": null,
      "outputs": []
    },
    {
      "cell_type": "code",
      "source": [
        "### RUN THIS CELL ###\n",
        "## Type the name of the dataframe to view it\n",
        "spotify"
      ],
      "metadata": {
        "id": "XymDzzg00BhH"
      },
      "execution_count": null,
      "outputs": []
    },
    {
      "cell_type": "code",
      "source": [
        "### RUN THIS CELL ###\n",
        "\n",
        "## Another quick preview of variables\n",
        "spotify.info()"
      ],
      "metadata": {
        "id": "y55rI2ErvzMr"
      },
      "execution_count": null,
      "outputs": []
    },
    {
      "cell_type": "markdown",
      "source": [
        "We have 953 rows (observations) and 24 columns. In the column labeled `Column`, the names of each column are listed and it shows how many non-null values are present, meaning how much data there is. <br>\n",
        "Any difference between this number and the total number of entries (953 shown at the top) indicates there is missing data. <br><br>\n",
        "The last column `Dtype` tells us what type of data you have in each column.<br>\n",
        "You can see here that many are numbers and have no decimals (`int64`) or have decimal values (`float64`).<br>\n",
        "Note that some of our columns that have strings or text values are right now labeled as `object` (first entry). <br>\n",
        "Those can be adjusted to make sure they are strings (we won't cover this today)."
      ],
      "metadata": {
        "id": "KsdhPClsfkss"
      }
    },
    {
      "cell_type": "markdown",
      "source": [
        "---\n",
        "## ❗A Note on Missing Data\n",
        "<a name=\"missing\"></a>\n",
        "\n",
        "We can see that we do have missing data here. Particularly note these 3 columns: `streams`, `in_shazam_charts`, and `key`.  <br>\n",
        "If you go back up and review the table, you will see that missing values are labeled with `NaN`, which stands for `Not a Number`.<br>\n",
        "This is typically a common naming convention to use, and you will see it across datasets. <br><br>\n",
        "Ultimately, when working datasets that have NaNs, you will need to make some decisions on what you do with this data."
      ],
      "metadata": {
        "id": "BHjOwnuWMGdJ"
      }
    },
    {
      "cell_type": "markdown",
      "source": [
        "##  📉 Show me the data\n",
        "<a name=\"show-data\"></a>\n",
        "\n",
        "I know that you don't know much yet about the data, but let's see if you can make some predictions.<br><br>\n",
        "\n",
        "Who do you think might be among the top artists as of 2023? <br><br>\n",
        "\n",
        "And the award 🏆 for the most songs in our dataset goes to 🥁🥁🥁🥁 ....."
      ],
      "metadata": {
        "id": "XRlwDn3WyD8z"
      }
    },
    {
      "cell_type": "code",
      "source": [
        "#@title Task\n",
        "from IPython.display import HTML\n",
        "\n",
        "alert_info = '''\n",
        "<div style=\"font-size: 20px;\" class=\"alert alert-info\" role=\"alert\">\n",
        "  <h4 class=\"alert-heading\">Task</h4>\n",
        "   Run the cell below to see the answer. Notice that it only takes 13 lines of code to produce our plot.<br>\n",
        "  By the end of today, you will be able to understand what this all means- woot! 🙌\n",
        "</div>\n",
        "'''\n",
        "\n",
        "display(HTML('<link href=\"https://nbviewer.org/static/build/styles.css\" rel=\"stylesheet\">'))\n",
        "display(HTML(alert_info))"
      ],
      "metadata": {
        "colab": {
          "base_uri": "https://localhost:8080/",
          "height": 229
        },
        "cellView": "form",
        "id": "s5joYv05vfL9",
        "outputId": "9e8b9512-cbb4-4238-f1d4-3b5dee3dec56"
      },
      "execution_count": null,
      "outputs": [
        {
          "output_type": "display_data",
          "data": {
            "text/plain": [
              "<IPython.core.display.HTML object>"
            ],
            "text/html": [
              "<link href=\"https://nbviewer.org/static/build/styles.css\" rel=\"stylesheet\">"
            ]
          },
          "metadata": {}
        },
        {
          "output_type": "display_data",
          "data": {
            "text/plain": [
              "<IPython.core.display.HTML object>"
            ],
            "text/html": [
              "\n",
              "<div style=\"font-size: 20px;\" class=\"alert alert-info\" role=\"alert\">\n",
              "  <h4 class=\"alert-heading\">Task</h4>\n",
              "   Run the cell below to see the answer. Notice that it only takes 13 lines of code to produce our plot.<br>\n",
              "  By the end of today, you will be able to understand what this all means- woot! 🙌\n",
              "</div>\n"
            ]
          },
          "metadata": {}
        }
      ]
    },
    {
      "cell_type": "code",
      "source": [
        "### RUN THIS CELL ###\n",
        "\n",
        "# set a theme for consistency and format\n",
        "sns.set_theme(style=\"ticks\", font_scale=1.25)                  # set the theme we want in seaborn (sns) - always start with this- only need to do once\n",
        "\n",
        "# This takes the data out of the larger dataset that we need\n",
        "artist_counts = spotify['artist_name'].value_counts()\n",
        "artist_plot = artist_counts.head(15)\n",
        "\n",
        "# Set this text for the plot- easiest to edit here as needed\n",
        "x_label_name = 'Artist Name'                                   # x-axis label text\n",
        "y_label_name = 'Number of Songs'                               # y-axis label text\n",
        "plot_title = 'Top 15 Artists With Most Songs'                  # plot title text\n",
        "\n",
        "# Example of barplot\n",
        "ax = sns.barplot(x = artist_plot.index, y = artist_plot, hue = artist_plot, palette = 'flare')    # this is the main plotting code\n",
        "\n",
        "# Adjustment + aesthetics of plot\n",
        "ax.figure.set_size_inches(6.5, 4.5)                            # this sets the size and we will use to be consistent across all plots below\n",
        "sns.despine()                                                  # remove top and right axes (w/o this, full box border)\n",
        "plt.xlabel(x_label_name)                                       # use matplotlib (plt) to adjust the x axis on this one\n",
        "plt.ylabel(y_label_name)                                       # use matplotlib (plt) to adjust the y axis on this one\n",
        "plt.xticks(rotation=45,ha='right')                             # Rotate x-axis labels for better readability\n",
        "plt.title(plot_title, y=1.1)                                   # add a title so we know what we plotted!\n",
        "plt.ylim(0,40);                                                # use matplotlib (plt) to adjust the y axis limits"
      ],
      "metadata": {
        "id": "8gJsziHVyw0N"
      },
      "execution_count": null,
      "outputs": []
    },
    {
      "cell_type": "markdown",
      "source": [
        "----\n",
        "Did you guess it would be Taylor Swift?\n",
        "\n",
        "<img src=\"https://images.seattletimes.com/wp-content/uploads/2023/07/07222023_swift_210501.jpg?d=768x546\" width=400>\n",
        "</br>"
      ],
      "metadata": {
        "id": "4y8H5PMSjZIx"
      }
    },
    {
      "cell_type": "markdown",
      "source": [
        "---\n",
        "## 🎶 Most Streamed Spotify Songs from 2023 Dataset 🎹\n",
        "\n",
        "<a name=\"dataset\"></a>\n",
        "\n",
        "The data was downloaded from [kaggle](https://www.kaggle.com/datasets/nelgiriyewithana/top-spotify-songs-2023) and has\n",
        "24 columns: <br><br>\n",
        "`track_name`: string, the title or name of the song <br>\n",
        "`artist(s)_name`: string, the name of the artist or group responsible for creating the song\n",
        "<br>\n",
        "`artist_count`: int, number of artists contributing to the song\n",
        "<br>\n",
        "`released_year`: int, the year when the song was released\n",
        "<br>\n",
        "`released_month`: int, the month when the song was released\n",
        "<br>\n",
        "`released_day`: int, the day of the month when the song was released\n",
        "<br>\n",
        "`in_spotify_playlists`: int, the number of Spotify playlists the song is included in\n",
        "<br>\n",
        "`in_spotify_charts`: int, the number to indicate presence and rank of the song on Spotify charts\n",
        "<br>\n",
        "`streams`: int, total number of streams on Spotify (ranges from thousands to billions)\n",
        "<br>\n",
        "`in_apple_playlists`: int, the number of Apple Music playlists the song is included in\n",
        "<br>\n",
        "`in_apple_charts`: int, the number to indicate presence and rank of the song on Apple Music charts\n",
        "<br>\n",
        "`in_deezer_playlists`: int, the number of Deezer  playlists the song is included in\n",
        "<br>\n",
        "`in_deezer_charts`: int, the number to indicate presence and rank of the song on Deezer charts\n",
        "<br>\n",
        "`in_shazam_charts`: int, the number to indicate presence and rank of the song on Shazam charts\n",
        "<br>\n",
        "`bpm`: int, beats per minute (bpm); a measure to indicate song tempo\n",
        "<br>\n",
        "`key`: string, key of the song\n",
        "<br>\n",
        "`mode`: string, mode of the song (major or minor)\n",
        "<br>\n",
        "`danceability_%`: int, percentage indicating how suitable the song is for dancing\n",
        "<br>\n",
        "`valence_%`: int, percentage indicating positivity of the song's musical content\n",
        "<br>\n",
        "`energy_%`: int, percentage indicating the perceived energy level of the song\n",
        "<br>\n",
        "`acousticness_%`: int, percentage indicating the amount of acoustic sound in the song\n",
        "<br>\n",
        "`instrumentalness_%`: int, percentage indicating the amount of instrumental content in the song\n",
        "<br>\n",
        "`liveness_%`: int, percentage indicating the prescence of live performance elements\n",
        "<br>\n",
        "`speechiness_%`: int, percentage indicating the amount of spoken words in the song"
      ],
      "metadata": {
        "id": "V2ufx-F01Q6Z"
      }
    },
    {
      "cell_type": "markdown",
      "source": [
        "---\n",
        "That's it for now! I encourage you to continue working with the dataset and see what you can find out by exploring the data and visualizing it!\n",
        "<br><br>\n",
        "If you want to find out more, this is the dataset we use in my [Python Crash Course](https://github.com/tmckim/python-crash-course) Notebook.\n",
        "<br><br>\n",
        "\n",
        "Google also has resources and notebooks available:\n",
        "\n",
        "\n",
        "*  https://colab.research.google.com/notebooks/basic_features_overview.ipynb\n",
        "*  https://colab.google/notebooks/\n",
        "\n",
        "\n",
        "\n"
      ],
      "metadata": {
        "id": "GORVRfjbbSvD"
      }
    },
    {
      "cell_type": "markdown",
      "source": [
        "---\n",
        "# Plotting with Seaborn 📊 (and Matplotlib)"
      ],
      "metadata": {
        "id": "U_2vGwAGRAgZ"
      }
    },
    {
      "cell_type": "markdown",
      "source": [
        "<img src=\"https://upload.wikimedia.org/wikipedia/commons/8/87/Beauty_in_magic_square.png\" width=1000>\n",
        "\n",
        "[Seaborn](https://seaborn.pydata.org/) is a library for data visualization and figure making. Seaborn works very well with `pandas` dataframes, and you can modify the appearances of your plots using similar settings to how we did it in `numpy`. It can also work together with `matplotlib`. <br> In `seaborn`, we:<br>\n",
        "(1) decide what plotting function to use, <br>\n",
        "(2) pass the function a **full dataframe**, <br>\n",
        "(3) specify which columns in our dataframe we want to use as our x-axis, y-axis, colors, etc. and <br>\n",
        "(4) specify any additional parameters specific to the plotting function. <br>\n",
        "\n",
        "\n",
        "```\n",
        "sns.PLOT_FUNCTION(\n",
        "    data=YOUR_DATA,\n",
        "    x='COL TO USE FOR X',\n",
        "    y='COL TO USE FOR Y',\n",
        "    hue = 'COL YOU WANT TO SET COLOR ACCORDING TO',\n",
        "    additional params=...)\n",
        "```"
      ],
      "metadata": {
        "id": "AF4Vq_tqRFoY"
      }
    },
    {
      "cell_type": "markdown",
      "source": [
        "---\n",
        "## 💁 A Few Tips on Data Visualization\n",
        "<a name=\"data-viz\"></a>\n",
        "\n",
        "Although there are many reviews and studies discussing [best practices for figures](https://journals.plos.org/ploscompbiol/article?id=10.1371/journal.pcbi.1003833), we will list a couple of `pandas` plots you can utilize when you wish to visualize various relationships:\n",
        "\n",
        "**Visualizing a single variable**\n",
        "- Histogram (```sns.hist()```)\n",
        "- Barplot, i.e. for counts of a single variable (```sns.bar()```)\n",
        "\n",
        "**Visualizing multiple numeric variables**\n",
        "- Scatter plot/line graph (```sns.scatter```)\n",
        "- 2d histogram plot (```sns.jointplot()```)\n",
        "\n",
        "**Visualizing categorial & numerical variable**\n",
        "- Violinplot/Boxplot (```sns.violinplot()```, ```sns.boxplot()```)\n",
        "- Stripplot or swarm plot (```sns.stripplot()```, ```sns.swarmplot()```)\n",
        "- Barplot (```sns.barplot()```, ```sns.boxplot()```)\n",
        "\n",
        "**Visualizing two categorical variables**\n",
        "- Heatmap (```sns.heatmap()```)<br><br>\n",
        "\n",
        "\n",
        "To visualize 3 variables, consider encoding one variable as the color. To visualize 4+ variables, consider using [facetgrid](https://seaborn.pydata.org/generated/seaborn.FacetGrid.html)."
      ],
      "metadata": {
        "id": "OvnSjUwLRJdA"
      }
    },
    {
      "cell_type": "markdown",
      "source": [
        "----\n",
        "# Post Workshop Survey\n",
        "<a name=\"post-survey\"></a>\n",
        "\n",
        "We would appreciate if you could take a few minutes to complete the survey at the end of the session to give us some feedback!\n"
      ],
      "metadata": {
        "id": "7MYFERflRfac"
      }
    },
    {
      "cell_type": "markdown",
      "source": [
        "-----\n",
        "# Just for fun 🎧\n",
        "<a name=\"fun\"></a>\n",
        "Read about some of the top [trends from 2023 on Spotify](https://newsroom.spotify.com/2023-11-29/top-songs-artists-podcasts-albums-trends-2023/). Do you recognize any of these names from our dataset?\n"
      ],
      "metadata": {
        "id": "LhuWWeq1wZui"
      }
    },
    {
      "cell_type": "markdown",
      "source": [
        "---\n",
        "# Technical Notes and Credits 👏 🙏\n",
        "<a name=\"credits\"></a>\n",
        "\n",
        "* The exercises for this notebook were adapted from resources available from the [Python for Supervised Machine Learning Bootcamp](https://nevadainbre.github.io/bootcamp-supervised-ml-2023-01.html) and Dr. Brianna Chrisman.\n",
        "\n",
        "* Thanks to the Data Science Initiative at UNR, supported by a Nevada INBRE supplemental award for Building Data Science Capacity, along with Research & Innovation for supporting this workshop during the [Data Science Conference](https://www.unr.edu/bioinformatics/training-events/data-science-conference).\n",
        "* Thanks also to the sponsors including AWS and IBM.\n",
        "* Shout out and special thanks to Dr. Juli Petereit (Director of Nevada Bioinformatics Center) for her support and hard work on putting all of this together.\n"
      ],
      "metadata": {
        "id": "gCQnX4WrnJrx"
      }
    },
    {
      "cell_type": "code",
      "source": [],
      "metadata": {
        "id": "4tMELs99clpC"
      },
      "execution_count": null,
      "outputs": []
    }
  ]
}